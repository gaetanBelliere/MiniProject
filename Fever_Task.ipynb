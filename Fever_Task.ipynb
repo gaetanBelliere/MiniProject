{
 "cells": [
  {
   "cell_type": "markdown",
   "metadata": {},
   "source": [
    "# Fact Extraction and VERification task"
   ]
  },
  {
   "cell_type": "code",
   "execution_count": 1,
   "metadata": {},
   "outputs": [],
   "source": [
    "import os\n",
    "import numpy as np\n",
    "import pandas as pd\n",
    "import json\n",
    "import string\n",
    "from tqdm import tqdm\n",
    "import tensorflow as tf\n",
    "from tensorflow import keras\n",
    "from keras_preprocessing import sequence, text\n",
    "import wikipedia"
   ]
  },
  {
   "cell_type": "code",
   "execution_count": 2,
   "metadata": {},
   "outputs": [],
   "source": [
    "#If the file is downloaded to the format .json1 you have to rename the file and remove the \"1\" at the end.\n",
    "#Otherwise it's impossible to read the file\n",
    "datafile_fever = 'data/train.json'\n",
    "datafile_shared_task = 'data/shared_task_dev.json'\n",
    "wiki_pages_folder = 'data/wiki-pages'"
   ]
  },
  {
   "cell_type": "code",
   "execution_count": 3,
   "metadata": {},
   "outputs": [
    {
     "data": {
      "text/plain": [
       "(145449, 5)"
      ]
     },
     "execution_count": 3,
     "metadata": {},
     "output_type": "execute_result"
    }
   ],
   "source": [
    "df_train = pd.read_json(datafile_fever, lines=True)#,orient='table')\n",
    "df_train.shape"
   ]
  },
  {
   "cell_type": "code",
   "execution_count": 4,
   "metadata": {},
   "outputs": [
    {
     "data": {
      "text/plain": [
       "(19998, 5)"
      ]
     },
     "execution_count": 4,
     "metadata": {},
     "output_type": "execute_result"
    }
   ],
   "source": [
    "df_task = pd.read_json(datafile_shared_task, lines=True)\n",
    "df_task.shape"
   ]
  },
  {
   "cell_type": "markdown",
   "metadata": {},
   "source": [
    "## Data exploration"
   ]
  },
  {
   "cell_type": "code",
   "execution_count": 5,
   "metadata": {},
   "outputs": [
    {
     "data": {
      "text/plain": [
       "SUPPORTS           80035\n",
       "NOT ENOUGH INFO    35639\n",
       "REFUTES            29775\n",
       "Name: label, dtype: int64"
      ]
     },
     "execution_count": 5,
     "metadata": {},
     "output_type": "execute_result"
    }
   ],
   "source": [
    "df_train['label'].value_counts()"
   ]
  },
  {
   "cell_type": "code",
   "execution_count": 7,
   "metadata": {},
   "outputs": [
    {
     "data": {
      "text/plain": [
       "0.24063417417789054"
      ]
     },
     "execution_count": 7,
     "metadata": {},
     "output_type": "execute_result"
    }
   ],
   "source": [
    "35000/(80035+35639+29775)"
   ]
  },
  {
   "cell_type": "code",
   "execution_count": 14,
   "metadata": {},
   "outputs": [
    {
     "data": {
      "text/html": [
       "<div>\n",
       "<style scoped>\n",
       "    .dataframe tbody tr th:only-of-type {\n",
       "        vertical-align: middle;\n",
       "    }\n",
       "\n",
       "    .dataframe tbody tr th {\n",
       "        vertical-align: top;\n",
       "    }\n",
       "\n",
       "    .dataframe thead th {\n",
       "        text-align: right;\n",
       "    }\n",
       "</style>\n",
       "<table border=\"1\" class=\"dataframe\">\n",
       "  <thead>\n",
       "    <tr style=\"text-align: right;\">\n",
       "      <th></th>\n",
       "      <th>id</th>\n",
       "      <th>verifiable</th>\n",
       "      <th>label</th>\n",
       "      <th>claim</th>\n",
       "      <th>evidence</th>\n",
       "    </tr>\n",
       "  </thead>\n",
       "  <tbody>\n",
       "    <tr>\n",
       "      <td>0</td>\n",
       "      <td>75397</td>\n",
       "      <td>VERIFIABLE</td>\n",
       "      <td>SUPPORTS</td>\n",
       "      <td>Nikolaj Coster-Waldau worked with the Fox Broa...</td>\n",
       "      <td>[[[92206, 104971, Nikolaj_Coster-Waldau, 7], [...</td>\n",
       "    </tr>\n",
       "    <tr>\n",
       "      <td>1</td>\n",
       "      <td>150448</td>\n",
       "      <td>VERIFIABLE</td>\n",
       "      <td>SUPPORTS</td>\n",
       "      <td>Roman Atwood is a content creator.</td>\n",
       "      <td>[[[174271, 187498, Roman_Atwood, 1]], [[174271...</td>\n",
       "    </tr>\n",
       "    <tr>\n",
       "      <td>2</td>\n",
       "      <td>214861</td>\n",
       "      <td>VERIFIABLE</td>\n",
       "      <td>SUPPORTS</td>\n",
       "      <td>History of art includes architecture, dance, s...</td>\n",
       "      <td>[[[255136, 254645, History_of_art, 2]]]</td>\n",
       "    </tr>\n",
       "    <tr>\n",
       "      <td>3</td>\n",
       "      <td>156709</td>\n",
       "      <td>VERIFIABLE</td>\n",
       "      <td>REFUTES</td>\n",
       "      <td>Adrienne Bailon is an accountant.</td>\n",
       "      <td>[[[180804, 193183, Adrienne_Bailon, 0]]]</td>\n",
       "    </tr>\n",
       "    <tr>\n",
       "      <td>4</td>\n",
       "      <td>83235</td>\n",
       "      <td>NOT VERIFIABLE</td>\n",
       "      <td>NOT ENOUGH INFO</td>\n",
       "      <td>System of a Down briefly disbanded in limbo.</td>\n",
       "      <td>[[[100277, None, None, None]]]</td>\n",
       "    </tr>\n",
       "  </tbody>\n",
       "</table>\n",
       "</div>"
      ],
      "text/plain": [
       "       id      verifiable            label  \\\n",
       "0   75397      VERIFIABLE         SUPPORTS   \n",
       "1  150448      VERIFIABLE         SUPPORTS   \n",
       "2  214861      VERIFIABLE         SUPPORTS   \n",
       "3  156709      VERIFIABLE          REFUTES   \n",
       "4   83235  NOT VERIFIABLE  NOT ENOUGH INFO   \n",
       "\n",
       "                                               claim  \\\n",
       "0  Nikolaj Coster-Waldau worked with the Fox Broa...   \n",
       "1                 Roman Atwood is a content creator.   \n",
       "2  History of art includes architecture, dance, s...   \n",
       "3                  Adrienne Bailon is an accountant.   \n",
       "4       System of a Down briefly disbanded in limbo.   \n",
       "\n",
       "                                            evidence  \n",
       "0  [[[92206, 104971, Nikolaj_Coster-Waldau, 7], [...  \n",
       "1  [[[174271, 187498, Roman_Atwood, 1]], [[174271...  \n",
       "2            [[[255136, 254645, History_of_art, 2]]]  \n",
       "3           [[[180804, 193183, Adrienne_Bailon, 0]]]  \n",
       "4                     [[[100277, None, None, None]]]  "
      ]
     },
     "execution_count": 14,
     "metadata": {},
     "output_type": "execute_result"
    }
   ],
   "source": [
    "df_train.head()"
   ]
  },
  {
   "cell_type": "code",
   "execution_count": 59,
   "metadata": {},
   "outputs": [],
   "source": [
    "def find_possibleFiles(firstLetter):\n",
    "    if firstLetter == '0' or firstLetter =='1' or firstLetter =='2' or firstLetter =='3' or firstLetter =='4' or firstLetter =='5' or firstLetter =='6' or firstLetter =='7' or firstLetter =='8' or firstLetter =='9':\n",
    "        return [1,2,3,4,5,6,7]\n",
    "    elif firstLetter == 'A':\n",
    "        return [5,6,7,8,9,10,11,12,13]\n",
    "    elif firstLetter == 'B':\n",
    "        return [11,12,13,14,15,16,17,18,19,20]\n",
    "    elif firstLetter == 'C':\n",
    "        return [18,19,20,21,22,23,24,25,26]\n",
    "    elif firstLetter == 'D':\n",
    "        return [24,25,26,27,28,29,30,31]\n",
    "    elif firstLetter == 'E':\n",
    "        return [29,30,31,32,33,34,35]\n",
    "    elif firstLetter == 'F':\n",
    "        return [33,34,35,36,37]\n",
    "    elif firstLetter == 'G':\n",
    "        return [35,36,37,38,39,40,41,42]\n",
    "    elif firstLetter == 'H':\n",
    "        return [39,40,41,42,43,44,45,46]\n",
    "    elif firstLetter == 'I':\n",
    "        return [44,45,46,47,48]\n",
    "    elif firstLetter == 'J':\n",
    "        return [46,47,48,49,50,51,52]\n",
    "    elif firstLetter == 'K':\n",
    "        return [50,51,52,53,54,55,56,57]\n",
    "    elif firstLetter == 'L':\n",
    "        return [55,56,57,58,59,60,61,62,63]\n",
    "    elif firstLetter == 'M':\n",
    "        return [61,62,63,64,65,66,67,68,69,70]\n",
    "    elif firstLetter == 'N':\n",
    "        return [68,69,70,71,72,73,74]\n",
    "    elif firstLetter == 'O':\n",
    "        return [72,73,74,75,76]\n",
    "    elif firstLetter == 'P':\n",
    "        return [74,75,76,77,78,79,80,81]\n",
    "    elif firstLetter == 'Q':\n",
    "        return [79,80,81]\n",
    "    elif firstLetter == 'R':\n",
    "        return [79,80,81,82,83,84,85]\n",
    "    elif firstLetter == 'S':\n",
    "        return [85,86,87,88,89,90,91,92,93,94,95,96]\n",
    "    elif firstLetter == 'T':\n",
    "        return [94,95,96,97,98,99,100,101,102]\n",
    "    elif firstLetter == 'U':\n",
    "        return [100,101,102]\n",
    "    elif firstLetter == 'V':\n",
    "        return [100,101,102,103,104]\n",
    "    elif firstLetter == 'W':\n",
    "        return [102,103,104,105,106,107,108]\n",
    "    elif firstLetter == 'X':\n",
    "        return [107,108]\n",
    "    elif firstLetter == 'Y':\n",
    "        return [107,108]\n",
    "    elif firstLetter == 'Z':\n",
    "        return [107,108]"
   ]
  },
  {
   "cell_type": "code",
   "execution_count": 61,
   "metadata": {},
   "outputs": [],
   "source": [
    "def train_findEvidence():\n",
    "    sub = pd.DataFrame()\n",
    "    for nb_rows in tqdm(range(len(df_train['evidence'][0:5]))):\n",
    "        row_over = False\n",
    "        while row_over != True:\n",
    "            if df_train['verifiable'][nb_rows] == 'NOT VERIFIABLE':\n",
    "                row_over = True\n",
    "            else:\n",
    "                for nb_evidence in range(len(df_train['evidence'][nb_rows])):\n",
    "                    for nb_sentences in range(len(df_train['evidence'][nb_rows][nb_evidence])):\n",
    "                        #print(df_train['evidence'][nb_rows][nb_evidence][nb_sentences][2][0])\n",
    "                        possible_files = find_possibleFiles(df_train['evidence'][nb_rows][nb_evidence][nb_sentences][2][0])\n",
    "                        #print(possible_files)\n",
    "                    for nb_files in range(len(possible_files)):\n",
    "                        if possible_files[nb_files]<10 and possible_files[nb_files]>=1:\n",
    "                            article = \"00\"+str(possible_files[nb_files])\n",
    "                        elif possible_files[nb_files]>9 and possible_files[nb_files]<100:\n",
    "                            article = \"0\"+str(possible_files[nb_files])\n",
    "                        else:\n",
    "                            article = str(possible_files[nb_files])\n",
    "                        wiki_file = pd.read_json(wiki_pages_folder+'/wiki-'+article+'.json', lines=True)\n",
    "                        for articles in range(len(wiki_file['id'])):\n",
    "                            if wiki_file['id'][articles]==df_train['evidence'][nb_rows][nb_evidence][nb_sentences][2]:\n",
    "                                #print(wiki_file['id'][articles])\n",
    "                                \n",
    "                                break\n",
    "                row_over = True\n",
    "    return 0"
   ]
  },
  {
   "cell_type": "code",
   "execution_count": 62,
   "metadata": {},
   "outputs": [
    {
     "name": "stderr",
     "output_type": "stream",
     "text": [
      "\n",
      "  0%|          | 0/5 [00:00<?, ?it/s]"
     ]
    },
    {
     "name": "stdout",
     "output_type": "stream",
     "text": [
      "Fox_Broadcasting_Company\n"
     ]
    },
    {
     "name": "stderr",
     "output_type": "stream",
     "text": [
      "\n",
      " 20%|██        | 1/5 [00:14<00:58, 14.74s/it]"
     ]
    },
    {
     "name": "stdout",
     "output_type": "stream",
     "text": [
      "Roman_Atwood\n",
      "Roman_Atwood\n"
     ]
    },
    {
     "name": "stderr",
     "output_type": "stream",
     "text": [
      "\n",
      " 40%|████      | 2/5 [00:52<01:05, 21.74s/it]"
     ]
    },
    {
     "name": "stdout",
     "output_type": "stream",
     "text": [
      "History_of_art\n"
     ]
    },
    {
     "name": "stderr",
     "output_type": "stream",
     "text": [
      "\n",
      " 60%|██████    | 3/5 [01:14<00:43, 21.77s/it]"
     ]
    },
    {
     "name": "stdout",
     "output_type": "stream",
     "text": [
      "Adrienne_Bailon\n"
     ]
    },
    {
     "name": "stderr",
     "output_type": "stream",
     "text": [
      "\n",
      "100%|██████████| 5/5 [01:39<00:00, 19.92s/it]\n"
     ]
    },
    {
     "data": {
      "text/plain": [
       "0"
      ]
     },
     "execution_count": 62,
     "metadata": {},
     "output_type": "execute_result"
    }
   ],
   "source": [
    "train_findEvidence()"
   ]
  },
  {
   "cell_type": "markdown",
   "metadata": {},
   "source": [
    "# Creation of a redeuced SNLI csv file"
   ]
  },
  {
   "cell_type": "markdown",
   "metadata": {},
   "source": [
    "## Not able to retrieve sentences from FEVER, so use an other dataset"
   ]
  },
  {
   "cell_type": "code",
   "execution_count": 77,
   "metadata": {},
   "outputs": [
    {
     "data": {
      "text/plain": [
       "(550152, 10)"
      ]
     },
     "execution_count": 77,
     "metadata": {},
     "output_type": "execute_result"
    }
   ],
   "source": [
    "snli_train = 'data/snli/snli_train.json'\n",
    "df_snli = pd.read_json(snli_train, lines=True)#,orient='table')\n",
    "df_snli.shape"
   ]
  },
  {
   "cell_type": "code",
   "execution_count": 78,
   "metadata": {},
   "outputs": [],
   "source": [
    "df_snli= df_snli.drop(['captionID', 'annotator_labels','pairID','sentence1_binary_parse','sentence1_parse','sentence2_binary_parse','sentence2_parse'], axis=1)"
   ]
  },
  {
   "cell_type": "code",
   "execution_count": 79,
   "metadata": {},
   "outputs": [
    {
     "data": {
      "text/html": [
       "<div>\n",
       "<style scoped>\n",
       "    .dataframe tbody tr th:only-of-type {\n",
       "        vertical-align: middle;\n",
       "    }\n",
       "\n",
       "    .dataframe tbody tr th {\n",
       "        vertical-align: top;\n",
       "    }\n",
       "\n",
       "    .dataframe thead th {\n",
       "        text-align: right;\n",
       "    }\n",
       "</style>\n",
       "<table border=\"1\" class=\"dataframe\">\n",
       "  <thead>\n",
       "    <tr style=\"text-align: right;\">\n",
       "      <th></th>\n",
       "      <th>gold_label</th>\n",
       "      <th>sentence1</th>\n",
       "      <th>sentence2</th>\n",
       "    </tr>\n",
       "  </thead>\n",
       "  <tbody>\n",
       "    <tr>\n",
       "      <td>0</td>\n",
       "      <td>neutral</td>\n",
       "      <td>A person on a horse jumps over a broken down a...</td>\n",
       "      <td>A person is training his horse for a competition.</td>\n",
       "    </tr>\n",
       "    <tr>\n",
       "      <td>1</td>\n",
       "      <td>contradiction</td>\n",
       "      <td>A person on a horse jumps over a broken down a...</td>\n",
       "      <td>A person is at a diner, ordering an omelette.</td>\n",
       "    </tr>\n",
       "    <tr>\n",
       "      <td>2</td>\n",
       "      <td>entailment</td>\n",
       "      <td>A person on a horse jumps over a broken down a...</td>\n",
       "      <td>A person is outdoors, on a horse.</td>\n",
       "    </tr>\n",
       "    <tr>\n",
       "      <td>3</td>\n",
       "      <td>neutral</td>\n",
       "      <td>Children smiling and waving at camera</td>\n",
       "      <td>They are smiling at their parents</td>\n",
       "    </tr>\n",
       "    <tr>\n",
       "      <td>4</td>\n",
       "      <td>entailment</td>\n",
       "      <td>Children smiling and waving at camera</td>\n",
       "      <td>There are children present</td>\n",
       "    </tr>\n",
       "  </tbody>\n",
       "</table>\n",
       "</div>"
      ],
      "text/plain": [
       "      gold_label                                          sentence1  \\\n",
       "0        neutral  A person on a horse jumps over a broken down a...   \n",
       "1  contradiction  A person on a horse jumps over a broken down a...   \n",
       "2     entailment  A person on a horse jumps over a broken down a...   \n",
       "3        neutral              Children smiling and waving at camera   \n",
       "4     entailment              Children smiling and waving at camera   \n",
       "\n",
       "                                           sentence2  \n",
       "0  A person is training his horse for a competition.  \n",
       "1      A person is at a diner, ordering an omelette.  \n",
       "2                  A person is outdoors, on a horse.  \n",
       "3                  They are smiling at their parents  \n",
       "4                         There are children present  "
      ]
     },
     "execution_count": 79,
     "metadata": {},
     "output_type": "execute_result"
    }
   ],
   "source": [
    "df_snli.head()"
   ]
  },
  {
   "cell_type": "code",
   "execution_count": 82,
   "metadata": {},
   "outputs": [],
   "source": [
    "df_snli.to_csv('data/train_snli.csv')"
   ]
  },
  {
   "cell_type": "code",
   "execution_count": 83,
   "metadata": {},
   "outputs": [
    {
     "data": {
      "text/plain": [
       "entailment       183416\n",
       "contradiction    183187\n",
       "neutral          182764\n",
       "-                   785\n",
       "Name: gold_label, dtype: int64"
      ]
     },
     "execution_count": 83,
     "metadata": {},
     "output_type": "execute_result"
    }
   ],
   "source": [
    "df_snli['gold_label'].value_counts()"
   ]
  },
  {
   "cell_type": "code",
   "execution_count": null,
   "metadata": {},
   "outputs": [],
   "source": []
  }
 ],
 "metadata": {
  "kernelspec": {
   "display_name": "Python 3",
   "language": "python",
   "name": "python3"
  },
  "language_info": {
   "codemirror_mode": {
    "name": "ipython",
    "version": 3
   },
   "file_extension": ".py",
   "mimetype": "text/x-python",
   "name": "python",
   "nbconvert_exporter": "python",
   "pygments_lexer": "ipython3",
   "version": "3.7.4"
  }
 },
 "nbformat": 4,
 "nbformat_minor": 2
}
