{
  "nbformat": 4,
  "nbformat_minor": 0,
  "metadata": {
    "kernelspec": {
      "name": "python3",
      "display_name": "Python 3"
    },
    "language_info": {
      "codemirror_mode": {
        "name": "ipython",
        "version": 3
      },
      "file_extension": ".py",
      "mimetype": "text/x-python",
      "name": "python",
      "nbconvert_exporter": "python",
      "pygments_lexer": "ipython3",
      "version": "3.7.4"
    },
    "colab": {
      "name": "Copie de Textual entailment task.ipynb",
      "provenance": [],
      "collapsed_sections": [],
      "toc_visible": true,
      "machine_shape": "hm"
    },
    "accelerator": "GPU"
  },
  "cells": [
    {
      "cell_type": "code",
      "metadata": {
        "id": "RXr-rmbvLAKy",
        "colab_type": "code",
        "outputId": "4a536f74-8a51-4974-c580-2b2230085d40",
        "colab": {
          "base_uri": "https://localhost:8080/",
          "height": 34
        }
      },
      "source": [
        "from google.colab import drive\n",
        "drive.mount('/content/drive')"
      ],
      "execution_count": 0,
      "outputs": [
        {
          "output_type": "stream",
          "text": [
            "Drive already mounted at /content/drive; to attempt to forcibly remount, call drive.mount(\"/content/drive\", force_remount=True).\n"
          ],
          "name": "stdout"
        }
      ]
    },
    {
      "cell_type": "markdown",
      "metadata": {
        "id": "MrwgCzkl67Qc",
        "colab_type": "text"
      },
      "source": [
        "# Textual entailment task"
      ]
    },
    {
      "cell_type": "code",
      "metadata": {
        "id": "NV5TEvZ_67Qe",
        "colab_type": "code",
        "outputId": "2dab4dba-9541-440f-ca10-afe7cd311cd6",
        "colab": {
          "base_uri": "https://localhost:8080/",
          "height": 34
        }
      },
      "source": [
        "import os\n",
        "import numpy as np\n",
        "import csv\n",
        "import matplotlib.pyplot as plt\n",
        "import pandas as pd\n",
        "import json\n",
        "import string\n",
        "import collections\n",
        "import itertools\n",
        "from tqdm import tqdm\n",
        "import tensorflow as tf\n",
        "from tensorflow import keras\n",
        "from keras_preprocessing import sequence, text\n",
        "from tensorboard.plugins.hparams import api as hp\n",
        "import tensorflow.keras.backend as K\n",
        "from nltk.corpus import stopwords\n",
        "from keras.preprocessing.text import Tokenizer\n",
        "from keras.preprocessing.sequence import pad_sequences"
      ],
      "execution_count": 0,
      "outputs": [
        {
          "output_type": "stream",
          "text": [
            "Using TensorFlow backend.\n"
          ],
          "name": "stderr"
        }
      ]
    },
    {
      "cell_type": "code",
      "metadata": {
        "id": "DwXosmNO67Qk",
        "colab_type": "code",
        "outputId": "185af87a-89b8-405d-f9d4-9e728bf702f7",
        "colab": {
          "base_uri": "https://localhost:8080/",
          "height": 34
        }
      },
      "source": [
        "print(\"Num GPUs Available: \", len(tf.config.experimental.list_physical_devices('GPU')))"
      ],
      "execution_count": 0,
      "outputs": [
        {
          "output_type": "stream",
          "text": [
            "Num GPUs Available:  1\n"
          ],
          "name": "stdout"
        }
      ]
    },
    {
      "cell_type": "code",
      "metadata": {
        "id": "GcczbPzF67Qu",
        "colab_type": "code",
        "outputId": "0ec48524-f7c6-4e78-bf64-93dd130ef8de",
        "colab": {
          "base_uri": "https://localhost:8080/",
          "height": 34
        }
      },
      "source": [
        "datafile_train = '/content/drive/My Drive/Colab Notebooks/train.csv'\n",
        "df_train = pd.read_csv(datafile_train, index_col='id').sort_index()\n",
        "df_train.shape"
      ],
      "execution_count": 0,
      "outputs": [
        {
          "output_type": "execute_result",
          "data": {
            "text/plain": [
              "(320552, 7)"
            ]
          },
          "metadata": {
            "tags": []
          },
          "execution_count": 4
        }
      ]
    },
    {
      "cell_type": "code",
      "metadata": {
        "id": "VYTQQ8ID67Qy",
        "colab_type": "code",
        "outputId": "33ad2ead-29f7-46fd-e17b-b4603f98f88c",
        "colab": {
          "base_uri": "https://localhost:8080/",
          "height": 34
        }
      },
      "source": [
        "df_test = pd.read_csv('/content/drive/My Drive/Colab Notebooks/test.csv', index_col='id')\n",
        "df_test.shape"
      ],
      "execution_count": 0,
      "outputs": [
        {
          "output_type": "execute_result",
          "data": {
            "text/plain": [
              "(80126, 6)"
            ]
          },
          "metadata": {
            "tags": []
          },
          "execution_count": 5
        }
      ]
    },
    {
      "cell_type": "code",
      "metadata": {
        "id": "1aII1ZuMgdrG",
        "colab_type": "code",
        "outputId": "36d8cfb4-36f2-4395-acea-aee4568cc782",
        "colab": {
          "base_uri": "https://localhost:8080/",
          "height": 34
        }
      },
      "source": [
        "df_snli = pd.read_csv('/content/drive/My Drive/Colab Notebooks/train_snli.csv')\n",
        "df_snli.shape"
      ],
      "execution_count": 0,
      "outputs": [
        {
          "output_type": "execute_result",
          "data": {
            "text/plain": [
              "(550152, 4)"
            ]
          },
          "metadata": {
            "tags": []
          },
          "execution_count": 39
        }
      ]
    },
    {
      "cell_type": "markdown",
      "metadata": {
        "id": "fGLp_NRv67Q1",
        "colab_type": "text"
      },
      "source": [
        "# Data exploration"
      ]
    },
    {
      "cell_type": "code",
      "metadata": {
        "id": "jfIbCYm0YaTm",
        "colab_type": "code",
        "outputId": "6b8306f4-8d81-4a07-e557-09f4e9cc8d94",
        "colab": {
          "base_uri": "https://localhost:8080/",
          "height": 405
        }
      },
      "source": [
        "df_train.head()"
      ],
      "execution_count": 0,
      "outputs": [
        {
          "output_type": "execute_result",
          "data": {
            "text/html": [
              "<div>\n",
              "<style scoped>\n",
              "    .dataframe tbody tr th:only-of-type {\n",
              "        vertical-align: middle;\n",
              "    }\n",
              "\n",
              "    .dataframe tbody tr th {\n",
              "        vertical-align: top;\n",
              "    }\n",
              "\n",
              "    .dataframe thead th {\n",
              "        text-align: right;\n",
              "    }\n",
              "</style>\n",
              "<table border=\"1\" class=\"dataframe\">\n",
              "  <thead>\n",
              "    <tr style=\"text-align: right;\">\n",
              "      <th></th>\n",
              "      <th>tid1</th>\n",
              "      <th>tid2</th>\n",
              "      <th>title1_zh</th>\n",
              "      <th>title2_zh</th>\n",
              "      <th>title1_en</th>\n",
              "      <th>title2_en</th>\n",
              "      <th>label</th>\n",
              "    </tr>\n",
              "    <tr>\n",
              "      <th>id</th>\n",
              "      <th></th>\n",
              "      <th></th>\n",
              "      <th></th>\n",
              "      <th></th>\n",
              "      <th></th>\n",
              "      <th></th>\n",
              "      <th></th>\n",
              "    </tr>\n",
              "  </thead>\n",
              "  <tbody>\n",
              "    <tr>\n",
              "      <th>0</th>\n",
              "      <td>0</td>\n",
              "      <td>1</td>\n",
              "      <td>2017养老保险又新增两项，农村老人人人可申领，你领到了吗</td>\n",
              "      <td>警方辟谣“鸟巢大会每人领5万” 仍有老人坚持进京</td>\n",
              "      <td>There are two new old-age insurance benefits f...</td>\n",
              "      <td>Police disprove \"bird's nest congress each per...</td>\n",
              "      <td>unrelated</td>\n",
              "    </tr>\n",
              "    <tr>\n",
              "      <th>1</th>\n",
              "      <td>2</td>\n",
              "      <td>4</td>\n",
              "      <td>\"你不来深圳，早晚你儿子也要来\"，不出10年深圳人均GDP将超香港</td>\n",
              "      <td>GDP首超香港？深圳澄清：还差一点点……</td>\n",
              "      <td>\"If you do not come to Shenzhen, sooner or lat...</td>\n",
              "      <td>The GDP overtopped Hong Kong? Shenzhen clarifi...</td>\n",
              "      <td>unrelated</td>\n",
              "    </tr>\n",
              "    <tr>\n",
              "      <th>2</th>\n",
              "      <td>2</td>\n",
              "      <td>5</td>\n",
              "      <td>\"你不来深圳，早晚你儿子也要来\"，不出10年深圳人均GDP将超香港</td>\n",
              "      <td>去年深圳GDP首超香港？深圳统计局辟谣：还差611亿</td>\n",
              "      <td>\"If you do not come to Shenzhen, sooner or lat...</td>\n",
              "      <td>Shenzhen's GDP topped Hong Kong last year? She...</td>\n",
              "      <td>unrelated</td>\n",
              "    </tr>\n",
              "    <tr>\n",
              "      <th>3</th>\n",
              "      <td>2</td>\n",
              "      <td>3</td>\n",
              "      <td>\"你不来深圳，早晚你儿子也要来\"，不出10年深圳人均GDP将超香港</td>\n",
              "      <td>深圳GDP首超香港？深圳统计局辟谣：只是差距在缩小</td>\n",
              "      <td>\"If you do not come to Shenzhen, sooner or lat...</td>\n",
              "      <td>Shenzhen's GDP outstrips Hong Kong? Shenzhen S...</td>\n",
              "      <td>unrelated</td>\n",
              "    </tr>\n",
              "    <tr>\n",
              "      <th>4</th>\n",
              "      <td>2</td>\n",
              "      <td>8</td>\n",
              "      <td>\"你不来深圳，早晚你儿子也要来\"，不出10年深圳人均GDP将超香港</td>\n",
              "      <td>深圳GDP首超香港？统计局辟谣：未超但差距再度缩小</td>\n",
              "      <td>\"If you do not come to Shenzhen, sooner or lat...</td>\n",
              "      <td>Shenzhen's GDP overtakes Hong Kong? Bureau of ...</td>\n",
              "      <td>unrelated</td>\n",
              "    </tr>\n",
              "  </tbody>\n",
              "</table>\n",
              "</div>"
            ],
            "text/plain": [
              "    tid1  tid2  ...                                          title2_en      label\n",
              "id              ...                                                              \n",
              "0      0     1  ...  Police disprove \"bird's nest congress each per...  unrelated\n",
              "1      2     4  ...  The GDP overtopped Hong Kong? Shenzhen clarifi...  unrelated\n",
              "2      2     5  ...  Shenzhen's GDP topped Hong Kong last year? She...  unrelated\n",
              "3      2     3  ...  Shenzhen's GDP outstrips Hong Kong? Shenzhen S...  unrelated\n",
              "4      2     8  ...  Shenzhen's GDP overtakes Hong Kong? Bureau of ...  unrelated\n",
              "\n",
              "[5 rows x 7 columns]"
            ]
          },
          "metadata": {
            "tags": []
          },
          "execution_count": 10
        }
      ]
    },
    {
      "cell_type": "code",
      "metadata": {
        "id": "YvZtei7467Q2",
        "colab_type": "code",
        "outputId": "730c390d-ffb2-4fde-df2d-bd1febcd161e",
        "colab": {
          "base_uri": "https://localhost:8080/",
          "height": 51
        }
      },
      "source": [
        "null_counts = df_train.isnull().sum()\n",
        "null_counts[null_counts > 0].sort_values(ascending=False)"
      ],
      "execution_count": 0,
      "outputs": [
        {
          "output_type": "execute_result",
          "data": {
            "text/plain": [
              "title2_zh    7\n",
              "dtype: int64"
            ]
          },
          "metadata": {
            "tags": []
          },
          "execution_count": 7
        }
      ]
    },
    {
      "cell_type": "code",
      "metadata": {
        "id": "3kO6ztFfs-qK",
        "colab_type": "code",
        "outputId": "aaa6e2e4-63b9-47fe-f55b-3fa7a5489f58",
        "colab": {
          "base_uri": "https://localhost:8080/",
          "height": 51
        }
      },
      "source": [
        "null_counts = df_test.isnull().sum()\n",
        "null_counts[null_counts > 0].sort_values(ascending=False)"
      ],
      "execution_count": 0,
      "outputs": [
        {
          "output_type": "execute_result",
          "data": {
            "text/plain": [
              "title2_zh    1\n",
              "dtype: int64"
            ]
          },
          "metadata": {
            "tags": []
          },
          "execution_count": 26
        }
      ]
    },
    {
      "cell_type": "code",
      "metadata": {
        "id": "Th1MwWfS67Q7",
        "colab_type": "code",
        "colab": {}
      },
      "source": [
        "# No id 247 !\n",
        "#df_train['tid1'][247]"
      ],
      "execution_count": 0,
      "outputs": []
    },
    {
      "cell_type": "markdown",
      "metadata": {
        "id": "V9dQlzHa67RA",
        "colab_type": "text"
      },
      "source": [
        "#### Since the label repartition is bad, 68% are unrelated, LSTM could give more often than expected this label, that's why BERT model has to be implemented to compare the 2 models"
      ]
    },
    {
      "cell_type": "code",
      "metadata": {
        "id": "nDX71X-c67RB",
        "colab_type": "code",
        "outputId": "6047fdd7-4507-4c56-fd3d-5763404faf9d",
        "colab": {
          "base_uri": "https://localhost:8080/",
          "height": 34
        }
      },
      "source": [
        "from collections import Counter\n",
        "Counter(df_train.label)"
      ],
      "execution_count": 0,
      "outputs": [
        {
          "output_type": "execute_result",
          "data": {
            "text/plain": [
              "Counter({'agreed': 92973, 'disagreed': 8266, 'unrelated': 219313})"
            ]
          },
          "metadata": {
            "tags": []
          },
          "execution_count": 7
        }
      ]
    },
    {
      "cell_type": "code",
      "metadata": {
        "id": "Y7yIwfPY67RE",
        "colab_type": "code",
        "outputId": "127b86ad-8ef1-428b-8a38-0433c0980471",
        "colab": {
          "base_uri": "https://localhost:8080/",
          "height": 34
        }
      },
      "source": [
        "219313/320552"
      ],
      "execution_count": 0,
      "outputs": [
        {
          "output_type": "execute_result",
          "data": {
            "text/plain": [
              "0.68417292670144"
            ]
          },
          "metadata": {
            "tags": []
          },
          "execution_count": 1
        }
      ]
    },
    {
      "cell_type": "code",
      "metadata": {
        "id": "auRVkrK967RG",
        "colab_type": "code",
        "outputId": "84d4126d-ba22-4368-c1d6-6025a3ec2b08",
        "colab": {
          "base_uri": "https://localhost:8080/",
          "height": 289
        }
      },
      "source": [
        "print(\"Min nb words title 1  :\",df_train['title1_en'].apply(lambda x: len(x.split(\" \"))).min())\n",
        "print(\"Min nb words title 2  :\",df_train['title2_en'].apply(lambda x: len(x.split(\" \"))).min())\n",
        "print(\"Max nb words title 1  :\",df_train['title1_en'].apply(lambda x: len(x.split(\" \"))).max())\n",
        "print(\"Max nb words title 2  :\",df_train['title2_en'].apply(lambda x: len(x.split(\" \"))).max())\n",
        "print(\"Mean nb words title 1 :\",df_train['title1_en'].apply(lambda x: len(x.split(\" \"))).mean())\n",
        "print(\"Mean nb words title 2 :\",df_train['title2_en'].apply(lambda x: len(x.split(\" \"))).mean())\n",
        "print(\"99 percentile nb words title 1 :\",df_train['title1_en'].apply(lambda x: len(x.split(\" \"))).quantile(0.99))\n",
        "print(\"99 percentile nb words title 2 :\",df_train['title2_en'].apply(lambda x: len(x.split(\" \"))).quantile(0.99))"
      ],
      "execution_count": 0,
      "outputs": [
        {
          "output_type": "stream",
          "text": [
            "Min nb words title 1  : 1\n",
            "Min nb words title 2  : 1\n",
            "Max nb words title 1  : 500\n",
            "Max nb words title 2  : 539\n",
            "Mean nb words title 1 : 16.383588310164967\n",
            "Mean nb words title 2 : 16.572528014175546\n",
            "Mean nb words title 1 : 30.0\n",
            "Mean nb words title 2 : 30.0\n",
            "Min nb words title 1  : 1\n",
            "Min nb words title 2  : 1\n",
            "Max nb words title 1  : 12\n",
            "Max nb words title 2  : 12\n",
            "Mean nb words title 1 : 1.1453679902168759\n",
            "Mean nb words title 2 : 1.1562991339938606\n",
            "Mean nb words title 1 : 3.0\n",
            "Mean nb words title 2 : 3.0\n"
          ],
          "name": "stdout"
        }
      ]
    },
    {
      "cell_type": "markdown",
      "metadata": {
        "id": "fl4W9BSehEfn",
        "colab_type": "text"
      },
      "source": [
        "## SNLI, csv reduced"
      ]
    },
    {
      "cell_type": "code",
      "metadata": {
        "id": "hyM5ZNlNhDuF",
        "colab_type": "code",
        "outputId": "849b7168-b950-409d-ca64-416bb852d72d",
        "colab": {
          "base_uri": "https://localhost:8080/",
          "height": 204
        }
      },
      "source": [
        "df_snli.head()"
      ],
      "execution_count": 0,
      "outputs": [
        {
          "output_type": "execute_result",
          "data": {
            "text/html": [
              "<div>\n",
              "<style scoped>\n",
              "    .dataframe tbody tr th:only-of-type {\n",
              "        vertical-align: middle;\n",
              "    }\n",
              "\n",
              "    .dataframe tbody tr th {\n",
              "        vertical-align: top;\n",
              "    }\n",
              "\n",
              "    .dataframe thead th {\n",
              "        text-align: right;\n",
              "    }\n",
              "</style>\n",
              "<table border=\"1\" class=\"dataframe\">\n",
              "  <thead>\n",
              "    <tr style=\"text-align: right;\">\n",
              "      <th></th>\n",
              "      <th>Unnamed: 0</th>\n",
              "      <th>gold_label</th>\n",
              "      <th>sentence1</th>\n",
              "      <th>sentence2</th>\n",
              "    </tr>\n",
              "  </thead>\n",
              "  <tbody>\n",
              "    <tr>\n",
              "      <th>0</th>\n",
              "      <td>0</td>\n",
              "      <td>neutral</td>\n",
              "      <td>A person on a horse jumps over a broken down a...</td>\n",
              "      <td>A person is training his horse for a competition.</td>\n",
              "    </tr>\n",
              "    <tr>\n",
              "      <th>1</th>\n",
              "      <td>1</td>\n",
              "      <td>contradiction</td>\n",
              "      <td>A person on a horse jumps over a broken down a...</td>\n",
              "      <td>A person is at a diner, ordering an omelette.</td>\n",
              "    </tr>\n",
              "    <tr>\n",
              "      <th>2</th>\n",
              "      <td>2</td>\n",
              "      <td>entailment</td>\n",
              "      <td>A person on a horse jumps over a broken down a...</td>\n",
              "      <td>A person is outdoors, on a horse.</td>\n",
              "    </tr>\n",
              "    <tr>\n",
              "      <th>3</th>\n",
              "      <td>3</td>\n",
              "      <td>neutral</td>\n",
              "      <td>Children smiling and waving at camera</td>\n",
              "      <td>They are smiling at their parents</td>\n",
              "    </tr>\n",
              "    <tr>\n",
              "      <th>4</th>\n",
              "      <td>4</td>\n",
              "      <td>entailment</td>\n",
              "      <td>Children smiling and waving at camera</td>\n",
              "      <td>There are children present</td>\n",
              "    </tr>\n",
              "  </tbody>\n",
              "</table>\n",
              "</div>"
            ],
            "text/plain": [
              "   Unnamed: 0  ...                                          sentence2\n",
              "0           0  ...  A person is training his horse for a competition.\n",
              "1           1  ...      A person is at a diner, ordering an omelette.\n",
              "2           2  ...                  A person is outdoors, on a horse.\n",
              "3           3  ...                  They are smiling at their parents\n",
              "4           4  ...                         There are children present\n",
              "\n",
              "[5 rows x 4 columns]"
            ]
          },
          "metadata": {
            "tags": []
          },
          "execution_count": 6
        }
      ]
    },
    {
      "cell_type": "code",
      "metadata": {
        "id": "kq5UCfmGhW5S",
        "colab_type": "code",
        "outputId": "34b06d56-1e80-4b0c-a65a-e82f856835db",
        "colab": {
          "base_uri": "https://localhost:8080/",
          "height": 34
        }
      },
      "source": [
        "null_counts = df_snli.isnull().sum()\n",
        "null_counts[null_counts > 0].sort_values(ascending=False)"
      ],
      "execution_count": 0,
      "outputs": [
        {
          "output_type": "execute_result",
          "data": {
            "text/plain": [
              "Series([], dtype: int64)"
            ]
          },
          "metadata": {
            "tags": []
          },
          "execution_count": 11
        }
      ]
    },
    {
      "cell_type": "code",
      "metadata": {
        "id": "zcXE9SHriyOF",
        "colab_type": "code",
        "outputId": "80c370b1-e123-4d01-fd6e-0bd5619b0c70",
        "colab": {
          "base_uri": "https://localhost:8080/",
          "height": 153
        }
      },
      "source": [
        "print(\"Min nb words title 1  :\",df_snli['sentence1'].apply(lambda x: len(x.split(\" \"))).min())\n",
        "print(\"Min nb words title 2  :\",df_snli['sentence2'].apply(lambda x: len(x.split(\" \"))).min())\n",
        "print(\"Max nb words title 1  :\",df_snli['sentence1'].apply(lambda x: len(x.split(\" \"))).max())\n",
        "print(\"Max nb words title 2  :\",df_snli['sentence2'].apply(lambda x: len(x.split(\" \"))).max())\n",
        "print(\"Mean nb words title 1 :\",df_snli['sentence1'].apply(lambda x: len(x.split(\" \"))).mean())\n",
        "print(\"Mean nb words title 2 :\",df_snli['sentence2'].apply(lambda x: len(x.split(\" \"))).mean())\n",
        "print(\"Mean nb words title 1 :\",df_snli['sentence1'].apply(lambda x: len(x.split(\" \"))).quantile(0.99))\n",
        "print(\"Mean nb words title 2 :\",df_snli['sentence2'].apply(lambda x: len(x.split(\" \"))).quantile(0.99))"
      ],
      "execution_count": 0,
      "outputs": [
        {
          "output_type": "stream",
          "text": [
            "Min nb words title 1  : 2\n",
            "Min nb words title 2  : 1\n",
            "Max nb words title 1  : 78\n",
            "Max nb words title 2  : 58\n",
            "Mean nb words title 1 : 12.850772150242115\n",
            "Mean nb words title 2 : 7.42041108639067\n",
            "Mean nb words title 1 : 31.0\n",
            "Mean nb words title 2 : 18.0\n"
          ],
          "name": "stdout"
        }
      ]
    },
    {
      "cell_type": "code",
      "metadata": {
        "id": "M_EM-gBsplv3",
        "colab_type": "code",
        "outputId": "75cefbb9-a7c9-4746-d304-e2ba8db0c45e",
        "colab": {
          "base_uri": "https://localhost:8080/",
          "height": 85
        }
      },
      "source": [
        "df_snli['gold_label'].value_counts()"
      ],
      "execution_count": 0,
      "outputs": [
        {
          "output_type": "execute_result",
          "data": {
            "text/plain": [
              "entailment       183416\n",
              "contradiction    183187\n",
              "neutral          182764\n",
              "Name: gold_label, dtype: int64"
            ]
          },
          "metadata": {
            "tags": []
          },
          "execution_count": 7
        }
      ]
    },
    {
      "cell_type": "markdown",
      "metadata": {
        "id": "c8CfDAvT67RL",
        "colab_type": "text"
      },
      "source": [
        "# Preprocessing\n",
        "- Cleaning data\n",
        "- Lower case\n",
        "- Deal with N/A and NaN"
      ]
    },
    {
      "cell_type": "code",
      "metadata": {
        "id": "3glJhRG7j8ou",
        "colab_type": "code",
        "outputId": "8bf7e422-3407-4a2c-9788-37c0043599f1",
        "colab": {
          "base_uri": "https://localhost:8080/",
          "height": 816
        }
      },
      "source": [
        "import nltk\n",
        "nltk.download(\"popular\")"
      ],
      "execution_count": 0,
      "outputs": [
        {
          "output_type": "stream",
          "text": [
            "[nltk_data] Downloading collection 'popular'\n",
            "[nltk_data]    | \n",
            "[nltk_data]    | Downloading package cmudict to /root/nltk_data...\n",
            "[nltk_data]    |   Unzipping corpora/cmudict.zip.\n",
            "[nltk_data]    | Downloading package gazetteers to /root/nltk_data...\n",
            "[nltk_data]    |   Unzipping corpora/gazetteers.zip.\n",
            "[nltk_data]    | Downloading package genesis to /root/nltk_data...\n",
            "[nltk_data]    |   Unzipping corpora/genesis.zip.\n",
            "[nltk_data]    | Downloading package gutenberg to /root/nltk_data...\n",
            "[nltk_data]    |   Unzipping corpora/gutenberg.zip.\n",
            "[nltk_data]    | Downloading package inaugural to /root/nltk_data...\n",
            "[nltk_data]    |   Unzipping corpora/inaugural.zip.\n",
            "[nltk_data]    | Downloading package movie_reviews to\n",
            "[nltk_data]    |     /root/nltk_data...\n",
            "[nltk_data]    |   Unzipping corpora/movie_reviews.zip.\n",
            "[nltk_data]    | Downloading package names to /root/nltk_data...\n",
            "[nltk_data]    |   Unzipping corpora/names.zip.\n",
            "[nltk_data]    | Downloading package shakespeare to /root/nltk_data...\n",
            "[nltk_data]    |   Unzipping corpora/shakespeare.zip.\n",
            "[nltk_data]    | Downloading package stopwords to /root/nltk_data...\n",
            "[nltk_data]    |   Unzipping corpora/stopwords.zip.\n",
            "[nltk_data]    | Downloading package treebank to /root/nltk_data...\n",
            "[nltk_data]    |   Unzipping corpora/treebank.zip.\n",
            "[nltk_data]    | Downloading package twitter_samples to\n",
            "[nltk_data]    |     /root/nltk_data...\n",
            "[nltk_data]    |   Unzipping corpora/twitter_samples.zip.\n",
            "[nltk_data]    | Downloading package omw to /root/nltk_data...\n",
            "[nltk_data]    |   Unzipping corpora/omw.zip.\n",
            "[nltk_data]    | Downloading package wordnet to /root/nltk_data...\n",
            "[nltk_data]    |   Unzipping corpora/wordnet.zip.\n",
            "[nltk_data]    | Downloading package wordnet_ic to /root/nltk_data...\n",
            "[nltk_data]    |   Unzipping corpora/wordnet_ic.zip.\n",
            "[nltk_data]    | Downloading package words to /root/nltk_data...\n",
            "[nltk_data]    |   Unzipping corpora/words.zip.\n",
            "[nltk_data]    | Downloading package maxent_ne_chunker to\n",
            "[nltk_data]    |     /root/nltk_data...\n",
            "[nltk_data]    |   Unzipping chunkers/maxent_ne_chunker.zip.\n",
            "[nltk_data]    | Downloading package punkt to /root/nltk_data...\n",
            "[nltk_data]    |   Unzipping tokenizers/punkt.zip.\n",
            "[nltk_data]    | Downloading package snowball_data to\n",
            "[nltk_data]    |     /root/nltk_data...\n",
            "[nltk_data]    | Downloading package averaged_perceptron_tagger to\n",
            "[nltk_data]    |     /root/nltk_data...\n",
            "[nltk_data]    |   Unzipping taggers/averaged_perceptron_tagger.zip.\n",
            "[nltk_data]    | \n",
            "[nltk_data]  Done downloading collection popular\n"
          ],
          "name": "stdout"
        },
        {
          "output_type": "execute_result",
          "data": {
            "text/plain": [
              "True"
            ]
          },
          "metadata": {
            "tags": []
          },
          "execution_count": 6
        }
      ]
    },
    {
      "cell_type": "code",
      "metadata": {
        "id": "6xKCazYG67RM",
        "colab_type": "code",
        "colab": {}
      },
      "source": [
        "#Cleaning Kaggle dataset\n",
        "translator = str.maketrans('','', string.punctuation)\n",
        "df_train['title1_en'] = df_train['title1_en'].str.lower().str.translate(translator)\n",
        "df_train['title2_en'] = df_train['title2_en'].str.lower().str.translate(translator)\n",
        "df_test['title1_en']  = df_test['title1_en'].str.lower().str.translate(translator)\n",
        "df_test['title2_en']  = df_test['title2_en'].str.lower().str.translate(translator)\n",
        "#Remove stop words (depends on the model)\n",
        "stop_words = set(stopwords.words('english'))\n",
        "df_train['title1_en'] = df_train['title1_en'].apply(lambda x: ' '.join([word for word in x.split() if word not in (stop_words)]))\n",
        "df_train['title2_en'] = df_train['title2_en'].apply(lambda x: ' '.join([word for word in x.split() if word not in (stop_words)]))\n",
        "df_test['title1_en'] = df_test['title1_en'].apply(lambda x: ' '.join([word for word in x.split() if word not in (stop_words)]))\n",
        "df_test['title2_en'] = df_test['title2_en'].apply(lambda x: ' '.join([word for word in x.split() if word not in (stop_words)]))"
      ],
      "execution_count": 0,
      "outputs": []
    },
    {
      "cell_type": "code",
      "metadata": {
        "id": "m-Wd4WftYdYn",
        "colab_type": "code",
        "colab": {}
      },
      "source": [
        "#Cleaning snli dataset\n",
        "df_snli = df_snli.drop(df_snli[df_snli.gold_label ==\"-\"].index)\n",
        "translator = str.maketrans('','', string.punctuation)\n",
        "df_snli.sentence2.fillna('UNKNOWN', inplace=True)\n",
        "df_snli['sentence1'] = df_snli['sentence1'].str.lower().str.translate(translator)\n",
        "df_snli['sentence2'] = df_snli['sentence2'].str.lower().str.translate(translator)\n",
        "#Removing stop words\n",
        "# df_snli['sentence1'] = df_snli['sentence1'].apply(lambda x: ' '.join([word for word in x.split() if word not in (stop_words)]))\n",
        "# df_snli['sentence2'] = df_snli['sentence2'].apply(lambda x: ' '.join([word for word in x.split() if word not in (stop_words)]))"
      ],
      "execution_count": 0,
      "outputs": []
    },
    {
      "cell_type": "code",
      "metadata": {
        "id": "aAb7ul_toozk",
        "colab_type": "code",
        "colab": {}
      },
      "source": [
        "#Cleaning chinese text\n",
        "# df_train.title2_zh.fillna('UNKNOWN', inplace=True)\n",
        "# df_test.title2_zh.fillna('UNKNOWN', inplace=True)"
      ],
      "execution_count": 0,
      "outputs": []
    },
    {
      "cell_type": "code",
      "metadata": {
        "id": "TvahRbRY67RR",
        "colab_type": "code",
        "outputId": "6159975e-7f65-4e62-8c58-c6caacd846f1",
        "colab": {
          "base_uri": "https://localhost:8080/",
          "height": 405
        }
      },
      "source": [
        "df_train.head()"
      ],
      "execution_count": 0,
      "outputs": [
        {
          "output_type": "execute_result",
          "data": {
            "text/html": [
              "<div>\n",
              "<style scoped>\n",
              "    .dataframe tbody tr th:only-of-type {\n",
              "        vertical-align: middle;\n",
              "    }\n",
              "\n",
              "    .dataframe tbody tr th {\n",
              "        vertical-align: top;\n",
              "    }\n",
              "\n",
              "    .dataframe thead th {\n",
              "        text-align: right;\n",
              "    }\n",
              "</style>\n",
              "<table border=\"1\" class=\"dataframe\">\n",
              "  <thead>\n",
              "    <tr style=\"text-align: right;\">\n",
              "      <th></th>\n",
              "      <th>tid1</th>\n",
              "      <th>tid2</th>\n",
              "      <th>title1_zh</th>\n",
              "      <th>title2_zh</th>\n",
              "      <th>title1_en</th>\n",
              "      <th>title2_en</th>\n",
              "      <th>label</th>\n",
              "    </tr>\n",
              "    <tr>\n",
              "      <th>id</th>\n",
              "      <th></th>\n",
              "      <th></th>\n",
              "      <th></th>\n",
              "      <th></th>\n",
              "      <th></th>\n",
              "      <th></th>\n",
              "      <th></th>\n",
              "    </tr>\n",
              "  </thead>\n",
              "  <tbody>\n",
              "    <tr>\n",
              "      <th>0</th>\n",
              "      <td>0</td>\n",
              "      <td>1</td>\n",
              "      <td>2017养老保险又新增两项，农村老人人人可申领，你领到了吗</td>\n",
              "      <td>警方辟谣“鸟巢大会每人领5万” 仍有老人坚持进京</td>\n",
              "      <td>two new oldage insurance benefits old people r...</td>\n",
              "      <td>police disprove birds nest congress person get...</td>\n",
              "      <td>unrelated</td>\n",
              "    </tr>\n",
              "    <tr>\n",
              "      <th>1</th>\n",
              "      <td>2</td>\n",
              "      <td>4</td>\n",
              "      <td>\"你不来深圳，早晚你儿子也要来\"，不出10年深圳人均GDP将超香港</td>\n",
              "      <td>GDP首超香港？深圳澄清：还差一点点……</td>\n",
              "      <td>come shenzhen sooner later son also come less ...</td>\n",
              "      <td>gdp overtopped hong kong shenzhen clarified li...</td>\n",
              "      <td>unrelated</td>\n",
              "    </tr>\n",
              "    <tr>\n",
              "      <th>2</th>\n",
              "      <td>2</td>\n",
              "      <td>5</td>\n",
              "      <td>\"你不来深圳，早晚你儿子也要来\"，不出10年深圳人均GDP将超香港</td>\n",
              "      <td>去年深圳GDP首超香港？深圳统计局辟谣：还差611亿</td>\n",
              "      <td>come shenzhen sooner later son also come less ...</td>\n",
              "      <td>shenzhens gdp topped hong kong last year shenz...</td>\n",
              "      <td>unrelated</td>\n",
              "    </tr>\n",
              "    <tr>\n",
              "      <th>3</th>\n",
              "      <td>2</td>\n",
              "      <td>3</td>\n",
              "      <td>\"你不来深圳，早晚你儿子也要来\"，不出10年深圳人均GDP将超香港</td>\n",
              "      <td>深圳GDP首超香港？深圳统计局辟谣：只是差距在缩小</td>\n",
              "      <td>come shenzhen sooner later son also come less ...</td>\n",
              "      <td>shenzhens gdp outstrips hong kong shenzhen sta...</td>\n",
              "      <td>unrelated</td>\n",
              "    </tr>\n",
              "    <tr>\n",
              "      <th>4</th>\n",
              "      <td>2</td>\n",
              "      <td>8</td>\n",
              "      <td>\"你不来深圳，早晚你儿子也要来\"，不出10年深圳人均GDP将超香港</td>\n",
              "      <td>深圳GDP首超香港？统计局辟谣：未超但差距再度缩小</td>\n",
              "      <td>come shenzhen sooner later son also come less ...</td>\n",
              "      <td>shenzhens gdp overtakes hong kong bureau stati...</td>\n",
              "      <td>unrelated</td>\n",
              "    </tr>\n",
              "  </tbody>\n",
              "</table>\n",
              "</div>"
            ],
            "text/plain": [
              "    tid1  tid2  ...                                          title2_en      label\n",
              "id              ...                                                              \n",
              "0      0     1  ...  police disprove birds nest congress person get...  unrelated\n",
              "1      2     4  ...  gdp overtopped hong kong shenzhen clarified li...  unrelated\n",
              "2      2     5  ...  shenzhens gdp topped hong kong last year shenz...  unrelated\n",
              "3      2     3  ...  shenzhens gdp outstrips hong kong shenzhen sta...  unrelated\n",
              "4      2     8  ...  shenzhens gdp overtakes hong kong bureau stati...  unrelated\n",
              "\n",
              "[5 rows x 7 columns]"
            ]
          },
          "metadata": {
            "tags": []
          },
          "execution_count": 21
        }
      ]
    },
    {
      "cell_type": "markdown",
      "metadata": {
        "id": "BzYmSFmW67RW",
        "colab_type": "text"
      },
      "source": [
        "# NN implementation (LSTM, GRU)"
      ]
    },
    {
      "cell_type": "markdown",
      "metadata": {
        "id": "ABGOsh1g67Ra",
        "colab_type": "text"
      },
      "source": [
        "## Hyper parameters definition"
      ]
    },
    {
      "cell_type": "code",
      "metadata": {
        "id": "s6lyACVB67Rb",
        "colab_type": "code",
        "colab": {}
      },
      "source": [
        "vocab_size = 5000 #snli :5000 ; kaggle : 10000\n",
        "nb_labels = 3\n",
        "embedding_size = 512\n",
        "max_len = 15 #df_train = 30 df_snli = 15\n",
        "trunc_type = 'post'\n",
        "padding_type = 'post'\n",
        "oov_tok = '<OOV>'\n",
        "training_portion = .8"
      ],
      "execution_count": 0,
      "outputs": []
    },
    {
      "cell_type": "code",
      "metadata": {
        "id": "lUiu5Rm567Rf",
        "colab_type": "code",
        "colab": {}
      },
      "source": [
        "HP_VOCAB_SIZE = hp.HParam('vocab_size',hp.Discrete([10000,15000,20000]))\n",
        "HP_NUM_UNITS = hp.HParam('num_units', hp.Discrete([256,512,1028]))\n",
        "HP_BATCH_SIZE = hp.HParam('batch_size', hp.Discrete([64, 256]))\n",
        "HP_DROPOUT = hp.HParam('dropout', hp.Discrete([0.1,0.3]))\n",
        "HP_LEARNING_RATE = hp.HParam('learning_rate', hp.Discrete([0.01, 0.1]))\n",
        "HP_OPTIMIZER = hp.HParam('optimizer', hp.Discrete(['adam', 'rmsprop']))\n",
        "HP_EMBEDDING_LAYER = hp.HParam('embedding', hp.Discrete(['pretrained', 'from_scratch']))\n",
        "HP_HIDDEN_LAYER = hp.HParam('hidden_layer',hp.Discrete(['LSTM',\"GRU\"]))\n",
        "HP_ATTENTION = hp.HParam('attention', hp.Discrete(['yes', 'no']))"
      ],
      "execution_count": 0,
      "outputs": []
    },
    {
      "cell_type": "code",
      "metadata": {
        "id": "2mloVmBnLYWg",
        "colab_type": "code",
        "outputId": "c8caa823-5e56-4d2e-dbe8-6963f59097db",
        "colab": {
          "base_uri": "https://localhost:8080/",
          "height": 34
        }
      },
      "source": [
        "3*2*2*2*2*2"
      ],
      "execution_count": 0,
      "outputs": [
        {
          "output_type": "execute_result",
          "data": {
            "text/plain": [
              "96"
            ]
          },
          "metadata": {
            "tags": []
          },
          "execution_count": 44
        }
      ]
    },
    {
      "cell_type": "code",
      "metadata": {
        "id": "fsbZ-C5d67Ri",
        "colab_type": "code",
        "colab": {}
      },
      "source": [
        "METRIC_ACCURACY = 'accuracy'\n",
        "METRIC_F1_MAC = 'f1_macro' #f1 per class then averaged\n",
        "METRIC_F1_MIC = 'f1_micro' #global average of each inidvidual instances\n",
        "METRIC_PRECISION = 'precision'\n",
        "METRIC_RECALL = 'recall'\n",
        "METRIC_LOSS = 'loss'\n",
        "\n",
        "with tf.summary.create_file_writer('logs/hparam_tuning').as_default():\n",
        "    hp.hparams_config(\n",
        "        hparams=[HP_OPTIMIZER, HP_NUM_UNITS, HP_DROPOUT,HP_HIDDEN_LAYER,HP_LEARNING_RATE,HP_ATTENTION , HP_EMBEDDING_LAYER],        metrics=[hp.Metric(METRIC_ACCURACY, display_name='Accuracy'),\n",
        "                 hp.Metric(METRIC_F1_MIC, display_name='F1 Micro'),\n",
        "                 hp.Metric(METRIC_LOSS, display_name='Loss'),\n",
        "                 hp.Metric(METRIC_PRECISION, display_name='Precision'),\n",
        "                 hp.Metric(METRIC_RECALL, display_name='Recall')],\n",
        "      )"
      ],
      "execution_count": 0,
      "outputs": []
    },
    {
      "cell_type": "markdown",
      "metadata": {
        "id": "8CFOFeaB67Rt",
        "colab_type": "text"
      },
      "source": [
        "## Word embedding"
      ]
    },
    {
      "cell_type": "markdown",
      "metadata": {
        "id": "Tw1aLnbtw_ww",
        "colab_type": "text"
      },
      "source": [
        "### Kaggle embedding"
      ]
    },
    {
      "cell_type": "code",
      "metadata": {
        "id": "MM_lqs_467Rt",
        "colab_type": "code",
        "colab": {}
      },
      "source": [
        "train_size = int(len(df_train['title1_en']) * training_portion)\n",
        "\n",
        "x_train = df_train[['title1_en','title2_en']][0:train_size]\n",
        "y_train = df_train['label'][0:train_size]\n",
        "x_validation = df_train[['title1_en','title2_en']][train_size:]\n",
        "y_validation = df_train['label'][train_size:]\n",
        "x_test = df_test[['title1_en','title2_en']]"
      ],
      "execution_count": 0,
      "outputs": []
    },
    {
      "cell_type": "code",
      "metadata": {
        "id": "K2LBN9_167Rz",
        "colab_type": "code",
        "outputId": "96ca94d1-c908-4147-a751-51aae446ca15",
        "colab": {
          "base_uri": "https://localhost:8080/",
          "height": 187
        }
      },
      "source": [
        "tokenizer = Tokenizer(num_words = vocab_size, oov_token=oov_tok)\n",
        "tokenizer.fit_on_texts(df_train['title1_en']+df_train['title2_en'])\n",
        "word_index = tokenizer.word_index\n",
        "dict(list(word_index.items())[0:10])"
      ],
      "execution_count": 0,
      "outputs": [
        {
          "output_type": "execute_result",
          "data": {
            "text/plain": [
              "{'<OOV>': 1,\n",
              " 'days': 8,\n",
              " 'eat': 3,\n",
              " 'new': 4,\n",
              " 'one': 9,\n",
              " 'people': 6,\n",
              " 'rumor': 7,\n",
              " 'rumors': 2,\n",
              " 'three': 10,\n",
              " 'years': 5}"
            ]
          },
          "metadata": {
            "tags": []
          },
          "execution_count": 10
        }
      ]
    },
    {
      "cell_type": "code",
      "metadata": {
        "id": "MqCD0oke67R1",
        "colab_type": "code",
        "colab": {}
      },
      "source": [
        "X = {'title1': x_train['title1_en'], 'title2': x_train['title2_en']}\n",
        "\n",
        "for x_train_seq, side in itertools.product([X], ['title1', 'title2']):\n",
        "    x_train_seq[side] = tokenizer.texts_to_sequences(x_train_seq[side])\n",
        "    x_train_seq[side] = pad_sequences(x_train_seq[side], padding=padding_type, truncating=trunc_type, maxlen=max_len)"
      ],
      "execution_count": 0,
      "outputs": []
    },
    {
      "cell_type": "code",
      "metadata": {
        "id": "FC20jw6o67R4",
        "colab_type": "code",
        "colab": {}
      },
      "source": [
        "X_val = {'title1': x_validation['title1_en'], 'title2': x_validation['title2_en']}\n",
        "\n",
        "for x_validation_seq, side in itertools.product([X_val], ['title1', 'title2']):\n",
        "    x_validation_seq[side] = tokenizer.texts_to_sequences(x_validation_seq[side])\n",
        "    x_validation_seq[side] = pad_sequences(x_validation_seq[side], padding=padding_type, truncating=trunc_type, maxlen=max_len)"
      ],
      "execution_count": 0,
      "outputs": []
    },
    {
      "cell_type": "code",
      "metadata": {
        "id": "IswyYKzA67R6",
        "colab_type": "code",
        "colab": {}
      },
      "source": [
        "X = {'title1': x_test['title1_en'], 'title2': x_test['title2_en']}\n",
        "\n",
        "for x_test_seq, side in itertools.product([X], ['title1', 'title2']):\n",
        "    x_test_seq[side] = tokenizer.texts_to_sequences(x_test_seq[side])\n",
        "    x_test_seq[side] = pad_sequences(x_test_seq[side], padding=padding_type, truncating=trunc_type, maxlen=max_len)"
      ],
      "execution_count": 0,
      "outputs": []
    },
    {
      "cell_type": "code",
      "metadata": {
        "id": "uGk8l5KFTRGY",
        "colab_type": "code",
        "outputId": "c87d38e3-f416-4930-eb46-0fa722248a41",
        "colab": {
          "base_uri": "https://localhost:8080/",
          "height": 136
        }
      },
      "source": [
        "from numpy import array\n",
        "from numpy import argmax\n",
        "from sklearn.preprocessing import LabelEncoder\n",
        "from sklearn.preprocessing import OneHotEncoder\n",
        "\n",
        "values = array(df_train['label'])\n",
        "label_encoder = LabelEncoder()\n",
        "integer_encoded = label_encoder.fit_transform(values)\n",
        "onehot_encoder = OneHotEncoder(sparse=False)\n",
        "integer_encoded = integer_encoded.reshape(len(integer_encoded), 1)\n",
        "onehot_encoded = onehot_encoder.fit_transform(integer_encoded)\n",
        "print(onehot_encoded)"
      ],
      "execution_count": 0,
      "outputs": [
        {
          "output_type": "stream",
          "text": [
            "[[0. 0. 1.]\n",
            " [0. 0. 1.]\n",
            " [0. 0. 1.]\n",
            " ...\n",
            " [0. 0. 1.]\n",
            " [0. 0. 1.]\n",
            " [0. 0. 1.]]\n"
          ],
          "name": "stdout"
        }
      ]
    },
    {
      "cell_type": "code",
      "metadata": {
        "id": "UWk0t0BdTRDf",
        "colab_type": "code",
        "colab": {}
      },
      "source": [
        "onehot_encoded_y_train = onehot_encoded[0:train_size]\n",
        "onehot_encoded_y_validation = onehot_encoded[train_size:]"
      ],
      "execution_count": 0,
      "outputs": []
    },
    {
      "cell_type": "code",
      "metadata": {
        "id": "NbU2x0uJ67SD",
        "colab_type": "code",
        "outputId": "30a36a20-6f3e-474a-b8b2-9bc45bf4d63f",
        "colab": {
          "base_uri": "https://localhost:8080/",
          "height": 68
        }
      },
      "source": [
        "reverse_word_index = dict([(value, key) for (key, value) in word_index.items()])\n",
        "\n",
        "def decode_title(text):\n",
        "    return ' '.join([reverse_word_index.get(i, '?') for i in text])\n",
        "print(decode_title(x_train_seq['title2'][59]))\n",
        "print('---')\n",
        "print(x_train['title2_en'][59])"
      ],
      "execution_count": 0,
      "outputs": [
        {
          "output_type": "stream",
          "text": [
            "<OOV> rumour spinach <OOV> vegetable made iron eating ? ? ? ? ? ? ? ? ? ? ? ? ? ? ? ? ? ? ? ? ? ?\n",
            "---\n",
            "315s rumour spinach greased vegetable made iron eating\n"
          ],
          "name": "stdout"
        }
      ]
    },
    {
      "cell_type": "markdown",
      "metadata": {
        "id": "g_4IBA_6j1pd",
        "colab_type": "text"
      },
      "source": [
        "## SNLI embedding"
      ]
    },
    {
      "cell_type": "code",
      "metadata": {
        "id": "dF2UJ4tnjv-1",
        "colab_type": "code",
        "colab": {}
      },
      "source": [
        "train_size = int(len(df_snli['sentence1']) * training_portion)\n",
        "\n",
        "x_train = df_snli[['sentence1','sentence2']][0:train_size]\n",
        "y_train = df_snli['gold_label'][0:train_size]\n",
        "x_validation = df_snli[['sentence1','sentence2']][train_size:]\n",
        "y_validation = df_snli['gold_label'][train_size:]"
      ],
      "execution_count": 0,
      "outputs": []
    },
    {
      "cell_type": "code",
      "metadata": {
        "id": "nli4odxLjwOQ",
        "colab_type": "code",
        "outputId": "172c2260-b2ed-4756-a756-c97aebc45e5d",
        "colab": {
          "base_uri": "https://localhost:8080/",
          "height": 187
        }
      },
      "source": [
        "tokenizer = Tokenizer(num_words = vocab_size, oov_token=oov_tok)\n",
        "tokenizer.fit_on_texts(df_snli['sentence1']+df_snli['sentence2'])\n",
        "word_index = tokenizer.word_index\n",
        "dict(list(word_index.items())[0:10])"
      ],
      "execution_count": 0,
      "outputs": [
        {
          "output_type": "execute_result",
          "data": {
            "text/plain": [
              "{'<OOV>': 1,\n",
              " 'a': 2,\n",
              " 'and': 8,\n",
              " 'are': 9,\n",
              " 'in': 3,\n",
              " 'is': 5,\n",
              " 'man': 6,\n",
              " 'of': 10,\n",
              " 'on': 7,\n",
              " 'the': 4}"
            ]
          },
          "metadata": {
            "tags": []
          },
          "execution_count": 47
        }
      ]
    },
    {
      "cell_type": "code",
      "metadata": {
        "id": "aqSrDpBbjwVz",
        "colab_type": "code",
        "colab": {}
      },
      "source": [
        "X = {'title1': x_train['sentence1'], 'title2': x_train['sentence2']}\n",
        "\n",
        "for x_train_seq, side in itertools.product([X], ['title1', 'title2']):\n",
        "    x_train_seq[side] = tokenizer.texts_to_sequences(x_train_seq[side])\n",
        "    x_train_seq[side] = pad_sequences(x_train_seq[side], padding=padding_type, truncating=trunc_type, maxlen=max_len)"
      ],
      "execution_count": 0,
      "outputs": []
    },
    {
      "cell_type": "code",
      "metadata": {
        "id": "n8vArjHOjwdr",
        "colab_type": "code",
        "colab": {}
      },
      "source": [
        "X_val = {'title1': x_validation['sentence1'], 'title2': x_validation['sentence2']}\n",
        "\n",
        "for x_validation_seq, side in itertools.product([X_val], ['title1', 'title2']):\n",
        "    x_validation_seq[side] = tokenizer.texts_to_sequences(x_validation_seq[side])\n",
        "    x_validation_seq[side] = pad_sequences(x_validation_seq[side], padding=padding_type, truncating=trunc_type, maxlen=max_len)"
      ],
      "execution_count": 0,
      "outputs": []
    },
    {
      "cell_type": "code",
      "metadata": {
        "id": "kMWmfPsDjxeJ",
        "colab_type": "code",
        "colab": {}
      },
      "source": [
        "from numpy import array\n",
        "from numpy import argmax\n",
        "from sklearn.preprocessing import LabelEncoder\n",
        "from sklearn.preprocessing import OneHotEncoder\n",
        "\n",
        "values = array(df_snli['gold_label'])\n",
        "label_encoder = LabelEncoder()\n",
        "integer_encoded = label_encoder.fit_transform(values)\n",
        "onehot_encoder = OneHotEncoder(sparse=False)\n",
        "integer_encoded = integer_encoded.reshape(len(integer_encoded), 1)\n",
        "onehot_encoded = onehot_encoder.fit_transform(integer_encoded)\n",
        "print(onehot_encoded)"
      ],
      "execution_count": 0,
      "outputs": []
    },
    {
      "cell_type": "code",
      "metadata": {
        "id": "I_7xW2bVjwTw",
        "colab_type": "code",
        "colab": {}
      },
      "source": [
        "onehot_encoded_y_train = onehot_encoded[0:train_size]\n",
        "onehot_encoded_y_validation = onehot_encoded[train_size:]"
      ],
      "execution_count": 0,
      "outputs": []
    },
    {
      "cell_type": "code",
      "metadata": {
        "id": "3rJBXrUspu01",
        "colab_type": "code",
        "colab": {}
      },
      "source": [
        "reverse_word_index = dict([(value, key) for (key, value) in word_index.items()])\n",
        "\n",
        "def decode_title(text):\n",
        "    return ' '.join([reverse_word_index.get(i, '?') for i in text])\n",
        "print(decode_title(x_train_seq['title2'][9]))\n",
        "print('---')\n",
        "print(x_train['sentence2'][9])"
      ],
      "execution_count": 0,
      "outputs": []
    },
    {
      "cell_type": "markdown",
      "metadata": {
        "id": "MCUW0A0nxi0j",
        "colab_type": "text"
      },
      "source": [
        "## Embedding pre-trained"
      ]
    },
    {
      "cell_type": "code",
      "metadata": {
        "id": "scVun3P067SG",
        "colab_type": "code",
        "colab": {}
      },
      "source": [
        "embeddings_index = {}\n",
        "GLOVE_DIR='/content/drive/My Drive/Colab Notebooks'\n",
        "f = open(os.path.join(GLOVE_DIR, 'glove.6B.100d.txt'),encoding=\"utf8\")\n",
        "for line in f:\n",
        "    values = line.split()\n",
        "    word = values[0]\n",
        "    coefs = np.asarray(values[1:], dtype='float32')\n",
        "    embeddings_index[word] = coefs\n",
        "f.close()"
      ],
      "execution_count": 0,
      "outputs": []
    },
    {
      "cell_type": "code",
      "metadata": {
        "id": "ppNXJxIJ67SJ",
        "colab_type": "code",
        "colab": {}
      },
      "source": [
        "words_not_fount = 0\n",
        "embedding_matrix = np.random.random((len(word_index) + 1, 100))\n",
        "for word, i in word_index.items():\n",
        "    embedding_vector = embeddings_index.get(word)\n",
        "    if embedding_vector is not None:\n",
        "        # words not found in embedding index will be all-zeros.\n",
        "        embedding_matrix[i] = embedding_vector\n",
        "    else:\n",
        "        words_not_fount += 1\n"
      ],
      "execution_count": 0,
      "outputs": []
    },
    {
      "cell_type": "code",
      "metadata": {
        "id": "yCnCmKoQ67SM",
        "colab_type": "code",
        "colab": {}
      },
      "source": [
        "words_not_fount"
      ],
      "execution_count": 0,
      "outputs": []
    },
    {
      "cell_type": "markdown",
      "metadata": {
        "id": "_9X2V--OpMc6",
        "colab_type": "text"
      },
      "source": [
        "## Chinese Embedding"
      ]
    },
    {
      "cell_type": "code",
      "metadata": {
        "id": "dhq1nnEupPrW",
        "colab_type": "code",
        "outputId": "90a74b50-8b98-4992-9bd9-7324076c40ad",
        "colab": {
          "base_uri": "https://localhost:8080/",
          "height": 85
        }
      },
      "source": [
        "import jieba.posseg as pseg\n",
        "\n",
        "df_train['title1_zh']=df_train['title1_zh'].apply(lambda x: ' '.join([word for word, flag in pseg.cut(x) if flag != 'x']))\n",
        "df_train['title2_zh']=df_train['title2_zh'].apply(lambda x: ' '.join([word for word, flag in pseg.cut(x) if flag != 'x']))\n",
        "df_test['title1_zh'] =df_test['title1_zh'].apply(lambda x: ' '.join([word for word, flag in pseg.cut(x) if flag != 'x']))\n",
        "df_test['title2_zh'] =df_test['title2_zh'].apply(lambda x: ' '.join([word for word, flag in pseg.cut(x) if flag != 'x']))"
      ],
      "execution_count": 0,
      "outputs": [
        {
          "output_type": "stream",
          "text": [
            "Building prefix dict from the default dictionary ...\n",
            "Dumping model to file cache /tmp/jieba.cache\n",
            "Loading model cost 0.883 seconds.\n",
            "Prefix dict has been built successfully.\n"
          ],
          "name": "stderr"
        }
      ]
    },
    {
      "cell_type": "code",
      "metadata": {
        "id": "QBjRNdg1pP3Z",
        "colab_type": "code",
        "outputId": "71cd5607-e5ef-4240-c3c7-98558dfa52b7",
        "colab": {
          "base_uri": "https://localhost:8080/",
          "height": 187
        }
      },
      "source": [
        "tokenizer_chinese = Tokenizer(num_words = vocab_size, oov_token=oov_tok,lower=False)\n",
        "tokenizer_chinese.fit_on_texts(df_train['title1_zh']+df_train['title2_zh'])\n",
        "word_index = tokenizer_chinese.word_index\n",
        "dict(list(word_index.items())[0:10])"
      ],
      "execution_count": 0,
      "outputs": [
        {
          "output_type": "execute_result",
          "data": {
            "text/plain": [
              "{'<OOV>': 1,\n",
              " '不': 9,\n",
              " '了': 3,\n",
              " '你': 5,\n",
              " '吃': 7,\n",
              " '是': 4,\n",
              " '的': 2,\n",
              " '被': 6,\n",
              " '谣言': 8,\n",
              " '这': 10}"
            ]
          },
          "metadata": {
            "tags": []
          },
          "execution_count": 11
        }
      ]
    },
    {
      "cell_type": "code",
      "metadata": {
        "id": "rYyMEuotpQU2",
        "colab_type": "code",
        "colab": {}
      },
      "source": [
        "X = {'title1': df_train['title1_zh'], 'title2': df_train['title2_zh']}\n",
        "\n",
        "for x_train_seq, side in itertools.product([X], ['title1', 'title2']):\n",
        "    x_train_seq[side] = tokenizer_chinese.texts_to_sequences(x_train_seq[side])\n",
        "    x_train_seq[side] = pad_sequences(x_train_seq[side], padding=padding_type, truncating=trunc_type, maxlen=max_len)"
      ],
      "execution_count": 0,
      "outputs": []
    },
    {
      "cell_type": "code",
      "metadata": {
        "id": "V6YpC9TCpP1e",
        "colab_type": "code",
        "colab": {}
      },
      "source": [
        "X = {'title1': df_test['title1_zh'], 'title2': df_test['title2_zh']}\n",
        "\n",
        "for x_test_seq, side in itertools.product([X], ['title1', 'title2']):\n",
        "    x_test_seq[side] = tokenizer_chinese.texts_to_sequences(x_test_seq[side])\n",
        "    x_test_seq[side] = pad_sequences(x_test_seq[side], padding=padding_type, truncating=trunc_type, maxlen=max_len)"
      ],
      "execution_count": 0,
      "outputs": []
    },
    {
      "cell_type": "code",
      "metadata": {
        "id": "4bvK87iopPyE",
        "colab_type": "code",
        "outputId": "5f24ad2b-cd6e-4652-851a-0510e0fe9a7c",
        "colab": {
          "base_uri": "https://localhost:8080/",
          "height": 68
        }
      },
      "source": [
        "reverse_word_index = dict([(value, key) for (key, value) in word_index.items()])\n",
        "\n",
        "def decode_title(text):\n",
        "    return ' '.join([reverse_word_index.get(i, '?') for i in text])\n",
        "print(decode_title(x_train_seq['title2'][9]))\n",
        "print('---')\n",
        "print(df_train['title2_zh'][9])"
      ],
      "execution_count": 0,
      "outputs": [
        {
          "output_type": "stream",
          "text": [
            "吃 了 30 年 食用油 才 知道 一片 大蒜 轻松 鉴别 地沟油 ? ? ? ? ? ? ? ? ? ? ? ? ? ? ? ? ? ?\n",
            "---\n",
            "吃 了 30 年 食用油 才 知道 一片 大蒜 轻松 鉴别 地沟油\n"
          ],
          "name": "stdout"
        }
      ]
    },
    {
      "cell_type": "markdown",
      "metadata": {
        "id": "fzxhS5_n67SO",
        "colab_type": "text"
      },
      "source": [
        "## Model creation working without HP parameters"
      ]
    },
    {
      "cell_type": "code",
      "metadata": {
        "id": "7SAFVBKlzEuo",
        "colab_type": "code",
        "colab": {}
      },
      "source": [
        "def get_f1(y_true, y_pred): #taken from old keras source code\n",
        "    true_positives = K.sum(K.round(K.clip(y_true * y_pred, 0, 1)))\n",
        "    possible_positives = K.sum(K.round(K.clip(y_true, 0, 1)))\n",
        "    predicted_positives = K.sum(K.round(K.clip(y_pred, 0, 1)))\n",
        "    precision = true_positives / (predicted_positives + K.epsilon())\n",
        "    recall = true_positives / (possible_positives + K.epsilon())\n",
        "    f1_val = 2*(precision*recall)/(precision+recall+K.epsilon())\n",
        "    return f1_val"
      ],
      "execution_count": 0,
      "outputs": []
    },
    {
      "cell_type": "code",
      "metadata": {
        "id": "8-ql0s_WGJEs",
        "colab_type": "code",
        "colab": {}
      },
      "source": [
        "#Attention implementation borrowed from https://matthewmcateer.me/blog/getting-started-with-attention-for-classification/\n",
        "\n",
        "class Attention(tf.keras.Model):\n",
        "\tdef __init__(self, units):\n",
        "\t\tsuper(Attention, self).__init__()\n",
        "\t\tself.W1 = tf.keras.layers.Dense(units)\n",
        "\t\tself.W2 = tf.keras.layers.Dense(units)\n",
        "\t\tself.V = tf.keras.layers.Dense(1)\n",
        "\n",
        "\tdef call(self, features, hidden):\n",
        "\t\t# hidden shape == (batch_size, hidden size)\n",
        "\t\t# hidden_with_time_axis shape == (batch_size, 1, hidden size)\n",
        "\t\t# we are doing this to perform addition to calculate the score\n",
        "\t\thidden_with_time_axis = tf.expand_dims(hidden, 1)\n",
        "\t\t  \n",
        "\t\t# score shape == (batch_size, max_length, 1)\n",
        "\t\t# we get 1 at the last axis because we are applying score to self.V\n",
        "\t\t# the shape of the tensor before applying self.V is (batch_size, max_length, units)\n",
        "\t\tscore = tf.nn.tanh(\n",
        "\t\t\tself.W1(features) + self.W2(hidden_with_time_axis))\n",
        "\t\t# attention_weights shape == (batch_size, max_length, 1)\n",
        "\t\tattention_weights = tf.nn.softmax(self.V(score), axis=1)\n",
        "\t\t  \n",
        "\t\t# context_vector shape after sum == (batch_size, hidden_size)\n",
        "\t\tcontext_vector = attention_weights * features\n",
        "\t\tcontext_vector = tf.reduce_sum(context_vector, axis=1)\n",
        "\t\treturn context_vector, attention_weights"
      ],
      "execution_count": 0,
      "outputs": []
    },
    {
      "cell_type": "code",
      "metadata": {
        "id": "LFus3iGr67SP",
        "colab_type": "code",
        "outputId": "7f6a8db4-bfde-4d54-d55b-8c967f75f63b",
        "colab": {
          "base_uri": "https://localhost:8080/",
          "height": 289
        }
      },
      "source": [
        "shared_model = tf.keras.models.Sequential([\n",
        "    tf.keras.layers.Embedding(vocab_size, 1024, input_length=max_len, trainable=True),\n",
        "    tf.keras.layers.Bidirectional(tf.keras.layers.LSTM(1024, dropout=0.3,return_sequences=True)),\n",
        "    tf.keras.layers.Bidirectional(tf.keras.layers.GRU(1024,dropout=0.3, return_sequences=True)),\n",
        "    tf.keras.layers.Bidirectional(tf.keras.layers.GRU(1024,dropout=0.3, return_sequences=False)),\n",
        "])\n",
        "\n",
        "###Model architecture with attention 68%\n",
        "# title1_input = tf.keras.layers.Input(shape=(max_len,), dtype='int32')\n",
        "# title2_input = tf.keras.layers.Input(shape=(max_len,), dtype='int32')\n",
        "# embed1 = tf.keras.layers.Embedding(vocab_size, embedding_size, input_length=max_len, trainable=True)(title1_input)\n",
        "# embed2 = tf.keras.layers.Embedding(vocab_size, embedding_size, input_length=max_len, trainable=True)(title2_input)\n",
        "\n",
        "# lstm1 = tf.keras.layers.Bidirectional(tf.keras.layers.LSTM(units=100, return_sequences = True), name=\"bi_lstm_0\")(embed1)\n",
        "# lstm2 = tf.keras.layers.Bidirectional(tf.keras.layers.LSTM(units=100, return_sequences = True), name=\"bi_lstm_1\")(embed2)\n",
        "\n",
        "# lstm1, forward_h1, forward_c1, backward_h1, backward_c1 = tf.keras.layers.Bidirectional(tf.keras.layers.LSTM(100, dropout=0.1,return_sequences=True,return_state=True))(lstm1)\n",
        "# lstm2, forward_h2, forward_c2, backward_h2, backward_c2 = tf.keras.layers.Bidirectional(tf.keras.layers.LSTM(100, dropout=0.1,return_sequences=True,return_state=True))(lstm2)\n",
        "\n",
        "# state_h1 = tf.keras.layers.Concatenate()([forward_h1, backward_h1])\n",
        "# state_h2 = tf.keras.layers.Concatenate()([forward_h2, backward_h2])\n",
        "\n",
        "# context_vector1, attention_weights1 = Attention(10)(lstm1, state_h1)\n",
        "# context_vector2, attention_weights2 = Attention(10)(lstm2, state_h2)\n",
        "# merged = tf.keras.layers.concatenate([context_vector1,context_vector2])\n",
        "# output = tf.keras.layers.Dense(units=3, activation='softmax')(merged)\n",
        "# # output2 = tf.keras.layers.Dense(units=3, activation='softmax')(context_vector2)\n",
        "\n",
        "# # output = tf.keras.layers.concatenate([output1,output2])\n",
        "# model = tf.keras.models.Model(inputs=[title1_input, title2_input], outputs=[output])\n",
        "shared_model.summary()"
      ],
      "execution_count": 0,
      "outputs": [
        {
          "output_type": "stream",
          "text": [
            "Model: \"sequential_1\"\n",
            "_________________________________________________________________\n",
            "Layer (type)                 Output Shape              Param #   \n",
            "=================================================================\n",
            "embedding_1 (Embedding)      (None, 30, 1024)          8192000   \n",
            "_________________________________________________________________\n",
            "bidirectional_3 (Bidirection (None, 30, 2048)          16785408  \n",
            "_________________________________________________________________\n",
            "bidirectional_4 (Bidirection (None, 30, 2048)          18886656  \n",
            "_________________________________________________________________\n",
            "bidirectional_5 (Bidirection (None, 2048)              18886656  \n",
            "=================================================================\n",
            "Total params: 62,750,720\n",
            "Trainable params: 62,750,720\n",
            "Non-trainable params: 0\n",
            "_________________________________________________________________\n"
          ],
          "name": "stdout"
        }
      ]
    },
    {
      "cell_type": "code",
      "metadata": {
        "id": "bLP6TF5167SR",
        "colab_type": "code",
        "outputId": "5cb38437-d31a-42bd-fdd4-8fc7740b4e1b",
        "colab": {
          "base_uri": "https://localhost:8080/",
          "height": 357
        }
      },
      "source": [
        "title1_input = tf.keras.layers.Input(shape=(max_len,), dtype='int32')\n",
        "title2_input = tf.keras.layers.Input(shape=(max_len,), dtype='int32')\n",
        "lstm1 = shared_model(title1_input)\n",
        "lstm2 = shared_model(title2_input)\n",
        "merged = tf.keras.layers.concatenate([lstm1,lstm2])\n",
        "#merged = tf.keras.layers.Dense(3, activation='relu')(merged)\n",
        "output = tf.keras.layers.Dense(3, activation='softmax')(merged)\n",
        "model = tf.keras.models.Model(inputs=[title1_input, title2_input], outputs=[output])\n",
        "model.summary()"
      ],
      "execution_count": 0,
      "outputs": [
        {
          "output_type": "stream",
          "text": [
            "Model: \"model\"\n",
            "__________________________________________________________________________________________________\n",
            "Layer (type)                    Output Shape         Param #     Connected to                     \n",
            "==================================================================================================\n",
            "input_1 (InputLayer)            [(None, 30)]         0                                            \n",
            "__________________________________________________________________________________________________\n",
            "input_2 (InputLayer)            [(None, 30)]         0                                            \n",
            "__________________________________________________________________________________________________\n",
            "sequential_1 (Sequential)       (None, 2048)         62750720    input_1[0][0]                    \n",
            "                                                                 input_2[0][0]                    \n",
            "__________________________________________________________________________________________________\n",
            "concatenate (Concatenate)       (None, 4096)         0           sequential_1[1][0]               \n",
            "                                                                 sequential_1[2][0]               \n",
            "__________________________________________________________________________________________________\n",
            "dense (Dense)                   (None, 3)            12291       concatenate[0][0]                \n",
            "==================================================================================================\n",
            "Total params: 62,763,011\n",
            "Trainable params: 62,763,011\n",
            "Non-trainable params: 0\n",
            "__________________________________________________________________________________________________\n"
          ],
          "name": "stdout"
        }
      ]
    },
    {
      "cell_type": "code",
      "metadata": {
        "id": "OH4EvRZO67Sp",
        "colab_type": "code",
        "colab": {}
      },
      "source": [
        "#Choose optimizer and compile model\n",
        "opt_algo = tf.keras.optimizers.RMSprop(0.001)\n",
        "#opt_algo = tf.keras.optimizers.Adam(0.001)\n",
        "\n",
        "model.compile(loss='categorical_crossentropy', optimizer=opt_algo, metrics=[get_f1,'accuracy',\n",
        "                                                                                      tf.keras.metrics.Precision()\n",
        "                                                                                      ,tf.keras.metrics.Recall()\n",
        "                                                                                      ])"
      ],
      "execution_count": 0,
      "outputs": []
    },
    {
      "cell_type": "code",
      "metadata": {
        "scrolled": true,
        "id": "9lo89hqt67Su",
        "colab_type": "code",
        "colab": {}
      },
      "source": [
        "# num_epochs = 4\n",
        "# trained_model = model.fit([x_train_seq['title1'], x_train_seq['title2']], np.array(onehot_encoded),\n",
        "#                            epochs=num_epochs,\n",
        "#                            validation_split=0.2,\n",
        "#                            verbose=2)"
      ],
      "execution_count": 0,
      "outputs": []
    },
    {
      "cell_type": "code",
      "metadata": {
        "id": "G-WEmTnDaDw0",
        "colab_type": "code",
        "outputId": "ccf465c2-31fb-4ae1-b027-edf1c9a18aeb",
        "colab": {
          "base_uri": "https://localhost:8080/",
          "height": 173
        }
      },
      "source": [
        "num_epochs = 5\n",
        "trained_model = model.fit([x_train_seq['title1'], x_train_seq['title2']], np.array(onehot_encoded_y_train),\n",
        "                           epochs=num_epochs,\n",
        "                           batch_size = 64,\n",
        "                           callbacks = tf.keras.callbacks.EarlyStopping(patience=2),\n",
        "                           validation_data=([x_validation_seq['title1'], x_validation_seq['title2']], np.array(onehot_encoded_y_validation)),\n",
        "                           verbose=2)"
      ],
      "execution_count": 0,
      "outputs": [
        {
          "output_type": "stream",
          "text": [
            "Epoch 1/5\n",
            "4007/4007 - 1174s - loss: 0.6145 - get_f1: 0.7177 - accuracy: 0.7202 - precision: 0.7230 - recall: 0.7138 - val_loss: 0.6409 - val_get_f1: 0.6836 - val_accuracy: 0.6842 - val_precision: 0.6849 - val_recall: 0.6825\n",
            "Epoch 2/5\n",
            "4007/4007 - 1174s - loss: 0.4776 - get_f1: 0.7905 - accuracy: 0.7910 - precision: 0.7924 - recall: 0.7887 - val_loss: 0.6390 - val_get_f1: 0.6872 - val_accuracy: 0.6902 - val_precision: 0.6921 - val_recall: 0.6834\n",
            "Epoch 3/5\n",
            "4007/4007 - 1170s - loss: 0.4576 - get_f1: 0.8057 - accuracy: 0.8062 - precision: 0.8075 - recall: 0.8040 - val_loss: 0.6829 - val_get_f1: 0.6895 - val_accuracy: 0.6895 - val_precision: 0.6899 - val_recall: 0.6891\n",
            "Epoch 4/5\n",
            "4007/4007 - 1171s - loss: 0.4475 - get_f1: 0.8131 - accuracy: 0.8134 - precision: 0.8147 - recall: 0.8115 - val_loss: 0.6734 - val_get_f1: 0.6691 - val_accuracy: 0.6734 - val_precision: 0.6777 - val_recall: 0.6631\n"
          ],
          "name": "stdout"
        }
      ]
    },
    {
      "cell_type": "code",
      "metadata": {
        "id": "RlRScIyh67Sy",
        "colab_type": "code",
        "colab": {}
      },
      "source": [
        "#loss, f1, accuracy, prec, rec = model.evaluate([x_validation_seq['title1'], x_validation_seq['title2']], np.array(y_validation_seq))"
      ],
      "execution_count": 0,
      "outputs": []
    },
    {
      "cell_type": "markdown",
      "metadata": {
        "id": "LyfEZvXh67S1",
        "colab_type": "text"
      },
      "source": [
        "## Model creation with HP parameters"
      ]
    },
    {
      "cell_type": "code",
      "metadata": {
        "id": "4LkZyiuC67S2",
        "colab_type": "code",
        "colab": {}
      },
      "source": [
        "def get_opt_algo(algo, learning_rate):\n",
        "    #Depending on the optimization algo specified create the algo object with specified learning rate\n",
        "    if algo == 'rmsprop':\n",
        "        opt_algo = tf.keras.optimizers.RMSprop(learning_rate)\n",
        "    elif algo == 'adam':\n",
        "        opt_algo = tf.keras.optimizers.Adam(learning_rate)\n",
        "    else:#For now it defaults to SGD\n",
        "        opt_algo = tf.keras.optimizers.SGD(learning_rate)\n",
        "    return opt_algo"
      ],
      "execution_count": 0,
      "outputs": []
    },
    {
      "cell_type": "code",
      "metadata": {
        "id": "BnUH9LBT67S4",
        "colab_type": "code",
        "colab": {}
      },
      "source": [
        "def getEmbeddingLayer(embedding):\n",
        "    if embedding == 'pretrained':\n",
        "        embedding_layer = tf.keras.layers.Embedding(len(word_index) + 1,\n",
        "                            100,\n",
        "                            weights=[embedding_matrix],\n",
        "                            input_length=max_len,\n",
        "                            trainable=True)\n",
        "    else:\n",
        "        embedding_layer = tf.keras.layers.Embedding(vocab_size, embedding_size, \n",
        "                                            input_length=max_len, trainable=True)\n",
        "    return embedding_layer"
      ],
      "execution_count": 0,
      "outputs": []
    },
    {
      "cell_type": "code",
      "metadata": {
        "id": "n-3_gzNA67S8",
        "colab_type": "code",
        "colab": {}
      },
      "source": [
        "def get_f1(y_true, y_pred): #taken from old keras source code\n",
        "    true_positives = K.sum(K.round(K.clip(y_true * y_pred, 0, 1)))\n",
        "    possible_positives = K.sum(K.round(K.clip(y_true, 0, 1)))\n",
        "    predicted_positives = K.sum(K.round(K.clip(y_pred, 0, 1)))\n",
        "    precision = true_positives / (predicted_positives + K.epsilon())\n",
        "    recall = true_positives / (possible_positives + K.epsilon())\n",
        "    f1_val = 2*(precision*recall)/(precision+recall+K.epsilon())\n",
        "    return f1_val"
      ],
      "execution_count": 0,
      "outputs": []
    },
    {
      "cell_type": "code",
      "metadata": {
        "id": "xmb9B7elEpj8",
        "colab_type": "code",
        "colab": {}
      },
      "source": [
        "def getHiddenLayer(layer):\n",
        "  if layer == 'LSTM':\n",
        "    hidden = tf.keras.layers.Bidirectional(tf.keras.layers.LSTM(512,dropout=0.3, return_sequences=False))\n",
        "  else:\n",
        "    hidden = tf.keras.layers.Bidirectional(tf.keras.layers.GRU(512,dropout=0.3, return_sequences=False))\n",
        "  return hidden"
      ],
      "execution_count": 0,
      "outputs": []
    },
    {
      "cell_type": "code",
      "metadata": {
        "id": "0u67aJNw67TD",
        "colab_type": "code",
        "colab": {}
      },
      "source": [
        "def train_and_test_model(hparams):\n",
        "    shared_model = tf.keras.models.Sequential([\n",
        "        #getEmbeddingLayer(hparams[HP_EMBEDDING_LAYER]),\n",
        "        tf.keras.layers.Embedding(vocab_size, 512, input_length=max_len, trainable=True),\n",
        "        getHiddenLayer(hparams[HP_HIDDEN_LAYER]),\n",
        "        #tf.keras.layers.Bidirectional(tf.keras.layers.GRU(512,dropout=0.3, return_sequences=False)),\n",
        "        #tf.keras.layers.Bidirectional(tf.keras.layers.GRU(hparams[HP_NUM_UNITS],dropout=hparams[HP_DROPOUT], return_sequences=False)),\n",
        "        #tf.keras.layers.Bidirectional(tf.keras.layers.LSTM(hparams[HP_NUM_UNITS],dropout=0.3, return_sequences=False)),\n",
        "        #tf.keras.layers.LSTM(hparams[HP_NUM_UNITS],dropout=hparams[HP_DROPOUT]),\n",
        "    ])\n",
        "    title1_input = tf.keras.layers.Input(shape=(max_len,), dtype='int32')\n",
        "    title2_input = tf.keras.layers.Input(shape=(max_len,), dtype='int32')\n",
        "    lstm1 = shared_model(title1_input)\n",
        "    lstm2 = shared_model(title2_input)\n",
        "    merged = tf.keras.layers.concatenate([lstm1,lstm2])\n",
        "    #merged = tf.keras.layers.Dense(3, activation='relu')(merged)\n",
        "    output = tf.keras.layers.Dense(3, activation='softmax')(merged)\n",
        "    model = tf.keras.models.Model(inputs=[title1_input, title2_input], outputs=[output])\n",
        "    opt_algo = get_opt_algo(hparams[HP_OPTIMIZER], hparams[HP_LEARNING_RATE])\n",
        "    #opt_algo = tf.keras.optimizers.Adam(hparams[HP_LEARNING_RATE])\n",
        "    model.compile(loss='categorical_crossentropy', optimizer=opt_algo, metrics=[get_f1,'accuracy',\n",
        "                                                                                      tf.keras.metrics.Precision(),\n",
        "                                                                                      tf.keras.metrics.Recall()\n",
        "                                                                                      ])\n",
        "    num_epochs = 2\n",
        "    \n",
        "    trained_model = model.fit([x_train_seq['title1'], x_train_seq['title2']], np.array(onehot_encoded_y_train),\n",
        "                           epochs=num_epochs,\n",
        "                           validation_split=0.2,\n",
        "                           batch_size = hparams[HP_BATCH_SIZE],\n",
        "                           callbacks = tf.keras.callbacks.EarlyStopping(patience=2),\n",
        "                           verbose=2)\n",
        "\n",
        "    loss, f1,accuracy, prec, recall = model.evaluate([x_validation_seq['title1'], x_validation_seq['title2']], np.array(onehot_encoded_y_validation))\n",
        "    return loss, f1, accuracy, recall, prec "
      ],
      "execution_count": 0,
      "outputs": []
    },
    {
      "cell_type": "code",
      "metadata": {
        "id": "CXox-Iyd67TJ",
        "colab_type": "code",
        "colab": {}
      },
      "source": [
        "def run(run_dir, hparams):\n",
        "    with tf.summary.create_file_writer(run_dir).as_default():\n",
        "        hp.hparams(hparams)  # record the values used in this trial\n",
        "        loss, f1,accuracy, prec,recall = train_and_test_model(hparams)\n",
        "        tf.summary.scalar(METRIC_ACCURACY, accuracy, step=1)\n",
        "        tf.summary.scalar(METRIC_LOSS, loss, step=1)\n",
        "        tf.summary.scalar(METRIC_F1_MAC, f1, step=1)\n",
        "        tf.summary.scalar(METRIC_PRECISION, prec, step=1)\n",
        "        tf.summary.scalar(METRIC_RECALL, recall, step=1)"
      ],
      "execution_count": 0,
      "outputs": []
    },
    {
      "cell_type": "code",
      "metadata": {
        "id": "ZckVgiaO67TQ",
        "colab_type": "code",
        "outputId": "78b75412-f5e5-409a-9c30-f18603953dd2",
        "colab": {
          "base_uri": "https://localhost:8080/",
          "height": 428
        }
      },
      "source": [
        "session_num = 0\n",
        "\n",
        "for optimizer in HP_OPTIMIZER.domain.values:\n",
        "  #for num_units in HP_NUM_UNITS.domain.values:\n",
        "    for batch_size in HP_BATCH_SIZE.domain.values:\n",
        "      #for dropout_rate in HP_DROPOUT.domain.values:\n",
        "        for hidden_layer in HP_HIDDEN_LAYER.domain.values:\n",
        "                #for vocab_size in HP_VOCAB_SIZE.domain.values:\n",
        "          for learning_rate in HP_LEARNING_RATE.domain.values:\n",
        "           for embedding_layer in HP_EMBEDDING_LAYER.domain.values:\n",
        "            #for attention in HP_ATTENTION.domain.values:\n",
        "              hparams = {\n",
        "                #HP_NUM_UNITS: num_units,\n",
        "               # HP_DROPOUT: dropout_rate,\n",
        "                HP_OPTIMIZER: optimizer,\n",
        "                HP_HIDDEN_LAYER: hidden_layer,\n",
        "                HP_EMBEDDING_LAYER: embedding_layer,\n",
        "                #HP_VOCAB_SIZE: vocab_size,\n",
        "                HP_LEARNING_RATE: learning_rate,\n",
        "                HP_BATCH_SIZE: batch_size,\n",
        "               # HP_ATTENTION: attention\n",
        "              }\n",
        "              run_name = \"run-%d\" % session_num\n",
        "              print('--- Starting trial: %s' % run_name)\n",
        "              print({h.name: hparams[h] for h in hparams})\n",
        "              run('logs1/hparam_tuning/' + run_name, hparams)\n",
        "              session_num += 1"
      ],
      "execution_count": 0,
      "outputs": [
        {
          "output_type": "stream",
          "text": [
            "--- Starting trial: run-0\n",
            "{'optimizer': 'adam', 'hidden_layer': 'GRU', 'embedding': 'from_scratch', 'learning_rate': 0.01, 'batch_size': 64}\n",
            "Epoch 1/2\n"
          ],
          "name": "stdout"
        },
        {
          "output_type": "error",
          "ename": "KeyboardInterrupt",
          "evalue": "ignored",
          "traceback": [
            "\u001b[0;31m---------------------------------------------------------------------------\u001b[0m",
            "\u001b[0;31mKeyboardInterrupt\u001b[0m                         Traceback (most recent call last)",
            "\u001b[0;32m<ipython-input-35-6d9d2b7e6d2f>\u001b[0m in \u001b[0;36m<module>\u001b[0;34m()\u001b[0m\n\u001b[1;32m     24\u001b[0m               \u001b[0mprint\u001b[0m\u001b[0;34m(\u001b[0m\u001b[0;34m'--- Starting trial: %s'\u001b[0m \u001b[0;34m%\u001b[0m \u001b[0mrun_name\u001b[0m\u001b[0;34m)\u001b[0m\u001b[0;34m\u001b[0m\u001b[0;34m\u001b[0m\u001b[0m\n\u001b[1;32m     25\u001b[0m               \u001b[0mprint\u001b[0m\u001b[0;34m(\u001b[0m\u001b[0;34m{\u001b[0m\u001b[0mh\u001b[0m\u001b[0;34m.\u001b[0m\u001b[0mname\u001b[0m\u001b[0;34m:\u001b[0m \u001b[0mhparams\u001b[0m\u001b[0;34m[\u001b[0m\u001b[0mh\u001b[0m\u001b[0;34m]\u001b[0m \u001b[0;32mfor\u001b[0m \u001b[0mh\u001b[0m \u001b[0;32min\u001b[0m \u001b[0mhparams\u001b[0m\u001b[0;34m}\u001b[0m\u001b[0;34m)\u001b[0m\u001b[0;34m\u001b[0m\u001b[0;34m\u001b[0m\u001b[0m\n\u001b[0;32m---> 26\u001b[0;31m               \u001b[0mrun\u001b[0m\u001b[0;34m(\u001b[0m\u001b[0;34m'logs1/hparam_tuning/'\u001b[0m \u001b[0;34m+\u001b[0m \u001b[0mrun_name\u001b[0m\u001b[0;34m,\u001b[0m \u001b[0mhparams\u001b[0m\u001b[0;34m)\u001b[0m\u001b[0;34m\u001b[0m\u001b[0;34m\u001b[0m\u001b[0m\n\u001b[0m\u001b[1;32m     27\u001b[0m               \u001b[0msession_num\u001b[0m \u001b[0;34m+=\u001b[0m \u001b[0;36m1\u001b[0m\u001b[0;34m\u001b[0m\u001b[0;34m\u001b[0m\u001b[0m\n",
            "\u001b[0;32m<ipython-input-30-605268f24092>\u001b[0m in \u001b[0;36mrun\u001b[0;34m(run_dir, hparams)\u001b[0m\n\u001b[1;32m      2\u001b[0m     \u001b[0;32mwith\u001b[0m \u001b[0mtf\u001b[0m\u001b[0;34m.\u001b[0m\u001b[0msummary\u001b[0m\u001b[0;34m.\u001b[0m\u001b[0mcreate_file_writer\u001b[0m\u001b[0;34m(\u001b[0m\u001b[0mrun_dir\u001b[0m\u001b[0;34m)\u001b[0m\u001b[0;34m.\u001b[0m\u001b[0mas_default\u001b[0m\u001b[0;34m(\u001b[0m\u001b[0;34m)\u001b[0m\u001b[0;34m:\u001b[0m\u001b[0;34m\u001b[0m\u001b[0;34m\u001b[0m\u001b[0m\n\u001b[1;32m      3\u001b[0m         \u001b[0mhp\u001b[0m\u001b[0;34m.\u001b[0m\u001b[0mhparams\u001b[0m\u001b[0;34m(\u001b[0m\u001b[0mhparams\u001b[0m\u001b[0;34m)\u001b[0m  \u001b[0;31m# record the values used in this trial\u001b[0m\u001b[0;34m\u001b[0m\u001b[0;34m\u001b[0m\u001b[0m\n\u001b[0;32m----> 4\u001b[0;31m         \u001b[0mloss\u001b[0m\u001b[0;34m,\u001b[0m \u001b[0mf1\u001b[0m\u001b[0;34m,\u001b[0m\u001b[0maccuracy\u001b[0m\u001b[0;34m,\u001b[0m \u001b[0mprec\u001b[0m\u001b[0;34m,\u001b[0m\u001b[0mrecall\u001b[0m \u001b[0;34m=\u001b[0m \u001b[0mtrain_and_test_model\u001b[0m\u001b[0;34m(\u001b[0m\u001b[0mhparams\u001b[0m\u001b[0;34m)\u001b[0m\u001b[0;34m\u001b[0m\u001b[0;34m\u001b[0m\u001b[0m\n\u001b[0m\u001b[1;32m      5\u001b[0m         \u001b[0mtf\u001b[0m\u001b[0;34m.\u001b[0m\u001b[0msummary\u001b[0m\u001b[0;34m.\u001b[0m\u001b[0mscalar\u001b[0m\u001b[0;34m(\u001b[0m\u001b[0mMETRIC_ACCURACY\u001b[0m\u001b[0;34m,\u001b[0m \u001b[0maccuracy\u001b[0m\u001b[0;34m,\u001b[0m \u001b[0mstep\u001b[0m\u001b[0;34m=\u001b[0m\u001b[0;36m1\u001b[0m\u001b[0;34m)\u001b[0m\u001b[0;34m\u001b[0m\u001b[0;34m\u001b[0m\u001b[0m\n\u001b[1;32m      6\u001b[0m         \u001b[0mtf\u001b[0m\u001b[0;34m.\u001b[0m\u001b[0msummary\u001b[0m\u001b[0;34m.\u001b[0m\u001b[0mscalar\u001b[0m\u001b[0;34m(\u001b[0m\u001b[0mMETRIC_LOSS\u001b[0m\u001b[0;34m,\u001b[0m \u001b[0mloss\u001b[0m\u001b[0;34m,\u001b[0m \u001b[0mstep\u001b[0m\u001b[0;34m=\u001b[0m\u001b[0;36m1\u001b[0m\u001b[0;34m)\u001b[0m\u001b[0;34m\u001b[0m\u001b[0;34m\u001b[0m\u001b[0m\n",
            "\u001b[0;32m<ipython-input-34-5cb751d5e942>\u001b[0m in \u001b[0;36mtrain_and_test_model\u001b[0;34m(hparams)\u001b[0m\n\u001b[1;32m     34\u001b[0m                            \u001b[0mbatch_size\u001b[0m \u001b[0;34m=\u001b[0m \u001b[0mhparams\u001b[0m\u001b[0;34m[\u001b[0m\u001b[0mHP_BATCH_SIZE\u001b[0m\u001b[0;34m]\u001b[0m\u001b[0;34m,\u001b[0m\u001b[0;34m\u001b[0m\u001b[0;34m\u001b[0m\u001b[0m\n\u001b[1;32m     35\u001b[0m                            \u001b[0mcallbacks\u001b[0m \u001b[0;34m=\u001b[0m \u001b[0mtf\u001b[0m\u001b[0;34m.\u001b[0m\u001b[0mkeras\u001b[0m\u001b[0;34m.\u001b[0m\u001b[0mcallbacks\u001b[0m\u001b[0;34m.\u001b[0m\u001b[0mEarlyStopping\u001b[0m\u001b[0;34m(\u001b[0m\u001b[0mpatience\u001b[0m\u001b[0;34m=\u001b[0m\u001b[0;36m2\u001b[0m\u001b[0;34m)\u001b[0m\u001b[0;34m,\u001b[0m\u001b[0;34m\u001b[0m\u001b[0;34m\u001b[0m\u001b[0m\n\u001b[0;32m---> 36\u001b[0;31m                            verbose=2)\n\u001b[0m\u001b[1;32m     37\u001b[0m \u001b[0;34m\u001b[0m\u001b[0m\n\u001b[1;32m     38\u001b[0m     \u001b[0mloss\u001b[0m\u001b[0;34m,\u001b[0m \u001b[0mf1\u001b[0m\u001b[0;34m,\u001b[0m\u001b[0maccuracy\u001b[0m\u001b[0;34m,\u001b[0m \u001b[0mprec\u001b[0m\u001b[0;34m,\u001b[0m \u001b[0mrecall\u001b[0m \u001b[0;34m=\u001b[0m \u001b[0mmodel\u001b[0m\u001b[0;34m.\u001b[0m\u001b[0mevaluate\u001b[0m\u001b[0;34m(\u001b[0m\u001b[0;34m[\u001b[0m\u001b[0mx_validation_seq\u001b[0m\u001b[0;34m[\u001b[0m\u001b[0;34m'title1'\u001b[0m\u001b[0;34m]\u001b[0m\u001b[0;34m,\u001b[0m \u001b[0mx_validation_seq\u001b[0m\u001b[0;34m[\u001b[0m\u001b[0;34m'title2'\u001b[0m\u001b[0;34m]\u001b[0m\u001b[0;34m]\u001b[0m\u001b[0;34m,\u001b[0m \u001b[0mnp\u001b[0m\u001b[0;34m.\u001b[0m\u001b[0marray\u001b[0m\u001b[0;34m(\u001b[0m\u001b[0monehot_encoded_y_validation\u001b[0m\u001b[0;34m)\u001b[0m\u001b[0;34m)\u001b[0m\u001b[0;34m\u001b[0m\u001b[0;34m\u001b[0m\u001b[0m\n",
            "\u001b[0;32m/usr/local/lib/python3.6/dist-packages/tensorflow/python/keras/engine/training.py\u001b[0m in \u001b[0;36m_method_wrapper\u001b[0;34m(self, *args, **kwargs)\u001b[0m\n\u001b[1;32m     64\u001b[0m   \u001b[0;32mdef\u001b[0m \u001b[0m_method_wrapper\u001b[0m\u001b[0;34m(\u001b[0m\u001b[0mself\u001b[0m\u001b[0;34m,\u001b[0m \u001b[0;34m*\u001b[0m\u001b[0margs\u001b[0m\u001b[0;34m,\u001b[0m \u001b[0;34m**\u001b[0m\u001b[0mkwargs\u001b[0m\u001b[0;34m)\u001b[0m\u001b[0;34m:\u001b[0m\u001b[0;34m\u001b[0m\u001b[0;34m\u001b[0m\u001b[0m\n\u001b[1;32m     65\u001b[0m     \u001b[0;32mif\u001b[0m \u001b[0;32mnot\u001b[0m \u001b[0mself\u001b[0m\u001b[0;34m.\u001b[0m\u001b[0m_in_multi_worker_mode\u001b[0m\u001b[0;34m(\u001b[0m\u001b[0;34m)\u001b[0m\u001b[0;34m:\u001b[0m  \u001b[0;31m# pylint: disable=protected-access\u001b[0m\u001b[0;34m\u001b[0m\u001b[0;34m\u001b[0m\u001b[0m\n\u001b[0;32m---> 66\u001b[0;31m       \u001b[0;32mreturn\u001b[0m \u001b[0mmethod\u001b[0m\u001b[0;34m(\u001b[0m\u001b[0mself\u001b[0m\u001b[0;34m,\u001b[0m \u001b[0;34m*\u001b[0m\u001b[0margs\u001b[0m\u001b[0;34m,\u001b[0m \u001b[0;34m**\u001b[0m\u001b[0mkwargs\u001b[0m\u001b[0;34m)\u001b[0m\u001b[0;34m\u001b[0m\u001b[0;34m\u001b[0m\u001b[0m\n\u001b[0m\u001b[1;32m     67\u001b[0m \u001b[0;34m\u001b[0m\u001b[0m\n\u001b[1;32m     68\u001b[0m     \u001b[0;31m# Running inside `run_distribute_coordinator` already.\u001b[0m\u001b[0;34m\u001b[0m\u001b[0;34m\u001b[0m\u001b[0;34m\u001b[0m\u001b[0m\n",
            "\u001b[0;32m/usr/local/lib/python3.6/dist-packages/tensorflow/python/keras/engine/training.py\u001b[0m in \u001b[0;36mfit\u001b[0;34m(self, x, y, batch_size, epochs, verbose, callbacks, validation_split, validation_data, shuffle, class_weight, sample_weight, initial_epoch, steps_per_epoch, validation_steps, validation_batch_size, validation_freq, max_queue_size, workers, use_multiprocessing)\u001b[0m\n\u001b[1;32m    846\u001b[0m                 batch_size=batch_size):\n\u001b[1;32m    847\u001b[0m               \u001b[0mcallbacks\u001b[0m\u001b[0;34m.\u001b[0m\u001b[0mon_train_batch_begin\u001b[0m\u001b[0;34m(\u001b[0m\u001b[0mstep\u001b[0m\u001b[0;34m)\u001b[0m\u001b[0;34m\u001b[0m\u001b[0;34m\u001b[0m\u001b[0m\n\u001b[0;32m--> 848\u001b[0;31m               \u001b[0mtmp_logs\u001b[0m \u001b[0;34m=\u001b[0m \u001b[0mtrain_function\u001b[0m\u001b[0;34m(\u001b[0m\u001b[0miterator\u001b[0m\u001b[0;34m)\u001b[0m\u001b[0;34m\u001b[0m\u001b[0;34m\u001b[0m\u001b[0m\n\u001b[0m\u001b[1;32m    849\u001b[0m               \u001b[0;31m# Catch OutOfRangeError for Datasets of unknown size.\u001b[0m\u001b[0;34m\u001b[0m\u001b[0;34m\u001b[0m\u001b[0;34m\u001b[0m\u001b[0m\n\u001b[1;32m    850\u001b[0m               \u001b[0;31m# This blocks until the batch has finished executing.\u001b[0m\u001b[0;34m\u001b[0m\u001b[0;34m\u001b[0m\u001b[0;34m\u001b[0m\u001b[0m\n",
            "\u001b[0;32m/usr/local/lib/python3.6/dist-packages/tensorflow/python/eager/def_function.py\u001b[0m in \u001b[0;36m__call__\u001b[0;34m(self, *args, **kwds)\u001b[0m\n\u001b[1;32m    578\u001b[0m         \u001b[0mxla_context\u001b[0m\u001b[0;34m.\u001b[0m\u001b[0mExit\u001b[0m\u001b[0;34m(\u001b[0m\u001b[0;34m)\u001b[0m\u001b[0;34m\u001b[0m\u001b[0;34m\u001b[0m\u001b[0m\n\u001b[1;32m    579\u001b[0m     \u001b[0;32melse\u001b[0m\u001b[0;34m:\u001b[0m\u001b[0;34m\u001b[0m\u001b[0;34m\u001b[0m\u001b[0m\n\u001b[0;32m--> 580\u001b[0;31m       \u001b[0mresult\u001b[0m \u001b[0;34m=\u001b[0m \u001b[0mself\u001b[0m\u001b[0;34m.\u001b[0m\u001b[0m_call\u001b[0m\u001b[0;34m(\u001b[0m\u001b[0;34m*\u001b[0m\u001b[0margs\u001b[0m\u001b[0;34m,\u001b[0m \u001b[0;34m**\u001b[0m\u001b[0mkwds\u001b[0m\u001b[0;34m)\u001b[0m\u001b[0;34m\u001b[0m\u001b[0;34m\u001b[0m\u001b[0m\n\u001b[0m\u001b[1;32m    581\u001b[0m \u001b[0;34m\u001b[0m\u001b[0m\n\u001b[1;32m    582\u001b[0m     \u001b[0;32mif\u001b[0m \u001b[0mtracing_count\u001b[0m \u001b[0;34m==\u001b[0m \u001b[0mself\u001b[0m\u001b[0;34m.\u001b[0m\u001b[0m_get_tracing_count\u001b[0m\u001b[0;34m(\u001b[0m\u001b[0;34m)\u001b[0m\u001b[0;34m:\u001b[0m\u001b[0;34m\u001b[0m\u001b[0;34m\u001b[0m\u001b[0m\n",
            "\u001b[0;32m/usr/local/lib/python3.6/dist-packages/tensorflow/python/eager/def_function.py\u001b[0m in \u001b[0;36m_call\u001b[0;34m(self, *args, **kwds)\u001b[0m\n\u001b[1;32m    609\u001b[0m       \u001b[0;31m# In this case we have created variables on the first call, so we run the\u001b[0m\u001b[0;34m\u001b[0m\u001b[0;34m\u001b[0m\u001b[0;34m\u001b[0m\u001b[0m\n\u001b[1;32m    610\u001b[0m       \u001b[0;31m# defunned version which is guaranteed to never create variables.\u001b[0m\u001b[0;34m\u001b[0m\u001b[0;34m\u001b[0m\u001b[0;34m\u001b[0m\u001b[0m\n\u001b[0;32m--> 611\u001b[0;31m       \u001b[0;32mreturn\u001b[0m \u001b[0mself\u001b[0m\u001b[0;34m.\u001b[0m\u001b[0m_stateless_fn\u001b[0m\u001b[0;34m(\u001b[0m\u001b[0;34m*\u001b[0m\u001b[0margs\u001b[0m\u001b[0;34m,\u001b[0m \u001b[0;34m**\u001b[0m\u001b[0mkwds\u001b[0m\u001b[0;34m)\u001b[0m  \u001b[0;31m# pylint: disable=not-callable\u001b[0m\u001b[0;34m\u001b[0m\u001b[0;34m\u001b[0m\u001b[0m\n\u001b[0m\u001b[1;32m    612\u001b[0m     \u001b[0;32melif\u001b[0m \u001b[0mself\u001b[0m\u001b[0;34m.\u001b[0m\u001b[0m_stateful_fn\u001b[0m \u001b[0;32mis\u001b[0m \u001b[0;32mnot\u001b[0m \u001b[0;32mNone\u001b[0m\u001b[0;34m:\u001b[0m\u001b[0;34m\u001b[0m\u001b[0;34m\u001b[0m\u001b[0m\n\u001b[1;32m    613\u001b[0m       \u001b[0;31m# Release the lock early so that multiple threads can perform the call\u001b[0m\u001b[0;34m\u001b[0m\u001b[0;34m\u001b[0m\u001b[0;34m\u001b[0m\u001b[0m\n",
            "\u001b[0;32m/usr/local/lib/python3.6/dist-packages/tensorflow/python/eager/function.py\u001b[0m in \u001b[0;36m__call__\u001b[0;34m(self, *args, **kwargs)\u001b[0m\n\u001b[1;32m   2418\u001b[0m     \u001b[0;32mwith\u001b[0m \u001b[0mself\u001b[0m\u001b[0;34m.\u001b[0m\u001b[0m_lock\u001b[0m\u001b[0;34m:\u001b[0m\u001b[0;34m\u001b[0m\u001b[0;34m\u001b[0m\u001b[0m\n\u001b[1;32m   2419\u001b[0m       \u001b[0mgraph_function\u001b[0m\u001b[0;34m,\u001b[0m \u001b[0margs\u001b[0m\u001b[0;34m,\u001b[0m \u001b[0mkwargs\u001b[0m \u001b[0;34m=\u001b[0m \u001b[0mself\u001b[0m\u001b[0;34m.\u001b[0m\u001b[0m_maybe_define_function\u001b[0m\u001b[0;34m(\u001b[0m\u001b[0margs\u001b[0m\u001b[0;34m,\u001b[0m \u001b[0mkwargs\u001b[0m\u001b[0;34m)\u001b[0m\u001b[0;34m\u001b[0m\u001b[0;34m\u001b[0m\u001b[0m\n\u001b[0;32m-> 2420\u001b[0;31m     \u001b[0;32mreturn\u001b[0m \u001b[0mgraph_function\u001b[0m\u001b[0;34m.\u001b[0m\u001b[0m_filtered_call\u001b[0m\u001b[0;34m(\u001b[0m\u001b[0margs\u001b[0m\u001b[0;34m,\u001b[0m \u001b[0mkwargs\u001b[0m\u001b[0;34m)\u001b[0m  \u001b[0;31m# pylint: disable=protected-access\u001b[0m\u001b[0;34m\u001b[0m\u001b[0;34m\u001b[0m\u001b[0m\n\u001b[0m\u001b[1;32m   2421\u001b[0m \u001b[0;34m\u001b[0m\u001b[0m\n\u001b[1;32m   2422\u001b[0m   \u001b[0;34m@\u001b[0m\u001b[0mproperty\u001b[0m\u001b[0;34m\u001b[0m\u001b[0;34m\u001b[0m\u001b[0m\n",
            "\u001b[0;32m/usr/local/lib/python3.6/dist-packages/tensorflow/python/eager/function.py\u001b[0m in \u001b[0;36m_filtered_call\u001b[0;34m(self, args, kwargs)\u001b[0m\n\u001b[1;32m   1663\u001b[0m          if isinstance(t, (ops.Tensor,\n\u001b[1;32m   1664\u001b[0m                            resource_variable_ops.BaseResourceVariable))),\n\u001b[0;32m-> 1665\u001b[0;31m         self.captured_inputs)\n\u001b[0m\u001b[1;32m   1666\u001b[0m \u001b[0;34m\u001b[0m\u001b[0m\n\u001b[1;32m   1667\u001b[0m   \u001b[0;32mdef\u001b[0m \u001b[0m_call_flat\u001b[0m\u001b[0;34m(\u001b[0m\u001b[0mself\u001b[0m\u001b[0;34m,\u001b[0m \u001b[0margs\u001b[0m\u001b[0;34m,\u001b[0m \u001b[0mcaptured_inputs\u001b[0m\u001b[0;34m,\u001b[0m \u001b[0mcancellation_manager\u001b[0m\u001b[0;34m=\u001b[0m\u001b[0;32mNone\u001b[0m\u001b[0;34m)\u001b[0m\u001b[0;34m:\u001b[0m\u001b[0;34m\u001b[0m\u001b[0;34m\u001b[0m\u001b[0m\n",
            "\u001b[0;32m/usr/local/lib/python3.6/dist-packages/tensorflow/python/eager/function.py\u001b[0m in \u001b[0;36m_call_flat\u001b[0;34m(self, args, captured_inputs, cancellation_manager)\u001b[0m\n\u001b[1;32m   1744\u001b[0m       \u001b[0;31m# No tape is watching; skip to running the function.\u001b[0m\u001b[0;34m\u001b[0m\u001b[0;34m\u001b[0m\u001b[0;34m\u001b[0m\u001b[0m\n\u001b[1;32m   1745\u001b[0m       return self._build_call_outputs(self._inference_function.call(\n\u001b[0;32m-> 1746\u001b[0;31m           ctx, args, cancellation_manager=cancellation_manager))\n\u001b[0m\u001b[1;32m   1747\u001b[0m     forward_backward = self._select_forward_and_backward_functions(\n\u001b[1;32m   1748\u001b[0m         \u001b[0margs\u001b[0m\u001b[0;34m,\u001b[0m\u001b[0;34m\u001b[0m\u001b[0;34m\u001b[0m\u001b[0m\n",
            "\u001b[0;32m/usr/local/lib/python3.6/dist-packages/tensorflow/python/eager/function.py\u001b[0m in \u001b[0;36mcall\u001b[0;34m(self, ctx, args, cancellation_manager)\u001b[0m\n\u001b[1;32m    596\u001b[0m               \u001b[0minputs\u001b[0m\u001b[0;34m=\u001b[0m\u001b[0margs\u001b[0m\u001b[0;34m,\u001b[0m\u001b[0;34m\u001b[0m\u001b[0;34m\u001b[0m\u001b[0m\n\u001b[1;32m    597\u001b[0m               \u001b[0mattrs\u001b[0m\u001b[0;34m=\u001b[0m\u001b[0mattrs\u001b[0m\u001b[0;34m,\u001b[0m\u001b[0;34m\u001b[0m\u001b[0;34m\u001b[0m\u001b[0m\n\u001b[0;32m--> 598\u001b[0;31m               ctx=ctx)\n\u001b[0m\u001b[1;32m    599\u001b[0m         \u001b[0;32melse\u001b[0m\u001b[0;34m:\u001b[0m\u001b[0;34m\u001b[0m\u001b[0;34m\u001b[0m\u001b[0m\n\u001b[1;32m    600\u001b[0m           outputs = execute.execute_with_cancellation(\n",
            "\u001b[0;32m/usr/local/lib/python3.6/dist-packages/tensorflow/python/eager/execute.py\u001b[0m in \u001b[0;36mquick_execute\u001b[0;34m(op_name, num_outputs, inputs, attrs, ctx, name)\u001b[0m\n\u001b[1;32m     58\u001b[0m     \u001b[0mctx\u001b[0m\u001b[0;34m.\u001b[0m\u001b[0mensure_initialized\u001b[0m\u001b[0;34m(\u001b[0m\u001b[0;34m)\u001b[0m\u001b[0;34m\u001b[0m\u001b[0;34m\u001b[0m\u001b[0m\n\u001b[1;32m     59\u001b[0m     tensors = pywrap_tfe.TFE_Py_Execute(ctx._handle, device_name, op_name,\n\u001b[0;32m---> 60\u001b[0;31m                                         inputs, attrs, num_outputs)\n\u001b[0m\u001b[1;32m     61\u001b[0m   \u001b[0;32mexcept\u001b[0m \u001b[0mcore\u001b[0m\u001b[0;34m.\u001b[0m\u001b[0m_NotOkStatusException\u001b[0m \u001b[0;32mas\u001b[0m \u001b[0me\u001b[0m\u001b[0;34m:\u001b[0m\u001b[0;34m\u001b[0m\u001b[0;34m\u001b[0m\u001b[0m\n\u001b[1;32m     62\u001b[0m     \u001b[0;32mif\u001b[0m \u001b[0mname\u001b[0m \u001b[0;32mis\u001b[0m \u001b[0;32mnot\u001b[0m \u001b[0;32mNone\u001b[0m\u001b[0;34m:\u001b[0m\u001b[0;34m\u001b[0m\u001b[0;34m\u001b[0m\u001b[0m\n",
            "\u001b[0;31mKeyboardInterrupt\u001b[0m: "
          ]
        }
      ]
    },
    {
      "cell_type": "code",
      "metadata": {
        "id": "kFakZOfTPldz",
        "colab_type": "code",
        "colab": {}
      },
      "source": [
        "%load_ext tensorboard\n",
        "%tensorboard --logdir logs1/hparam_tuning/ --host localhost --port 6010"
      ],
      "execution_count": 0,
      "outputs": []
    },
    {
      "cell_type": "markdown",
      "metadata": {
        "id": "McvSseml67TT",
        "colab_type": "text"
      },
      "source": [
        "# Predictions on test data working without HP parameters"
      ]
    },
    {
      "cell_type": "code",
      "metadata": {
        "id": "eOZvmC6K67TU",
        "colab_type": "code",
        "outputId": "8ca8b4f6-ed98-43e7-b966-f31a39ff4719",
        "colab": {
          "base_uri": "https://localhost:8080/",
          "height": 51
        }
      },
      "source": [
        "preds = model.predict([x_test_seq['title1'], x_test_seq['title2']], verbose=1)\n",
        "preds += model.predict([x_test_seq['title2'], x_test_seq['title1']], verbose=1)\n",
        "preds /= 2"
      ],
      "execution_count": 0,
      "outputs": [
        {
          "output_type": "stream",
          "text": [
            "2504/2504 [==============================] - 143s 57ms/step\n",
            "2504/2504 [==============================] - 143s 57ms/step\n"
          ],
          "name": "stdout"
        }
      ]
    },
    {
      "cell_type": "code",
      "metadata": {
        "id": "406ce2_L67TW",
        "colab_type": "code",
        "colab": {}
      },
      "source": [
        "preds"
      ],
      "execution_count": 0,
      "outputs": []
    },
    {
      "cell_type": "code",
      "metadata": {
        "id": "lw3hs9q367TY",
        "colab_type": "code",
        "colab": {}
      },
      "source": [
        "results = []\n",
        "for i in range(len(preds)):\n",
        "    maxi = 0\n",
        "    index = 0\n",
        "    for j in range(3):\n",
        "        if preds[i][j]>maxi:\n",
        "            maxi = preds[i][j]\n",
        "            index = j\n",
        "    results.append(index)"
      ],
      "execution_count": 0,
      "outputs": []
    },
    {
      "cell_type": "code",
      "metadata": {
        "scrolled": true,
        "id": "nQZnT3aL67Td",
        "colab_type": "code",
        "colab": {}
      },
      "source": [
        "pred_labels = []\n",
        "for a in results:\n",
        "    if a ==0:\n",
        "        pred_labels.append(\"agreed\")\n",
        "    elif a == 1:\n",
        "        pred_labels.append(\"disagreed\")\n",
        "    else:\n",
        "        pred_labels.append(\"unrelated\")\n",
        "#pred_labels"
      ],
      "execution_count": 0,
      "outputs": []
    },
    {
      "cell_type": "code",
      "metadata": {
        "id": "yzw4cnYm67Tm",
        "colab_type": "code",
        "colab": {}
      },
      "source": [
        "with open('sample_submission.csv', 'w', newline='') as csv_file:  \n",
        "    writer = csv.writer(csv_file)\n",
        "    writer.writerow(['Id','Category'])\n",
        "    for i in range(len(pred_labels)):\n",
        "        writer.writerow([df_test.index[i], pred_labels[i]])"
      ],
      "execution_count": 0,
      "outputs": []
    }
  ]
}