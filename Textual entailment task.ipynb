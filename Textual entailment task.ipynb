{
 "cells": [
  {
   "cell_type": "markdown",
   "metadata": {},
   "source": [
    "# Textual entailment task"
   ]
  },
  {
   "cell_type": "code",
   "execution_count": 1,
   "metadata": {},
   "outputs": [
    {
     "name": "stderr",
     "output_type": "stream",
     "text": [
      "Using TensorFlow backend.\n"
     ]
    }
   ],
   "source": [
    "#import tensorflow as tf\n",
    "import numpy as np\n",
    "import matplotlib.pyplot as plt\n",
    "import pandas as pd\n",
    "import json\n",
    "import string\n",
    "import collections\n",
    "import itertools\n",
    "from tqdm import tqdm\n",
    "from keras_preprocessing import sequence, text\n",
    "from keras.models import Sequential, Model\n",
    "from keras.layers import Dense, Input, LSTM, Embedding, Dropout, Activation, Bidirectional\n",
    "from keras.layers.merge import concatenate"
   ]
  },
  {
   "cell_type": "code",
   "execution_count": 2,
   "metadata": {},
   "outputs": [],
   "source": [
    "#If the file is downloaded to the format .json1 you have to rename the file and remove the \"1\" at the end.\n",
    "#Otherwise it's impossible to read the file\n",
    "datafile_fever = 'data/fever2-fixers-dev.json'\n",
    "datafile_train = 'data/train.csv'"
   ]
  },
  {
   "cell_type": "code",
   "execution_count": 3,
   "metadata": {},
   "outputs": [
    {
     "data": {
      "text/plain": [
       "(320552, 7)"
      ]
     },
     "execution_count": 3,
     "metadata": {},
     "output_type": "execute_result"
    }
   ],
   "source": [
    "df_train = pd.read_csv(datafile_train, index_col='id').sort_index()\n",
    "df_train.shape"
   ]
  },
  {
   "cell_type": "code",
   "execution_count": 4,
   "metadata": {},
   "outputs": [
    {
     "data": {
      "text/plain": [
       "(1174, 8)"
      ]
     },
     "execution_count": 4,
     "metadata": {},
     "output_type": "execute_result"
    }
   ],
   "source": [
    "df_fever = pd.read_json(datafile_fever, lines=True)#,orient='table')\n",
    "df_fever.shape"
   ]
  },
  {
   "cell_type": "code",
   "execution_count": 5,
   "metadata": {
    "scrolled": true
   },
   "outputs": [
    {
     "data": {
      "text/html": [
       "<div>\n",
       "<style scoped>\n",
       "    .dataframe tbody tr th:only-of-type {\n",
       "        vertical-align: middle;\n",
       "    }\n",
       "\n",
       "    .dataframe tbody tr th {\n",
       "        vertical-align: top;\n",
       "    }\n",
       "\n",
       "    .dataframe thead th {\n",
       "        text-align: right;\n",
       "    }\n",
       "</style>\n",
       "<table border=\"1\" class=\"dataframe\">\n",
       "  <thead>\n",
       "    <tr style=\"text-align: right;\">\n",
       "      <th></th>\n",
       "      <th>tid1</th>\n",
       "      <th>tid2</th>\n",
       "      <th>title1_zh</th>\n",
       "      <th>title2_zh</th>\n",
       "      <th>title1_en</th>\n",
       "      <th>title2_en</th>\n",
       "      <th>label</th>\n",
       "    </tr>\n",
       "    <tr>\n",
       "      <th>id</th>\n",
       "      <th></th>\n",
       "      <th></th>\n",
       "      <th></th>\n",
       "      <th></th>\n",
       "      <th></th>\n",
       "      <th></th>\n",
       "      <th></th>\n",
       "    </tr>\n",
       "  </thead>\n",
       "  <tbody>\n",
       "    <tr>\n",
       "      <td>0</td>\n",
       "      <td>0</td>\n",
       "      <td>1</td>\n",
       "      <td>2017养老保险又新增两项，农村老人人人可申领，你领到了吗</td>\n",
       "      <td>警方辟谣“鸟巢大会每人领5万” 仍有老人坚持进京</td>\n",
       "      <td>There are two new old-age insurance benefits f...</td>\n",
       "      <td>Police disprove \"bird's nest congress each per...</td>\n",
       "      <td>unrelated</td>\n",
       "    </tr>\n",
       "    <tr>\n",
       "      <td>1</td>\n",
       "      <td>2</td>\n",
       "      <td>4</td>\n",
       "      <td>\"你不来深圳，早晚你儿子也要来\"，不出10年深圳人均GDP将超香港</td>\n",
       "      <td>GDP首超香港？深圳澄清：还差一点点……</td>\n",
       "      <td>\"If you do not come to Shenzhen, sooner or lat...</td>\n",
       "      <td>The GDP overtopped Hong Kong? Shenzhen clarifi...</td>\n",
       "      <td>unrelated</td>\n",
       "    </tr>\n",
       "    <tr>\n",
       "      <td>2</td>\n",
       "      <td>2</td>\n",
       "      <td>5</td>\n",
       "      <td>\"你不来深圳，早晚你儿子也要来\"，不出10年深圳人均GDP将超香港</td>\n",
       "      <td>去年深圳GDP首超香港？深圳统计局辟谣：还差611亿</td>\n",
       "      <td>\"If you do not come to Shenzhen, sooner or lat...</td>\n",
       "      <td>Shenzhen's GDP topped Hong Kong last year? She...</td>\n",
       "      <td>unrelated</td>\n",
       "    </tr>\n",
       "    <tr>\n",
       "      <td>3</td>\n",
       "      <td>2</td>\n",
       "      <td>3</td>\n",
       "      <td>\"你不来深圳，早晚你儿子也要来\"，不出10年深圳人均GDP将超香港</td>\n",
       "      <td>深圳GDP首超香港？深圳统计局辟谣：只是差距在缩小</td>\n",
       "      <td>\"If you do not come to Shenzhen, sooner or lat...</td>\n",
       "      <td>Shenzhen's GDP outstrips Hong Kong? Shenzhen S...</td>\n",
       "      <td>unrelated</td>\n",
       "    </tr>\n",
       "    <tr>\n",
       "      <td>4</td>\n",
       "      <td>2</td>\n",
       "      <td>8</td>\n",
       "      <td>\"你不来深圳，早晚你儿子也要来\"，不出10年深圳人均GDP将超香港</td>\n",
       "      <td>深圳GDP首超香港？统计局辟谣：未超但差距再度缩小</td>\n",
       "      <td>\"If you do not come to Shenzhen, sooner or lat...</td>\n",
       "      <td>Shenzhen's GDP overtakes Hong Kong? Bureau of ...</td>\n",
       "      <td>unrelated</td>\n",
       "    </tr>\n",
       "  </tbody>\n",
       "</table>\n",
       "</div>"
      ],
      "text/plain": [
       "    tid1  tid2                          title1_zh                   title2_zh  \\\n",
       "id                                                                              \n",
       "0      0     1      2017养老保险又新增两项，农村老人人人可申领，你领到了吗    警方辟谣“鸟巢大会每人领5万” 仍有老人坚持进京   \n",
       "1      2     4  \"你不来深圳，早晚你儿子也要来\"，不出10年深圳人均GDP将超香港        GDP首超香港？深圳澄清：还差一点点……   \n",
       "2      2     5  \"你不来深圳，早晚你儿子也要来\"，不出10年深圳人均GDP将超香港  去年深圳GDP首超香港？深圳统计局辟谣：还差611亿   \n",
       "3      2     3  \"你不来深圳，早晚你儿子也要来\"，不出10年深圳人均GDP将超香港   深圳GDP首超香港？深圳统计局辟谣：只是差距在缩小   \n",
       "4      2     8  \"你不来深圳，早晚你儿子也要来\"，不出10年深圳人均GDP将超香港   深圳GDP首超香港？统计局辟谣：未超但差距再度缩小   \n",
       "\n",
       "                                            title1_en  \\\n",
       "id                                                      \n",
       "0   There are two new old-age insurance benefits f...   \n",
       "1   \"If you do not come to Shenzhen, sooner or lat...   \n",
       "2   \"If you do not come to Shenzhen, sooner or lat...   \n",
       "3   \"If you do not come to Shenzhen, sooner or lat...   \n",
       "4   \"If you do not come to Shenzhen, sooner or lat...   \n",
       "\n",
       "                                            title2_en      label  \n",
       "id                                                                \n",
       "0   Police disprove \"bird's nest congress each per...  unrelated  \n",
       "1   The GDP overtopped Hong Kong? Shenzhen clarifi...  unrelated  \n",
       "2   Shenzhen's GDP topped Hong Kong last year? She...  unrelated  \n",
       "3   Shenzhen's GDP outstrips Hong Kong? Shenzhen S...  unrelated  \n",
       "4   Shenzhen's GDP overtakes Hong Kong? Bureau of ...  unrelated  "
      ]
     },
     "execution_count": 5,
     "metadata": {},
     "output_type": "execute_result"
    }
   ],
   "source": [
    "df_train.head()"
   ]
  },
  {
   "cell_type": "code",
   "execution_count": 6,
   "metadata": {},
   "outputs": [
    {
     "data": {
      "text/html": [
       "<div>\n",
       "<style scoped>\n",
       "    .dataframe tbody tr th:only-of-type {\n",
       "        vertical-align: middle;\n",
       "    }\n",
       "\n",
       "    .dataframe tbody tr th {\n",
       "        vertical-align: top;\n",
       "    }\n",
       "\n",
       "    .dataframe thead th {\n",
       "        text-align: right;\n",
       "    }\n",
       "</style>\n",
       "<table border=\"1\" class=\"dataframe\">\n",
       "  <thead>\n",
       "    <tr style=\"text-align: right;\">\n",
       "      <th></th>\n",
       "      <th>id</th>\n",
       "      <th>label</th>\n",
       "      <th>claim</th>\n",
       "      <th>evidence</th>\n",
       "      <th>original_id</th>\n",
       "      <th>transformation</th>\n",
       "      <th>attack</th>\n",
       "      <th>annotation</th>\n",
       "    </tr>\n",
       "  </thead>\n",
       "  <tbody>\n",
       "    <tr>\n",
       "      <td>0</td>\n",
       "      <td>500000</td>\n",
       "      <td>NOT ENOUGH INFO</td>\n",
       "      <td>There is a convicted statutory rapist called C...</td>\n",
       "      <td>[[[269158, None, None, None]]]</td>\n",
       "      <td>225798.0</td>\n",
       "      <td>label_preserving</td>\n",
       "      <td>there.is.a.called</td>\n",
       "      <td>N/A</td>\n",
       "    </tr>\n",
       "    <tr>\n",
       "      <td>1</td>\n",
       "      <td>500001</td>\n",
       "      <td>SUPPORTS</td>\n",
       "      <td>There exists a producer and an actor called Si...</td>\n",
       "      <td>[[[141141, 156349, Simon_Pegg, 0]]]</td>\n",
       "      <td>120126.0</td>\n",
       "      <td>label_preserving</td>\n",
       "      <td>there.exists.a.called</td>\n",
       "      <td>N/A</td>\n",
       "    </tr>\n",
       "    <tr>\n",
       "      <td>2</td>\n",
       "      <td>500002</td>\n",
       "      <td>REFUTES</td>\n",
       "      <td>Exotic Birds rejected to be an opening band fo...</td>\n",
       "      <td>[[[25977, 31918, Exotic_Birds, 2], [25977, 319...</td>\n",
       "      <td>NaN</td>\n",
       "      <td>NaN</td>\n",
       "      <td>word replacement</td>\n",
       "      <td>OK - Claim is grammatical and label supported ...</td>\n",
       "    </tr>\n",
       "    <tr>\n",
       "      <td>3</td>\n",
       "      <td>500003</td>\n",
       "      <td>REFUTES</td>\n",
       "      <td>The Nice Guys is a 2016 American neo-noir acti...</td>\n",
       "      <td>[[[None, None, The_Nice_Guys, 0], [None, None,...</td>\n",
       "      <td>NaN</td>\n",
       "      <td>NaN</td>\n",
       "      <td>Multihop</td>\n",
       "      <td>OK - Claim is grammatical and label supported ...</td>\n",
       "    </tr>\n",
       "    <tr>\n",
       "      <td>4</td>\n",
       "      <td>500004</td>\n",
       "      <td>REFUTES</td>\n",
       "      <td>Rupert Murdoch's father was not connected to a...</td>\n",
       "      <td>[[[None, None, Rupert_Murdoch, 1], [None, None...</td>\n",
       "      <td>NaN</td>\n",
       "      <td>NaN</td>\n",
       "      <td>Multihop</td>\n",
       "      <td>OK - Claim is grammatical and label supported ...</td>\n",
       "    </tr>\n",
       "  </tbody>\n",
       "</table>\n",
       "</div>"
      ],
      "text/plain": [
       "       id            label                                              claim  \\\n",
       "0  500000  NOT ENOUGH INFO  There is a convicted statutory rapist called C...   \n",
       "1  500001         SUPPORTS  There exists a producer and an actor called Si...   \n",
       "2  500002          REFUTES  Exotic Birds rejected to be an opening band fo...   \n",
       "3  500003          REFUTES  The Nice Guys is a 2016 American neo-noir acti...   \n",
       "4  500004          REFUTES  Rupert Murdoch's father was not connected to a...   \n",
       "\n",
       "                                            evidence  original_id  \\\n",
       "0                     [[[269158, None, None, None]]]     225798.0   \n",
       "1                [[[141141, 156349, Simon_Pegg, 0]]]     120126.0   \n",
       "2  [[[25977, 31918, Exotic_Birds, 2], [25977, 319...          NaN   \n",
       "3  [[[None, None, The_Nice_Guys, 0], [None, None,...          NaN   \n",
       "4  [[[None, None, Rupert_Murdoch, 1], [None, None...          NaN   \n",
       "\n",
       "     transformation                 attack  \\\n",
       "0  label_preserving      there.is.a.called   \n",
       "1  label_preserving  there.exists.a.called   \n",
       "2               NaN       word replacement   \n",
       "3               NaN               Multihop   \n",
       "4               NaN               Multihop   \n",
       "\n",
       "                                          annotation  \n",
       "0                                                N/A  \n",
       "1                                                N/A  \n",
       "2  OK - Claim is grammatical and label supported ...  \n",
       "3  OK - Claim is grammatical and label supported ...  \n",
       "4  OK - Claim is grammatical and label supported ...  "
      ]
     },
     "execution_count": 6,
     "metadata": {},
     "output_type": "execute_result"
    }
   ],
   "source": [
    "df_fever.head()"
   ]
  },
  {
   "cell_type": "code",
   "execution_count": 7,
   "metadata": {},
   "outputs": [
    {
     "data": {
      "text/html": [
       "<div>\n",
       "<style scoped>\n",
       "    .dataframe tbody tr th:only-of-type {\n",
       "        vertical-align: middle;\n",
       "    }\n",
       "\n",
       "    .dataframe tbody tr th {\n",
       "        vertical-align: top;\n",
       "    }\n",
       "\n",
       "    .dataframe thead th {\n",
       "        text-align: right;\n",
       "    }\n",
       "</style>\n",
       "<table border=\"1\" class=\"dataframe\">\n",
       "  <thead>\n",
       "    <tr style=\"text-align: right;\">\n",
       "      <th></th>\n",
       "      <th>id</th>\n",
       "      <th>label</th>\n",
       "      <th>claim</th>\n",
       "      <th>evidence</th>\n",
       "      <th>original_id</th>\n",
       "      <th>transformation</th>\n",
       "      <th>attack</th>\n",
       "      <th>annotation</th>\n",
       "    </tr>\n",
       "  </thead>\n",
       "  <tbody>\n",
       "    <tr>\n",
       "      <td>5</td>\n",
       "      <td>500005</td>\n",
       "      <td>NOT ENOUGH INFO</td>\n",
       "      <td>There exists an award-winning TV series, it go...</td>\n",
       "      <td>[[[22421, None, None, None]]]</td>\n",
       "      <td>5743.0</td>\n",
       "      <td>label_preserving</td>\n",
       "      <td>there.exists.a.that.goes.by.name.of.prn</td>\n",
       "      <td>N/A</td>\n",
       "    </tr>\n",
       "    <tr>\n",
       "      <td>6</td>\n",
       "      <td>500006</td>\n",
       "      <td>NOT ENOUGH INFO</td>\n",
       "      <td>Omar Khadr was declared guilty and was detaine...</td>\n",
       "      <td>[[[None, None, None, None]]]</td>\n",
       "      <td>NaN</td>\n",
       "      <td>NaN</td>\n",
       "      <td>conjunction</td>\n",
       "      <td>UN - Claim is grammatical but label is incorre...</td>\n",
       "    </tr>\n",
       "    <tr>\n",
       "      <td>7</td>\n",
       "      <td>500007</td>\n",
       "      <td>SUPPORTS</td>\n",
       "      <td>Robert Kardashian is an ex-husband of a mother...</td>\n",
       "      <td>[[[None, None, Robert_Kardashian, 2], [None, N...</td>\n",
       "      <td>NaN</td>\n",
       "      <td>NaN</td>\n",
       "      <td>long chain of relations</td>\n",
       "      <td>OK - Claim is grammatical and label supported ...</td>\n",
       "    </tr>\n",
       "    <tr>\n",
       "      <td>8</td>\n",
       "      <td>500008</td>\n",
       "      <td>Not Enough Info</td>\n",
       "      <td>Antoine Berjon have studied medicine in his ea...</td>\n",
       "      <td>[[[58, 97, None, None]]]</td>\n",
       "      <td>NaN</td>\n",
       "      <td>NaN</td>\n",
       "      <td>NotClear</td>\n",
       "      <td>UN - Claim is grammatical but label is incorre...</td>\n",
       "    </tr>\n",
       "    <tr>\n",
       "      <td>9</td>\n",
       "      <td>500009</td>\n",
       "      <td>SUPPORTS</td>\n",
       "      <td>There is not a natural element that goes by th...</td>\n",
       "      <td>[[[130895, 145673, Moscovium, 0]], [[130895, 1...</td>\n",
       "      <td>111503.0</td>\n",
       "      <td>complex_negate</td>\n",
       "      <td>there.is.not.by.name</td>\n",
       "      <td>N/A</td>\n",
       "    </tr>\n",
       "  </tbody>\n",
       "</table>\n",
       "</div>"
      ],
      "text/plain": [
       "       id            label                                              claim  \\\n",
       "5  500005  NOT ENOUGH INFO  There exists an award-winning TV series, it go...   \n",
       "6  500006  NOT ENOUGH INFO  Omar Khadr was declared guilty and was detaine...   \n",
       "7  500007         SUPPORTS  Robert Kardashian is an ex-husband of a mother...   \n",
       "8  500008  Not Enough Info  Antoine Berjon have studied medicine in his ea...   \n",
       "9  500009         SUPPORTS  There is not a natural element that goes by th...   \n",
       "\n",
       "                                            evidence  original_id  \\\n",
       "5                      [[[22421, None, None, None]]]       5743.0   \n",
       "6                       [[[None, None, None, None]]]          NaN   \n",
       "7  [[[None, None, Robert_Kardashian, 2], [None, N...          NaN   \n",
       "8                           [[[58, 97, None, None]]]          NaN   \n",
       "9  [[[130895, 145673, Moscovium, 0]], [[130895, 1...     111503.0   \n",
       "\n",
       "     transformation                                   attack  \\\n",
       "5  label_preserving  there.exists.a.that.goes.by.name.of.prn   \n",
       "6               NaN                              conjunction   \n",
       "7               NaN                  long chain of relations   \n",
       "8               NaN                                 NotClear   \n",
       "9    complex_negate                     there.is.not.by.name   \n",
       "\n",
       "                                          annotation  \n",
       "5                                                N/A  \n",
       "6  UN - Claim is grammatical but label is incorre...  \n",
       "7  OK - Claim is grammatical and label supported ...  \n",
       "8  UN - Claim is grammatical but label is incorre...  \n",
       "9                                                N/A  "
      ]
     },
     "execution_count": 7,
     "metadata": {},
     "output_type": "execute_result"
    }
   ],
   "source": [
    "df_fever[5:10]"
   ]
  },
  {
   "cell_type": "markdown",
   "metadata": {},
   "source": [
    "# Data exploration"
   ]
  },
  {
   "cell_type": "code",
   "execution_count": 8,
   "metadata": {},
   "outputs": [
    {
     "data": {
      "text/plain": [
       "transformation    676\n",
       "original_id       676\n",
       "dtype: int64"
      ]
     },
     "execution_count": 8,
     "metadata": {},
     "output_type": "execute_result"
    }
   ],
   "source": [
    "null_counts = df_fever.isnull().sum()\n",
    "null_counts[null_counts > 0].sort_values(ascending=False)"
   ]
  },
  {
   "cell_type": "code",
   "execution_count": 9,
   "metadata": {},
   "outputs": [
    {
     "data": {
      "text/plain": [
       "title2_zh    7\n",
       "dtype: int64"
      ]
     },
     "execution_count": 9,
     "metadata": {},
     "output_type": "execute_result"
    }
   ],
   "source": [
    "null_counts = df_train.isnull().sum()\n",
    "null_counts[null_counts > 0].sort_values(ascending=False)"
   ]
  },
  {
   "cell_type": "code",
   "execution_count": 10,
   "metadata": {},
   "outputs": [],
   "source": [
    "# No id 247 !\n",
    "#df_train['tid1'][247]"
   ]
  },
  {
   "cell_type": "code",
   "execution_count": 11,
   "metadata": {},
   "outputs": [
    {
     "name": "stdout",
     "output_type": "stream",
     "text": [
      "Min nb words title 1  : 1\n",
      "Min nb words title 2  : 1\n",
      "Max nb words title 1  : 500\n",
      "Max nb words title 2  : 539\n",
      "Mean nb words title 1 : 16.383588310164967\n",
      "Mean nb words title 2 : 16.572528014175546\n"
     ]
    }
   ],
   "source": [
    "print(\"Min nb words title 1  :\",df_train['title1_en'].apply(lambda x: len(x.split(\" \"))).min())\n",
    "print(\"Min nb words title 2  :\",df_train['title2_en'].apply(lambda x: len(x.split(\" \"))).min())\n",
    "print(\"Max nb words title 1  :\",df_train['title1_en'].apply(lambda x: len(x.split(\" \"))).max())\n",
    "print(\"Max nb words title 2  :\",df_train['title2_en'].apply(lambda x: len(x.split(\" \"))).max())\n",
    "print(\"Mean nb words title 1 :\",df_train['title1_en'].apply(lambda x: len(x.split(\" \"))).mean())\n",
    "print(\"Mean nb words title 2 :\",df_train['title2_en'].apply(lambda x: len(x.split(\" \"))).mean())"
   ]
  },
  {
   "cell_type": "markdown",
   "metadata": {},
   "source": [
    "# Preprocessing\n",
    "- Cleaning data\n",
    "- Lower case\n",
    "- Deal with N/A and NaN"
   ]
  },
  {
   "cell_type": "code",
   "execution_count": 12,
   "metadata": {},
   "outputs": [],
   "source": [
    "translator = str.maketrans('','', string.punctuation)\n",
    "df_train['title1_en'] = df_train['title1_en'].str.lower().str.translate(translator)\n",
    "df_train['title2_en'] = df_train['title2_en'].str.lower().str.translate(translator)\n",
    "df_fever['claim']     = df_fever['claim'].str.lower().str.translate(translator)"
   ]
  },
  {
   "cell_type": "code",
   "execution_count": 13,
   "metadata": {},
   "outputs": [
    {
     "data": {
      "text/html": [
       "<div>\n",
       "<style scoped>\n",
       "    .dataframe tbody tr th:only-of-type {\n",
       "        vertical-align: middle;\n",
       "    }\n",
       "\n",
       "    .dataframe tbody tr th {\n",
       "        vertical-align: top;\n",
       "    }\n",
       "\n",
       "    .dataframe thead th {\n",
       "        text-align: right;\n",
       "    }\n",
       "</style>\n",
       "<table border=\"1\" class=\"dataframe\">\n",
       "  <thead>\n",
       "    <tr style=\"text-align: right;\">\n",
       "      <th></th>\n",
       "      <th>tid1</th>\n",
       "      <th>tid2</th>\n",
       "      <th>title1_zh</th>\n",
       "      <th>title2_zh</th>\n",
       "      <th>title1_en</th>\n",
       "      <th>title2_en</th>\n",
       "      <th>label</th>\n",
       "    </tr>\n",
       "    <tr>\n",
       "      <th>id</th>\n",
       "      <th></th>\n",
       "      <th></th>\n",
       "      <th></th>\n",
       "      <th></th>\n",
       "      <th></th>\n",
       "      <th></th>\n",
       "      <th></th>\n",
       "    </tr>\n",
       "  </thead>\n",
       "  <tbody>\n",
       "    <tr>\n",
       "      <td>0</td>\n",
       "      <td>0</td>\n",
       "      <td>1</td>\n",
       "      <td>2017养老保险又新增两项，农村老人人人可申领，你领到了吗</td>\n",
       "      <td>警方辟谣“鸟巢大会每人领5万” 仍有老人坚持进京</td>\n",
       "      <td>there are two new oldage insurance benefits fo...</td>\n",
       "      <td>police disprove birds nest congress each perso...</td>\n",
       "      <td>unrelated</td>\n",
       "    </tr>\n",
       "    <tr>\n",
       "      <td>1</td>\n",
       "      <td>2</td>\n",
       "      <td>4</td>\n",
       "      <td>\"你不来深圳，早晚你儿子也要来\"，不出10年深圳人均GDP将超香港</td>\n",
       "      <td>GDP首超香港？深圳澄清：还差一点点……</td>\n",
       "      <td>if you do not come to shenzhen sooner or later...</td>\n",
       "      <td>the gdp overtopped hong kong shenzhen clarifie...</td>\n",
       "      <td>unrelated</td>\n",
       "    </tr>\n",
       "    <tr>\n",
       "      <td>2</td>\n",
       "      <td>2</td>\n",
       "      <td>5</td>\n",
       "      <td>\"你不来深圳，早晚你儿子也要来\"，不出10年深圳人均GDP将超香港</td>\n",
       "      <td>去年深圳GDP首超香港？深圳统计局辟谣：还差611亿</td>\n",
       "      <td>if you do not come to shenzhen sooner or later...</td>\n",
       "      <td>shenzhens gdp topped hong kong last year shenz...</td>\n",
       "      <td>unrelated</td>\n",
       "    </tr>\n",
       "    <tr>\n",
       "      <td>3</td>\n",
       "      <td>2</td>\n",
       "      <td>3</td>\n",
       "      <td>\"你不来深圳，早晚你儿子也要来\"，不出10年深圳人均GDP将超香港</td>\n",
       "      <td>深圳GDP首超香港？深圳统计局辟谣：只是差距在缩小</td>\n",
       "      <td>if you do not come to shenzhen sooner or later...</td>\n",
       "      <td>shenzhens gdp outstrips hong kong shenzhen sta...</td>\n",
       "      <td>unrelated</td>\n",
       "    </tr>\n",
       "    <tr>\n",
       "      <td>4</td>\n",
       "      <td>2</td>\n",
       "      <td>8</td>\n",
       "      <td>\"你不来深圳，早晚你儿子也要来\"，不出10年深圳人均GDP将超香港</td>\n",
       "      <td>深圳GDP首超香港？统计局辟谣：未超但差距再度缩小</td>\n",
       "      <td>if you do not come to shenzhen sooner or later...</td>\n",
       "      <td>shenzhens gdp overtakes hong kong bureau of st...</td>\n",
       "      <td>unrelated</td>\n",
       "    </tr>\n",
       "  </tbody>\n",
       "</table>\n",
       "</div>"
      ],
      "text/plain": [
       "    tid1  tid2                          title1_zh                   title2_zh  \\\n",
       "id                                                                              \n",
       "0      0     1      2017养老保险又新增两项，农村老人人人可申领，你领到了吗    警方辟谣“鸟巢大会每人领5万” 仍有老人坚持进京   \n",
       "1      2     4  \"你不来深圳，早晚你儿子也要来\"，不出10年深圳人均GDP将超香港        GDP首超香港？深圳澄清：还差一点点……   \n",
       "2      2     5  \"你不来深圳，早晚你儿子也要来\"，不出10年深圳人均GDP将超香港  去年深圳GDP首超香港？深圳统计局辟谣：还差611亿   \n",
       "3      2     3  \"你不来深圳，早晚你儿子也要来\"，不出10年深圳人均GDP将超香港   深圳GDP首超香港？深圳统计局辟谣：只是差距在缩小   \n",
       "4      2     8  \"你不来深圳，早晚你儿子也要来\"，不出10年深圳人均GDP将超香港   深圳GDP首超香港？统计局辟谣：未超但差距再度缩小   \n",
       "\n",
       "                                            title1_en  \\\n",
       "id                                                      \n",
       "0   there are two new oldage insurance benefits fo...   \n",
       "1   if you do not come to shenzhen sooner or later...   \n",
       "2   if you do not come to shenzhen sooner or later...   \n",
       "3   if you do not come to shenzhen sooner or later...   \n",
       "4   if you do not come to shenzhen sooner or later...   \n",
       "\n",
       "                                            title2_en      label  \n",
       "id                                                                \n",
       "0   police disprove birds nest congress each perso...  unrelated  \n",
       "1   the gdp overtopped hong kong shenzhen clarifie...  unrelated  \n",
       "2   shenzhens gdp topped hong kong last year shenz...  unrelated  \n",
       "3   shenzhens gdp outstrips hong kong shenzhen sta...  unrelated  \n",
       "4   shenzhens gdp overtakes hong kong bureau of st...  unrelated  "
      ]
     },
     "execution_count": 13,
     "metadata": {},
     "output_type": "execute_result"
    }
   ],
   "source": [
    "df_train.head()"
   ]
  },
  {
   "cell_type": "markdown",
   "metadata": {},
   "source": [
    "# LSTM "
   ]
  },
  {
   "cell_type": "code",
   "execution_count": 14,
   "metadata": {},
   "outputs": [],
   "source": [
    "from keras.preprocessing.text import Tokenizer\n",
    "from keras.preprocessing.sequence import pad_sequences"
   ]
  },
  {
   "cell_type": "code",
   "execution_count": 42,
   "metadata": {},
   "outputs": [],
   "source": [
    "vocab_size = 15000\n",
    "nb_labels = 3+1\n",
    "embedding_size = 200\n",
    "lstm_size = 200\n",
    "max_len = 35\n",
    "trunc_type = 'post'\n",
    "padding_type = 'post'\n",
    "oov_tok = '<OOV>'\n",
    "training_portion = .8\n",
    "\n",
    "rate_drop_lstm = 0.15 + np.random.rand() * 0.25\n",
    "rate_drop_dense = 0.15 + np.random.rand() * 0.25"
   ]
  },
  {
   "cell_type": "code",
   "execution_count": 16,
   "metadata": {},
   "outputs": [],
   "source": [
    "# Hyperparameter kaggle qui me plait mucho\n",
    "#MAX_SEQUENCE_LENGTH = 30\n",
    "#MAX_NB_WORDS = 200000\n",
    "#EMBEDDING_DIM = 300\n",
    "#VALIDATION_SPLIT = 0.1\n",
    "\n",
    "#num_lstm = 200\n",
    "# #num_dense = 125\n",
    "# rate_drop_lstm = 0.15 + np.random.rand() * 0.25\n",
    "# rate_drop_dense = 0.15 + np.random.rand() * 0.25\n",
    "\n",
    "# act = 'relu'\n",
    "# re_weight = True # whether to re-weight classes to fit the 17.5% share in test set\n",
    "\n",
    "# STAMP = 'lstm_%d_%d_%.2f_%.2f'%(num_lstm, num_dense, rate_drop_lstm, \\\n",
    "#         rate_drop_dense)"
   ]
  },
  {
   "cell_type": "code",
   "execution_count": 17,
   "metadata": {},
   "outputs": [],
   "source": [
    "df_train = df_train.head(1000)"
   ]
  },
  {
   "cell_type": "code",
   "execution_count": 18,
   "metadata": {},
   "outputs": [],
   "source": [
    "train_size = int(len(df_train['title1_en']) * training_portion)\n",
    "\n",
    "x_train = df_train[['title1_en','title2_en']][0:train_size]\n",
    "y_train = df_train['label'][0:train_size]\n",
    "x_validation = df_train[['title1_en','title2_en']][train_size:]\n",
    "y_validation = df_train['label'][train_size:]"
   ]
  },
  {
   "cell_type": "code",
   "execution_count": 19,
   "metadata": {},
   "outputs": [
    {
     "data": {
      "text/plain": [
       "id\n",
       "801     unrelated\n",
       "802     unrelated\n",
       "803     unrelated\n",
       "804     unrelated\n",
       "805     unrelated\n",
       "          ...    \n",
       "996     unrelated\n",
       "997     unrelated\n",
       "998        agreed\n",
       "999        agreed\n",
       "1000       agreed\n",
       "Name: label, Length: 200, dtype: object"
      ]
     },
     "execution_count": 19,
     "metadata": {},
     "output_type": "execute_result"
    }
   ],
   "source": [
    "y_validation"
   ]
  },
  {
   "cell_type": "code",
   "execution_count": 20,
   "metadata": {},
   "outputs": [
    {
     "data": {
      "text/plain": [
       "{'<OOV>': 1,\n",
       " 'the': 2,\n",
       " 'of': 3,\n",
       " 'to': 4,\n",
       " 'a': 5,\n",
       " 'and': 6,\n",
       " 'is': 7,\n",
       " 'in': 8,\n",
       " 'be': 9,\n",
       " 'will': 10}"
      ]
     },
     "execution_count": 20,
     "metadata": {},
     "output_type": "execute_result"
    }
   ],
   "source": [
    "tokenizer = Tokenizer(num_words = vocab_size, oov_token=oov_tok)\n",
    "tokenizer.fit_on_texts(df_train['title1_en']+df_train['title2_en'])\n",
    "#later we'll have to check the number of unknown words in the test data\n",
    "word_index = tokenizer.word_index\n",
    "dict(list(word_index.items())[0:10])"
   ]
  },
  {
   "cell_type": "code",
   "execution_count": 21,
   "metadata": {},
   "outputs": [],
   "source": [
    "X = {'title1': x_train['title1_en'], 'title2': x_train['title2_en']}\n",
    "\n",
    "for x_train_seq, side in itertools.product([X], ['title1', 'title2']):\n",
    "    x_train_seq[side] = tokenizer.texts_to_sequences(x_train_seq[side])\n",
    "    x_train_seq[side] = pad_sequences(x_train_seq[side], padding=padding_type, truncating=trunc_type, maxlen=max_len)"
   ]
  },
  {
   "cell_type": "code",
   "execution_count": 22,
   "metadata": {},
   "outputs": [],
   "source": [
    "X_val = {'title1': x_validation['title1_en'], 'title2': x_validation['title2_en']}\n",
    "\n",
    "for x_validation_seq, side in itertools.product([X_val], ['title1', 'title2']):\n",
    "    x_validation_seq[side] = tokenizer.texts_to_sequences(x_validation_seq[side])\n",
    "    x_validation_seq[side] = pad_sequences(x_validation_seq[side], padding=padding_type, truncating=trunc_type, maxlen=max_len)"
   ]
  },
  {
   "cell_type": "code",
   "execution_count": 23,
   "metadata": {},
   "outputs": [
    {
     "data": {
      "text/plain": [
       "array([ 74, 130, 782, 201, 292,   6, 292, 510, 645, 783, 626,  73, 784,\n",
       "       335,   2, 640,   3, 203, 426, 179,   9,  27,   4,   1,   0,   0,\n",
       "         0,   0,   0,   0,   0,   0,   0,   0,   0])"
      ]
     },
     "execution_count": 23,
     "metadata": {},
     "output_type": "execute_result"
    }
   ],
   "source": [
    "x_validation_seq['title1'][0]"
   ]
  },
  {
   "cell_type": "code",
   "execution_count": 24,
   "metadata": {},
   "outputs": [],
   "source": [
    "# train_sequences1 = tokenizer.texts_to_sequences(train_title1)\n",
    "# print(train_sequences1[0])"
   ]
  },
  {
   "cell_type": "code",
   "execution_count": 25,
   "metadata": {},
   "outputs": [],
   "source": [
    "# train_sequences2 = tokenizer.texts_to_sequences(train_title2)\n",
    "# print(train_sequences2[10])"
   ]
  },
  {
   "cell_type": "code",
   "execution_count": 26,
   "metadata": {},
   "outputs": [],
   "source": [
    "# train_padded1 = pad_sequences(train_sequences1, maxlen=max_len, padding=padding_type, truncating=trunc_type)\n",
    "# train_padded2 = pad_sequences(train_sequences2, maxlen=max_len, padding=padding_type, truncating=trunc_type)"
   ]
  },
  {
   "cell_type": "code",
   "execution_count": 27,
   "metadata": {},
   "outputs": [],
   "source": [
    "# validation_sequences1 = tokenizer.texts_to_sequences(validation_titles1)\n",
    "# validation_sequences2 = tokenizer.texts_to_sequences(validation_titles2)\n",
    "\n",
    "# validation_padded1 = pad_sequences(validation_sequences1, maxlen=max_len, padding=padding_type, truncating=trunc_type)\n",
    "# validation_padded2 = pad_sequences(validation_sequences2, maxlen=max_len, padding=padding_type, truncating=trunc_type)"
   ]
  },
  {
   "cell_type": "code",
   "execution_count": 28,
   "metadata": {},
   "outputs": [],
   "source": [
    "label_tokenizer = Tokenizer()\n",
    "label_tokenizer.fit_on_texts(df_train['label'])\n",
    "\n",
    "y_train_seq = label_tokenizer.texts_to_sequences(y_train)\n",
    "y_validation_seq = label_tokenizer.texts_to_sequences(y_validation)"
   ]
  },
  {
   "cell_type": "code",
   "execution_count": 29,
   "metadata": {},
   "outputs": [
    {
     "name": "stdout",
     "output_type": "stream",
     "text": [
      "the 315s the rumour spinach is a greased vegetable that can be made iron by eating it ? ? ? ? ? ? ? ? ? ? ? ? ? ? ? ? ? ?\n",
      "---\n",
      "the 315s the rumour spinach is a greased vegetable that can be made iron by eating it\n"
     ]
    }
   ],
   "source": [
    "reverse_word_index = dict([(value, key) for (key, value) in word_index.items()])\n",
    "\n",
    "def decode_title(text):\n",
    "    return ' '.join([reverse_word_index.get(i, '?') for i in text])\n",
    "print(decode_title(x_train_seq['title2'][59]))\n",
    "print('---')\n",
    "print(x_train['title2_en'][59])"
   ]
  },
  {
   "cell_type": "code",
   "execution_count": 43,
   "metadata": {},
   "outputs": [
    {
     "name": "stdout",
     "output_type": "stream",
     "text": [
      "Model: \"sequential_2\"\n",
      "_________________________________________________________________\n",
      "Layer (type)                 Output Shape              Param #   \n",
      "=================================================================\n",
      "embedding_2 (Embedding)      (None, 35, 200)           3000000   \n",
      "_________________________________________________________________\n",
      "bidirectional_2 (Bidirection (None, 35, 400)           641600    \n",
      "_________________________________________________________________\n",
      "lstm_4 (LSTM)                (None, 200)               480800    \n",
      "=================================================================\n",
      "Total params: 4,122,400\n",
      "Trainable params: 4,122,400\n",
      "Non-trainable params: 0\n",
      "_________________________________________________________________\n"
     ]
    }
   ],
   "source": [
    "#embedding_layer = tf.keras.layers.Embedding(vocab_size, embedding_size, \n",
    "#                                            input_length=max_len, trainable=True)\n",
    "shared_model = Sequential([\n",
    "    Embedding(vocab_size, embedding_size, input_length=max_len, trainable=True),\n",
    "    Bidirectional(LSTM(lstm_size, return_sequences=True)),\n",
    "   # tf.keras.layers.Bidirectional(tf.keras.layers.LSTM(lstm_size, return_sequences=True)),\n",
    "   # tf.keras.layers.Bidirectional(tf.keras.layers.LSTM(lstm_size, return_sequences=True)),\n",
    "    LSTM(lstm_size),\n",
    "    #tf.keras.layers.Dense(nb_labels, activation='softmax')\n",
    "])\n",
    "\n",
    "shared_model.summary()"
   ]
  },
  {
   "cell_type": "code",
   "execution_count": 44,
   "metadata": {},
   "outputs": [],
   "source": [
    "title1_input = Input(shape=(max_len,), dtype='int32')\n",
    "title2_input = Input(shape=(max_len,), dtype='int32')"
   ]
  },
  {
   "cell_type": "code",
   "execution_count": 45,
   "metadata": {},
   "outputs": [],
   "source": [
    "lstm1 = shared_model(title1_input)\n",
    "lstm2 = shared_model(title2_input)"
   ]
  },
  {
   "cell_type": "code",
   "execution_count": 46,
   "metadata": {},
   "outputs": [
    {
     "data": {
      "text/plain": [
       "<tf.Tensor 'sequential_2/lstm_4/strided_slice_6:0' shape=(None, 200) dtype=float32>"
      ]
     },
     "execution_count": 46,
     "metadata": {},
     "output_type": "execute_result"
    }
   ],
   "source": [
    "lstm1"
   ]
  },
  {
   "cell_type": "code",
   "execution_count": 47,
   "metadata": {},
   "outputs": [],
   "source": [
    "merged = concatenate([lstm1,lstm2])"
   ]
  },
  {
   "cell_type": "code",
   "execution_count": 48,
   "metadata": {},
   "outputs": [],
   "source": [
    "merged = Dense(4, activation='relu')(merged)"
   ]
  },
  {
   "cell_type": "code",
   "execution_count": 49,
   "metadata": {},
   "outputs": [],
   "source": [
    "output = Dense(4, activation='softmax')(merged)"
   ]
  },
  {
   "cell_type": "code",
   "execution_count": 50,
   "metadata": {},
   "outputs": [],
   "source": [
    "model = Model(inputs=[title1_input, title2_input], outputs=[output])"
   ]
  },
  {
   "cell_type": "code",
   "execution_count": 51,
   "metadata": {},
   "outputs": [
    {
     "name": "stdout",
     "output_type": "stream",
     "text": [
      "Model: \"model_2\"\n",
      "__________________________________________________________________________________________________\n",
      "Layer (type)                    Output Shape         Param #     Connected to                     \n",
      "==================================================================================================\n",
      "input_3 (InputLayer)            (None, 35)           0                                            \n",
      "__________________________________________________________________________________________________\n",
      "input_4 (InputLayer)            (None, 35)           0                                            \n",
      "__________________________________________________________________________________________________\n",
      "sequential_2 (Sequential)       (None, 200)          4122400     input_3[0][0]                    \n",
      "                                                                 input_4[0][0]                    \n",
      "__________________________________________________________________________________________________\n",
      "concatenate_2 (Concatenate)     (None, 400)          0           sequential_2[1][0]               \n",
      "                                                                 sequential_2[2][0]               \n",
      "__________________________________________________________________________________________________\n",
      "dense_3 (Dense)                 (None, 4)            1604        concatenate_2[0][0]              \n",
      "__________________________________________________________________________________________________\n",
      "dense_4 (Dense)                 (None, 4)            20          dense_3[0][0]                    \n",
      "==================================================================================================\n",
      "Total params: 4,124,024\n",
      "Trainable params: 4,124,024\n",
      "Non-trainable params: 0\n",
      "__________________________________________________________________________________________________\n"
     ]
    }
   ],
   "source": [
    "model.summary()"
   ]
  },
  {
   "cell_type": "code",
   "execution_count": 52,
   "metadata": {},
   "outputs": [],
   "source": [
    "model.compile(loss='sparse_categorical_crossentropy', optimizer='adam', metrics=['accuracy'])"
   ]
  },
  {
   "cell_type": "code",
   "execution_count": 53,
   "metadata": {
    "scrolled": true
   },
   "outputs": [
    {
     "name": "stderr",
     "output_type": "stream",
     "text": [
      "C:\\Users\\G-a-e\\AppData\\Roaming\\Python\\Python37\\site-packages\\tensorflow_core\\python\\framework\\indexed_slices.py:424: UserWarning: Converting sparse IndexedSlices to a dense Tensor of unknown shape. This may consume a large amount of memory.\n",
      "  \"Converting sparse IndexedSlices to a dense Tensor of unknown shape. \"\n"
     ]
    },
    {
     "name": "stdout",
     "output_type": "stream",
     "text": [
      "Train on 800 samples, validate on 200 samples\n",
      "Epoch 1/10\n",
      " - 31s - loss: 1.2250 - accuracy: 0.4525 - val_loss: 1.1698 - val_accuracy: 0.5150\n",
      "Epoch 2/10\n",
      " - 29s - loss: 0.8316 - accuracy: 0.6175 - val_loss: 1.1459 - val_accuracy: 0.5150\n",
      "Epoch 3/10\n",
      " - 29s - loss: 0.8061 - accuracy: 0.6237 - val_loss: 1.1501 - val_accuracy: 0.5150\n",
      "Epoch 4/10\n",
      " - 29s - loss: 0.7996 - accuracy: 0.6237 - val_loss: 1.1380 - val_accuracy: 0.5050\n",
      "Epoch 5/10\n",
      " - 29s - loss: 0.6439 - accuracy: 0.7188 - val_loss: 1.2297 - val_accuracy: 0.4550\n",
      "Epoch 6/10\n",
      " - 34s - loss: 0.4038 - accuracy: 0.8487 - val_loss: 1.1853 - val_accuracy: 0.5700\n",
      "Epoch 7/10\n",
      " - 35s - loss: 0.2993 - accuracy: 0.8913 - val_loss: 1.2880 - val_accuracy: 0.5450\n",
      "Epoch 8/10\n",
      " - 34s - loss: 0.2282 - accuracy: 0.9175 - val_loss: 1.4040 - val_accuracy: 0.5300\n",
      "Epoch 9/10\n",
      " - 35s - loss: 0.1928 - accuracy: 0.9212 - val_loss: 1.6927 - val_accuracy: 0.5500\n",
      "Epoch 10/10\n",
      " - 36s - loss: 0.1655 - accuracy: 0.9337 - val_loss: 1.5847 - val_accuracy: 0.5550\n"
     ]
    }
   ],
   "source": [
    "num_epochs = 10\n",
    "trained_model = model.fit([x_train_seq['title1'], x_train_seq['title2']], np.array(y_train_seq),\n",
    "                           epochs=num_epochs,\n",
    "                           validation_data=([x_validation_seq['title1'], x_validation_seq['title2']], np.array(y_validation_seq))\n",
    "                         , verbose=1,2)"
   ]
  },
  {
   "cell_type": "code",
   "execution_count": null,
   "metadata": {},
   "outputs": [],
   "source": []
  },
  {
   "cell_type": "code",
   "execution_count": 41,
   "metadata": {},
   "outputs": [],
   "source": [
    "# embedding_layer = tf.keras.layers.Embedding(vocab_size, embedding_size, \n",
    "#                                             input_length=max_len, trainable=True)\n",
    "# lstm_layer = LSTM(num_lstm, dropout=rate_drop_lstm, recurrent_dropout=rate_drop_lstm)\n",
    "\n",
    "# sequence_1_input = Input(shape=(MAX_SEQUENCE_LENGTH,), dtype='int32')\n",
    "# embedded_sequences_1 = embedding_layer(sequence_1_input)\n",
    "# x1 = lstm_layer(embedded_sequences_1)\n",
    "\n",
    "# sequence_2_input = Input(shape=(MAX_SEQUENCE_LENGTH,), dtype='int32')\n",
    "# embedded_sequences_2 = embedding_layer(sequence_2_input)\n",
    "# y1 = lstm_layer(embedded_sequences_2)\n",
    "\n",
    "# merged = Concatenate([x1, y1])\n",
    "# merged = Dropout(rate_drop_dense)(merged)\n",
    "# merged = BatchNormalization()(merged)\n",
    "\n",
    "# merged = Dense(num_dense, activation=act)(merged)\n",
    "# merged = Dropout(rate_drop_dense)(merged)\n",
    "# merged = BatchNormalization()(merged)\n",
    "\n",
    "# preds = Dense(1, activation='sigmoid')(merged)"
   ]
  },
  {
   "cell_type": "markdown",
   "metadata": {},
   "source": [
    "# BERT "
   ]
  },
  {
   "cell_type": "code",
   "execution_count": null,
   "metadata": {},
   "outputs": [],
   "source": []
  },
  {
   "cell_type": "code",
   "execution_count": null,
   "metadata": {},
   "outputs": [],
   "source": []
  },
  {
   "cell_type": "code",
   "execution_count": null,
   "metadata": {},
   "outputs": [],
   "source": []
  },
  {
   "cell_type": "code",
   "execution_count": null,
   "metadata": {},
   "outputs": [],
   "source": []
  }
 ],
 "metadata": {
  "kernelspec": {
   "display_name": "Python 3",
   "language": "python",
   "name": "python3"
  },
  "language_info": {
   "codemirror_mode": {
    "name": "ipython",
    "version": 3
   },
   "file_extension": ".py",
   "mimetype": "text/x-python",
   "name": "python",
   "nbconvert_exporter": "python",
   "pygments_lexer": "ipython3",
   "version": "3.7.4"
  }
 },
 "nbformat": 4,
 "nbformat_minor": 2
}
