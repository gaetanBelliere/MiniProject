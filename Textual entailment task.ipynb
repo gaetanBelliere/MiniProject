{
 "cells": [
  {
   "cell_type": "markdown",
   "metadata": {},
   "source": [
    "# Textual entailment task"
   ]
  },
  {
   "cell_type": "code",
   "execution_count": 25,
   "metadata": {},
   "outputs": [],
   "source": [
    "import tensorflow as tf\n",
    "import numpy as np\n",
    "import matplotlib.pyplot as plt\n",
    "import pandas as pd\n",
    "import json\n",
    "import string\n",
    "from tqdm import tqdm"
   ]
  },
  {
   "cell_type": "code",
   "execution_count": 17,
   "metadata": {},
   "outputs": [],
   "source": [
    "#If the file is downloaded to the format .json1 you have to rename the file and remove the \"1\" at the end.\n",
    "#Otherwise it's impossible to read the file\n",
    "datafile_fever = 'data/fever2-fixers-dev.json'\n",
    "datafile_train = 'data/train.csv'"
   ]
  },
  {
   "cell_type": "code",
   "execution_count": 47,
   "metadata": {},
   "outputs": [],
   "source": [
    "df_train = pd.read_csv(datafile_train, index_col='id').sort_index()"
   ]
  },
  {
   "cell_type": "code",
   "execution_count": 19,
   "metadata": {},
   "outputs": [],
   "source": [
    "df_fever = pd.read_json(datafile_fever, lines=True)#,orient='table')"
   ]
  },
  {
   "cell_type": "code",
   "execution_count": 48,
   "metadata": {
    "scrolled": true
   },
   "outputs": [
    {
     "data": {
      "text/html": [
       "<div>\n",
       "<style scoped>\n",
       "    .dataframe tbody tr th:only-of-type {\n",
       "        vertical-align: middle;\n",
       "    }\n",
       "\n",
       "    .dataframe tbody tr th {\n",
       "        vertical-align: top;\n",
       "    }\n",
       "\n",
       "    .dataframe thead th {\n",
       "        text-align: right;\n",
       "    }\n",
       "</style>\n",
       "<table border=\"1\" class=\"dataframe\">\n",
       "  <thead>\n",
       "    <tr style=\"text-align: right;\">\n",
       "      <th></th>\n",
       "      <th>tid1</th>\n",
       "      <th>tid2</th>\n",
       "      <th>title1_zh</th>\n",
       "      <th>title2_zh</th>\n",
       "      <th>title1_en</th>\n",
       "      <th>title2_en</th>\n",
       "      <th>label</th>\n",
       "    </tr>\n",
       "    <tr>\n",
       "      <th>id</th>\n",
       "      <th></th>\n",
       "      <th></th>\n",
       "      <th></th>\n",
       "      <th></th>\n",
       "      <th></th>\n",
       "      <th></th>\n",
       "      <th></th>\n",
       "    </tr>\n",
       "  </thead>\n",
       "  <tbody>\n",
       "    <tr>\n",
       "      <td>0</td>\n",
       "      <td>0</td>\n",
       "      <td>1</td>\n",
       "      <td>2017养老保险又新增两项，农村老人人人可申领，你领到了吗</td>\n",
       "      <td>警方辟谣“鸟巢大会每人领5万” 仍有老人坚持进京</td>\n",
       "      <td>There are two new old-age insurance benefits f...</td>\n",
       "      <td>Police disprove \"bird's nest congress each per...</td>\n",
       "      <td>unrelated</td>\n",
       "    </tr>\n",
       "    <tr>\n",
       "      <td>1</td>\n",
       "      <td>2</td>\n",
       "      <td>4</td>\n",
       "      <td>\"你不来深圳，早晚你儿子也要来\"，不出10年深圳人均GDP将超香港</td>\n",
       "      <td>GDP首超香港？深圳澄清：还差一点点……</td>\n",
       "      <td>\"If you do not come to Shenzhen, sooner or lat...</td>\n",
       "      <td>The GDP overtopped Hong Kong? Shenzhen clarifi...</td>\n",
       "      <td>unrelated</td>\n",
       "    </tr>\n",
       "    <tr>\n",
       "      <td>2</td>\n",
       "      <td>2</td>\n",
       "      <td>5</td>\n",
       "      <td>\"你不来深圳，早晚你儿子也要来\"，不出10年深圳人均GDP将超香港</td>\n",
       "      <td>去年深圳GDP首超香港？深圳统计局辟谣：还差611亿</td>\n",
       "      <td>\"If you do not come to Shenzhen, sooner or lat...</td>\n",
       "      <td>Shenzhen's GDP topped Hong Kong last year? She...</td>\n",
       "      <td>unrelated</td>\n",
       "    </tr>\n",
       "    <tr>\n",
       "      <td>3</td>\n",
       "      <td>2</td>\n",
       "      <td>3</td>\n",
       "      <td>\"你不来深圳，早晚你儿子也要来\"，不出10年深圳人均GDP将超香港</td>\n",
       "      <td>深圳GDP首超香港？深圳统计局辟谣：只是差距在缩小</td>\n",
       "      <td>\"If you do not come to Shenzhen, sooner or lat...</td>\n",
       "      <td>Shenzhen's GDP outstrips Hong Kong? Shenzhen S...</td>\n",
       "      <td>unrelated</td>\n",
       "    </tr>\n",
       "    <tr>\n",
       "      <td>4</td>\n",
       "      <td>2</td>\n",
       "      <td>8</td>\n",
       "      <td>\"你不来深圳，早晚你儿子也要来\"，不出10年深圳人均GDP将超香港</td>\n",
       "      <td>深圳GDP首超香港？统计局辟谣：未超但差距再度缩小</td>\n",
       "      <td>\"If you do not come to Shenzhen, sooner or lat...</td>\n",
       "      <td>Shenzhen's GDP overtakes Hong Kong? Bureau of ...</td>\n",
       "      <td>unrelated</td>\n",
       "    </tr>\n",
       "  </tbody>\n",
       "</table>\n",
       "</div>"
      ],
      "text/plain": [
       "    tid1  tid2                          title1_zh                   title2_zh  \\\n",
       "id                                                                              \n",
       "0      0     1      2017养老保险又新增两项，农村老人人人可申领，你领到了吗    警方辟谣“鸟巢大会每人领5万” 仍有老人坚持进京   \n",
       "1      2     4  \"你不来深圳，早晚你儿子也要来\"，不出10年深圳人均GDP将超香港        GDP首超香港？深圳澄清：还差一点点……   \n",
       "2      2     5  \"你不来深圳，早晚你儿子也要来\"，不出10年深圳人均GDP将超香港  去年深圳GDP首超香港？深圳统计局辟谣：还差611亿   \n",
       "3      2     3  \"你不来深圳，早晚你儿子也要来\"，不出10年深圳人均GDP将超香港   深圳GDP首超香港？深圳统计局辟谣：只是差距在缩小   \n",
       "4      2     8  \"你不来深圳，早晚你儿子也要来\"，不出10年深圳人均GDP将超香港   深圳GDP首超香港？统计局辟谣：未超但差距再度缩小   \n",
       "\n",
       "                                            title1_en  \\\n",
       "id                                                      \n",
       "0   There are two new old-age insurance benefits f...   \n",
       "1   \"If you do not come to Shenzhen, sooner or lat...   \n",
       "2   \"If you do not come to Shenzhen, sooner or lat...   \n",
       "3   \"If you do not come to Shenzhen, sooner or lat...   \n",
       "4   \"If you do not come to Shenzhen, sooner or lat...   \n",
       "\n",
       "                                            title2_en      label  \n",
       "id                                                                \n",
       "0   Police disprove \"bird's nest congress each per...  unrelated  \n",
       "1   The GDP overtopped Hong Kong? Shenzhen clarifi...  unrelated  \n",
       "2   Shenzhen's GDP topped Hong Kong last year? She...  unrelated  \n",
       "3   Shenzhen's GDP outstrips Hong Kong? Shenzhen S...  unrelated  \n",
       "4   Shenzhen's GDP overtakes Hong Kong? Bureau of ...  unrelated  "
      ]
     },
     "execution_count": 48,
     "metadata": {},
     "output_type": "execute_result"
    }
   ],
   "source": [
    "df_train.head()"
   ]
  },
  {
   "cell_type": "code",
   "execution_count": 38,
   "metadata": {},
   "outputs": [
    {
     "data": {
      "text/plain": [
       "(320552, 7)"
      ]
     },
     "execution_count": 38,
     "metadata": {},
     "output_type": "execute_result"
    }
   ],
   "source": [
    "df_train.shape"
   ]
  },
  {
   "cell_type": "code",
   "execution_count": 53,
   "metadata": {},
   "outputs": [
    {
     "data": {
      "text/html": [
       "<div>\n",
       "<style scoped>\n",
       "    .dataframe tbody tr th:only-of-type {\n",
       "        vertical-align: middle;\n",
       "    }\n",
       "\n",
       "    .dataframe tbody tr th {\n",
       "        vertical-align: top;\n",
       "    }\n",
       "\n",
       "    .dataframe thead th {\n",
       "        text-align: right;\n",
       "    }\n",
       "</style>\n",
       "<table border=\"1\" class=\"dataframe\">\n",
       "  <thead>\n",
       "    <tr style=\"text-align: right;\">\n",
       "      <th></th>\n",
       "      <th>id</th>\n",
       "      <th>label</th>\n",
       "      <th>claim</th>\n",
       "      <th>evidence</th>\n",
       "      <th>original_id</th>\n",
       "      <th>transformation</th>\n",
       "      <th>attack</th>\n",
       "      <th>annotation</th>\n",
       "    </tr>\n",
       "  </thead>\n",
       "  <tbody>\n",
       "    <tr>\n",
       "      <td>0</td>\n",
       "      <td>500000</td>\n",
       "      <td>NOT ENOUGH INFO</td>\n",
       "      <td>There is a convicted statutory rapist called C...</td>\n",
       "      <td>[[[269158, None, None, None]]]</td>\n",
       "      <td>225798.0</td>\n",
       "      <td>label_preserving</td>\n",
       "      <td>there.is.a.called</td>\n",
       "      <td>N/A</td>\n",
       "    </tr>\n",
       "    <tr>\n",
       "      <td>1</td>\n",
       "      <td>500001</td>\n",
       "      <td>SUPPORTS</td>\n",
       "      <td>There exists a producer and an actor called Si...</td>\n",
       "      <td>[[[141141, 156349, Simon_Pegg, 0]]]</td>\n",
       "      <td>120126.0</td>\n",
       "      <td>label_preserving</td>\n",
       "      <td>there.exists.a.called</td>\n",
       "      <td>N/A</td>\n",
       "    </tr>\n",
       "    <tr>\n",
       "      <td>2</td>\n",
       "      <td>500002</td>\n",
       "      <td>REFUTES</td>\n",
       "      <td>Exotic Birds rejected to be an opening band fo...</td>\n",
       "      <td>[[[25977, 31918, Exotic_Birds, 2], [25977, 319...</td>\n",
       "      <td>NaN</td>\n",
       "      <td>NaN</td>\n",
       "      <td>word replacement</td>\n",
       "      <td>OK - Claim is grammatical and label supported ...</td>\n",
       "    </tr>\n",
       "    <tr>\n",
       "      <td>3</td>\n",
       "      <td>500003</td>\n",
       "      <td>REFUTES</td>\n",
       "      <td>The Nice Guys is a 2016 American neo-noir acti...</td>\n",
       "      <td>[[[None, None, The_Nice_Guys, 0], [None, None,...</td>\n",
       "      <td>NaN</td>\n",
       "      <td>NaN</td>\n",
       "      <td>Multihop</td>\n",
       "      <td>OK - Claim is grammatical and label supported ...</td>\n",
       "    </tr>\n",
       "    <tr>\n",
       "      <td>4</td>\n",
       "      <td>500004</td>\n",
       "      <td>REFUTES</td>\n",
       "      <td>Rupert Murdoch's father was not connected to a...</td>\n",
       "      <td>[[[None, None, Rupert_Murdoch, 1], [None, None...</td>\n",
       "      <td>NaN</td>\n",
       "      <td>NaN</td>\n",
       "      <td>Multihop</td>\n",
       "      <td>OK - Claim is grammatical and label supported ...</td>\n",
       "    </tr>\n",
       "  </tbody>\n",
       "</table>\n",
       "</div>"
      ],
      "text/plain": [
       "       id            label                                              claim  \\\n",
       "0  500000  NOT ENOUGH INFO  There is a convicted statutory rapist called C...   \n",
       "1  500001         SUPPORTS  There exists a producer and an actor called Si...   \n",
       "2  500002          REFUTES  Exotic Birds rejected to be an opening band fo...   \n",
       "3  500003          REFUTES  The Nice Guys is a 2016 American neo-noir acti...   \n",
       "4  500004          REFUTES  Rupert Murdoch's father was not connected to a...   \n",
       "\n",
       "                                            evidence  original_id  \\\n",
       "0                     [[[269158, None, None, None]]]     225798.0   \n",
       "1                [[[141141, 156349, Simon_Pegg, 0]]]     120126.0   \n",
       "2  [[[25977, 31918, Exotic_Birds, 2], [25977, 319...          NaN   \n",
       "3  [[[None, None, The_Nice_Guys, 0], [None, None,...          NaN   \n",
       "4  [[[None, None, Rupert_Murdoch, 1], [None, None...          NaN   \n",
       "\n",
       "     transformation                 attack  \\\n",
       "0  label_preserving      there.is.a.called   \n",
       "1  label_preserving  there.exists.a.called   \n",
       "2               NaN       word replacement   \n",
       "3               NaN               Multihop   \n",
       "4               NaN               Multihop   \n",
       "\n",
       "                                          annotation  \n",
       "0                                                N/A  \n",
       "1                                                N/A  \n",
       "2  OK - Claim is grammatical and label supported ...  \n",
       "3  OK - Claim is grammatical and label supported ...  \n",
       "4  OK - Claim is grammatical and label supported ...  "
      ]
     },
     "execution_count": 53,
     "metadata": {},
     "output_type": "execute_result"
    }
   ],
   "source": [
    "df_fever.head()"
   ]
  },
  {
   "cell_type": "code",
   "execution_count": 54,
   "metadata": {},
   "outputs": [
    {
     "data": {
      "text/html": [
       "<div>\n",
       "<style scoped>\n",
       "    .dataframe tbody tr th:only-of-type {\n",
       "        vertical-align: middle;\n",
       "    }\n",
       "\n",
       "    .dataframe tbody tr th {\n",
       "        vertical-align: top;\n",
       "    }\n",
       "\n",
       "    .dataframe thead th {\n",
       "        text-align: right;\n",
       "    }\n",
       "</style>\n",
       "<table border=\"1\" class=\"dataframe\">\n",
       "  <thead>\n",
       "    <tr style=\"text-align: right;\">\n",
       "      <th></th>\n",
       "      <th>id</th>\n",
       "      <th>label</th>\n",
       "      <th>claim</th>\n",
       "      <th>evidence</th>\n",
       "      <th>original_id</th>\n",
       "      <th>transformation</th>\n",
       "      <th>attack</th>\n",
       "      <th>annotation</th>\n",
       "    </tr>\n",
       "  </thead>\n",
       "  <tbody>\n",
       "    <tr>\n",
       "      <td>5</td>\n",
       "      <td>500005</td>\n",
       "      <td>NOT ENOUGH INFO</td>\n",
       "      <td>There exists an award-winning TV series, it go...</td>\n",
       "      <td>[[[22421, None, None, None]]]</td>\n",
       "      <td>5743.0</td>\n",
       "      <td>label_preserving</td>\n",
       "      <td>there.exists.a.that.goes.by.name.of.prn</td>\n",
       "      <td>N/A</td>\n",
       "    </tr>\n",
       "    <tr>\n",
       "      <td>6</td>\n",
       "      <td>500006</td>\n",
       "      <td>NOT ENOUGH INFO</td>\n",
       "      <td>Omar Khadr was declared guilty and was detaine...</td>\n",
       "      <td>[[[None, None, None, None]]]</td>\n",
       "      <td>NaN</td>\n",
       "      <td>NaN</td>\n",
       "      <td>conjunction</td>\n",
       "      <td>UN - Claim is grammatical but label is incorre...</td>\n",
       "    </tr>\n",
       "    <tr>\n",
       "      <td>7</td>\n",
       "      <td>500007</td>\n",
       "      <td>SUPPORTS</td>\n",
       "      <td>Robert Kardashian is an ex-husband of a mother...</td>\n",
       "      <td>[[[None, None, Robert_Kardashian, 2], [None, N...</td>\n",
       "      <td>NaN</td>\n",
       "      <td>NaN</td>\n",
       "      <td>long chain of relations</td>\n",
       "      <td>OK - Claim is grammatical and label supported ...</td>\n",
       "    </tr>\n",
       "    <tr>\n",
       "      <td>8</td>\n",
       "      <td>500008</td>\n",
       "      <td>Not Enough Info</td>\n",
       "      <td>Antoine Berjon have studied medicine in his ea...</td>\n",
       "      <td>[[[58, 97, None, None]]]</td>\n",
       "      <td>NaN</td>\n",
       "      <td>NaN</td>\n",
       "      <td>NotClear</td>\n",
       "      <td>UN - Claim is grammatical but label is incorre...</td>\n",
       "    </tr>\n",
       "    <tr>\n",
       "      <td>9</td>\n",
       "      <td>500009</td>\n",
       "      <td>SUPPORTS</td>\n",
       "      <td>There is not a natural element that goes by th...</td>\n",
       "      <td>[[[130895, 145673, Moscovium, 0]], [[130895, 1...</td>\n",
       "      <td>111503.0</td>\n",
       "      <td>complex_negate</td>\n",
       "      <td>there.is.not.by.name</td>\n",
       "      <td>N/A</td>\n",
       "    </tr>\n",
       "  </tbody>\n",
       "</table>\n",
       "</div>"
      ],
      "text/plain": [
       "       id            label                                              claim  \\\n",
       "5  500005  NOT ENOUGH INFO  There exists an award-winning TV series, it go...   \n",
       "6  500006  NOT ENOUGH INFO  Omar Khadr was declared guilty and was detaine...   \n",
       "7  500007         SUPPORTS  Robert Kardashian is an ex-husband of a mother...   \n",
       "8  500008  Not Enough Info  Antoine Berjon have studied medicine in his ea...   \n",
       "9  500009         SUPPORTS  There is not a natural element that goes by th...   \n",
       "\n",
       "                                            evidence  original_id  \\\n",
       "5                      [[[22421, None, None, None]]]       5743.0   \n",
       "6                       [[[None, None, None, None]]]          NaN   \n",
       "7  [[[None, None, Robert_Kardashian, 2], [None, N...          NaN   \n",
       "8                           [[[58, 97, None, None]]]          NaN   \n",
       "9  [[[130895, 145673, Moscovium, 0]], [[130895, 1...     111503.0   \n",
       "\n",
       "     transformation                                   attack  \\\n",
       "5  label_preserving  there.exists.a.that.goes.by.name.of.prn   \n",
       "6               NaN                              conjunction   \n",
       "7               NaN                  long chain of relations   \n",
       "8               NaN                                 NotClear   \n",
       "9    complex_negate                     there.is.not.by.name   \n",
       "\n",
       "                                          annotation  \n",
       "5                                                N/A  \n",
       "6  UN - Claim is grammatical but label is incorre...  \n",
       "7  OK - Claim is grammatical and label supported ...  \n",
       "8  UN - Claim is grammatical but label is incorre...  \n",
       "9                                                N/A  "
      ]
     },
     "execution_count": 54,
     "metadata": {},
     "output_type": "execute_result"
    }
   ],
   "source": [
    "df_fever[5:10]"
   ]
  },
  {
   "cell_type": "markdown",
   "metadata": {},
   "source": [
    "# Data exploration"
   ]
  },
  {
   "cell_type": "code",
   "execution_count": 35,
   "metadata": {},
   "outputs": [
    {
     "data": {
      "text/plain": [
       "transformation    676\n",
       "original_id       676\n",
       "dtype: int64"
      ]
     },
     "execution_count": 35,
     "metadata": {},
     "output_type": "execute_result"
    }
   ],
   "source": [
    "null_counts = df_fever.isnull().sum()\n",
    "null_counts[null_counts > 0].sort_values(ascending=False)"
   ]
  },
  {
   "cell_type": "code",
   "execution_count": 41,
   "metadata": {},
   "outputs": [
    {
     "data": {
      "text/plain": [
       "title2_zh    7\n",
       "dtype: int64"
      ]
     },
     "execution_count": 41,
     "metadata": {},
     "output_type": "execute_result"
    }
   ],
   "source": [
    "null_counts = df_train.isnull().sum()\n",
    "null_counts[null_counts > 0].sort_values(ascending=False)"
   ]
  },
  {
   "cell_type": "markdown",
   "metadata": {},
   "source": [
    "# Preprocessing\n",
    "- Cleaning data\n",
    "- Lower case\n",
    "- Deal with N/A and NaN"
   ]
  },
  {
   "cell_type": "code",
   "execution_count": 65,
   "metadata": {},
   "outputs": [],
   "source": [
    "translator = str.maketrans('','', string.punctuation)\n",
    "df_train['title1_en'] = df_train['title1_en'].str.lower().str.translate(translator)\n",
    "df_train['title2_en'] = df_train['title2_en'].str.lower().str.translate(translator)\n",
    "df_fever['claim']     = df_fever['claim'].str.lower().str.translate(translator)"
   ]
  },
  {
   "cell_type": "markdown",
   "metadata": {},
   "source": [
    "# LSTM ?"
   ]
  },
  {
   "cell_type": "code",
   "execution_count": null,
   "metadata": {},
   "outputs": [],
   "source": []
  },
  {
   "cell_type": "markdown",
   "metadata": {},
   "source": [
    "# BERT ?"
   ]
  },
  {
   "cell_type": "code",
   "execution_count": null,
   "metadata": {},
   "outputs": [],
   "source": []
  },
  {
   "cell_type": "markdown",
   "metadata": {},
   "source": [
    "# RNN ?"
   ]
  },
  {
   "cell_type": "code",
   "execution_count": null,
   "metadata": {},
   "outputs": [],
   "source": []
  },
  {
   "cell_type": "markdown",
   "metadata": {},
   "source": [
    "# Deep Learning ?"
   ]
  },
  {
   "cell_type": "code",
   "execution_count": null,
   "metadata": {},
   "outputs": [],
   "source": []
  }
 ],
 "metadata": {
  "kernelspec": {
   "display_name": "Python 3",
   "language": "python",
   "name": "python3"
  },
  "language_info": {
   "codemirror_mode": {
    "name": "ipython",
    "version": 3
   },
   "file_extension": ".py",
   "mimetype": "text/x-python",
   "name": "python",
   "nbconvert_exporter": "python",
   "pygments_lexer": "ipython3",
   "version": "3.7.4"
  }
 },
 "nbformat": 4,
 "nbformat_minor": 2
}
